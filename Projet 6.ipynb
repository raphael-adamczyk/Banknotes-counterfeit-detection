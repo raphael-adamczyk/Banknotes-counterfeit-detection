{
 "cells": [
  {
   "cell_type": "markdown",
   "metadata": {},
   "source": [
    "Point d'amélioration à corriger un jour...:\n",
    "- Tester la normalité de la variable \"Diagonal\" avant d'appliquer le test d'Anova.\n",
    "- Explorer davantage les résultats de la régression logistique : interpréter les coefficients du modèle et les p-values du test de Wald. "
   ]
  },
  {
   "cell_type": "markdown",
   "metadata": {},
   "source": [
    "# Projet 6: [Détectez des faux billets](#M0)"
   ]
  },
  {
   "cell_type": "markdown",
   "metadata": {},
   "source": [
    "# Table des matières\n",
    "**[Mission 0 - Description des données](#M0)**\n",
    "- [1. Analyse univariée](#M01)\n",
    "- [2. Analyse bivariée](#M02)\n",
    "    - [a) Authenticité et mesures des billets](#M021)\n",
    "    - [b) ANOVA](#M022)\n",
    "    - [c) Corrélations entre variables](#M023)\n",
    "        - [Sur l'ensemble des billets](#M0231)\n",
    "        - [Suivant l'authenticité des billets](#M0232)\n",
    "            \n",
    "**[Mission 1 - Analyse exploratoire des données](#M1)**\n",
    "- [1. Détermination du nombre de composantes principales](#M11)\n",
    "    - [Etude de l'inertie](#M111)\n",
    "- [2. Analyse des composantes principales](#M12)\n",
    "    - [a) Etude des plans factoriels de l'ACP à observer](#M121)\n",
    "    - [b) Premier plan factoriel](#M122)\n",
    "        - [i) Représentation des variables par le cercle des corrélations](#M1221)\n",
    "        - [ii) Représentation des individus par le premier plan factoriel](#M1222)\n",
    "    - [c) Deuxième plan factoriel](#M123)\n",
    "        - [i) Représentation des variables par le cercle des corrélations](#M1231)\n",
    "        - [ii) Représentation des individus par le deuxième plan factoriel](#M1232)\n",
    "- [3. Qualité de représentation et contributions des individus](#M13)\n",
    "    - [b) Premier plan factoriel](#M131)\n",
    "        - [i) Qualité de représentation des indvidus](#M1311)\n",
    "        - [ii) Contribution des individus](#M1312)\n",
    "    - [c) Deuxième plan factoriel](#M132)\n",
    "        - [i) Qualité de représentation des indvidus](#M1321)\n",
    "        - [ii) Contribution des individus](#M1322)\n",
    "\n",
    "**[Mission 2 - Algorithme de classification](#M2)**\n",
    "- [1. Clustering par la méthode des k-means](#M21)\n",
    "    - [a) Détermination du nombre de classes](#M211)\n",
    "    - [b) Partionnement](#M212)\n",
    "- [2. Clustering par classification hiérarchique ascendante](#M22)\n",
    "    - [a) Distance euclidienne](#M221)\n",
    "        - [Méthode \"ward.D2\"](#M2211)\n",
    "        - [Méthode \"average\"](#M2212)\n",
    "        - [Méthode \"single\"](#M2213)\n",
    "        - [Méthode \"macquitty\"](#M2214)\n",
    "        - [Méthode \"median\"](#M2215)\n",
    "        - [Méthode \"centroid\"](#M2216)\n",
    "    - [b) Distance \"manhattan\" et méthode \"average\"](#M222)\n",
    "    - [c) Distance maximale et méthode \"ward.D2\"](#M223)\n",
    "    - [d) Distance \"canberra\" et méthode \"complete\"](#M224)\n",
    "    - [e) Distance \"minkowski\" et méthode \"average\"](#M225)\n",
    "- [3. Clustering par l'utilisation de HCPC Factominer](#M23)\n",
    "- [4. Comparaison entre la meilleure méthode des k-means et la meilleur des CAH](#M24)\n",
    "\n",
    "**[Mission 3 - Analyse prédictive](#M3)**\n",
    "- [1. Modélisation à l'aide d'une régression logistique multiple à variable binaire](#M31)\n",
    "    - [a) Modélisation](#M311)\n",
    "    - [b) Evaluation statistique de la régression](#M312)\n",
    "    - [c) Calcul des odds-ratios](#M313)\n",
    "    - [d) Courbe ROC](#M314)\n",
    "- [2. Identification des billets](#M32)\n",
    "    - [a) Programme](#M321)\n",
    "    - [b) Vérification par le graphique des individus](#M322)    "
   ]
  },
  {
   "cell_type": "code",
   "execution_count": 1,
   "metadata": {},
   "outputs": [
    {
     "name": "stderr",
     "output_type": "stream",
     "text": [
      "Warning message:\n",
      "\"package 'tibble' was built under R version 3.6.3\"Warning message:\n",
      "\"package 'dplyr' was built under R version 3.6.3\"\n",
      "Attaching package: 'dplyr'\n",
      "\n",
      "The following objects are masked from 'package:stats':\n",
      "\n",
      "    filter, lag\n",
      "\n",
      "The following objects are masked from 'package:base':\n",
      "\n",
      "    intersect, setdiff, setequal, union\n",
      "\n",
      "Warning message:\n",
      "\"package 'tidyr' was built under R version 3.6.3\"Warning message:\n",
      "\"package 'FactoMineR' was built under R version 3.6.3\"Warning message:\n",
      "\"package 'factoextra' was built under R version 3.6.3\"Loading required package: ggplot2\n",
      "Warning message:\n",
      "\"package 'ggplot2' was built under R version 3.6.3\"Welcome! Want to learn more? See two factoextra-related books at https://goo.gl/ve3WBa\n",
      "Warning message:\n",
      "\"package 'missMDA' was built under R version 3.6.3\"Warning message:\n",
      "\"package 'corrplot' was built under R version 3.6.3\"corrplot 0.84 loaded\n",
      "Warning message:\n",
      "\"package 'reshape2' was built under R version 3.6.3\"\n",
      "Attaching package: 'reshape2'\n",
      "\n",
      "The following object is masked from 'package:tidyr':\n",
      "\n",
      "    smiths\n",
      "\n",
      "Warning message:\n",
      "\"package 'EnvStats' was built under R version 3.6.3\"\n",
      "Attaching package: 'EnvStats'\n",
      "\n",
      "The following objects are masked from 'package:stats':\n",
      "\n",
      "    predict, predict.lm\n",
      "\n",
      "The following object is masked from 'package:base':\n",
      "\n",
      "    print.default\n",
      "\n",
      "Warning message:\n",
      "\"package 'Hmisc' was built under R version 3.6.3\"Loading required package: lattice\n",
      "Loading required package: survival\n",
      "Warning message:\n",
      "\"package 'survival' was built under R version 3.6.3\"Loading required package: Formula\n",
      "Warning message:\n",
      "\"package 'Formula' was built under R version 3.6.3\"\n",
      "Attaching package: 'Hmisc'\n",
      "\n",
      "The following object is masked from 'package:EnvStats':\n",
      "\n",
      "    stripChart\n",
      "\n",
      "The following objects are masked from 'package:dplyr':\n",
      "\n",
      "    src, summarize\n",
      "\n",
      "The following objects are masked from 'package:base':\n",
      "\n",
      "    format.pval, units\n",
      "\n",
      "Warning message:\n",
      "\"package 'devtools' was built under R version 3.6.3\"Loading required package: usethis\n",
      "Warning message:\n",
      "\"package 'usethis' was built under R version 3.6.3\"Warning message:\n",
      "\"package 'ggpubr' was built under R version 3.6.3\"Warning message:\n",
      "\"package 'ggcorrplot' was built under R version 3.6.3\"Warning message:\n",
      "\"package 'fpc' was built under R version 3.6.3\"Warning message:\n",
      "\"package 'caret' was built under R version 3.6.3\"\n",
      "Attaching package: 'caret'\n",
      "\n",
      "The following object is masked from 'package:survival':\n",
      "\n",
      "    cluster\n",
      "\n",
      "\n",
      "Attaching package: 'MASS'\n",
      "\n",
      "The following object is masked from 'package:EnvStats':\n",
      "\n",
      "    boxcox\n",
      "\n",
      "The following object is masked from 'package:dplyr':\n",
      "\n",
      "    select\n",
      "\n",
      "Warning message:\n",
      "\"package 'pROC' was built under R version 3.6.3\"Type 'citation(\"pROC\")' for a citation.\n",
      "\n",
      "Attaching package: 'pROC'\n",
      "\n",
      "The following objects are masked from 'package:stats':\n",
      "\n",
      "    cov, smooth, var\n",
      "\n"
     ]
    }
   ],
   "source": [
    "library(tibble)\n",
    "library(dplyr) \n",
    "library(tidyr)\n",
    "library(FactoMineR) \n",
    "library(factoextra) \n",
    "library(missMDA)  \n",
    "library(ggplot2)  \n",
    "library(corrplot) \n",
    "library(repr) \n",
    "library(reshape2)\n",
    "library(EnvStats) \n",
    "library(normtest) \n",
    "library(Hmisc) # matrice de corrélations\n",
    "library(devtools)\n",
    "library(ggpubr)\n",
    "library(ggcorrplot)\n",
    "library(stats)\n",
    "library(fpc) # indice de Calinski-Harabasz\n",
    "library(caret) # matrice de confusion et validation croisée, analyse prédictive (modélisation)\n",
    "library(MASS) # modèle pas à pas basé sur le critère d'Akaïke\n",
    "library(pROC) # courbe ROC"
   ]
  },
  {
   "cell_type": "code",
   "execution_count": 2,
   "metadata": {},
   "outputs": [],
   "source": [
    "options(repr.matrix.max.rows = 600, repr.matrix.max.cols = 200)"
   ]
  },
  {
   "cell_type": "markdown",
   "metadata": {},
   "source": [
    "# Mission 0 - Description des données.<a name=\"M0\"></a>\n",
    "## <span style='color:blue'>1. Analyse univariée.<a name=\"M01\"></a>"
   ]
  },
  {
   "cell_type": "code",
   "execution_count": 3,
   "metadata": {},
   "outputs": [
    {
     "data": {
      "text/html": [
       "<ol class=list-inline>\n",
       "\t<li>170</li>\n",
       "\t<li>7</li>\n",
       "</ol>\n"
      ],
      "text/latex": [
       "\\begin{enumerate*}\n",
       "\\item 170\n",
       "\\item 7\n",
       "\\end{enumerate*}\n"
      ],
      "text/markdown": [
       "1. 170\n",
       "2. 7\n",
       "\n",
       "\n"
      ],
      "text/plain": [
       "[1] 170   7"
      ]
     },
     "metadata": {},
     "output_type": "display_data"
    },
    {
     "data": {
      "text/html": [
       "<table>\n",
       "<thead><tr><th></th><th scope=col>is_genuine</th><th scope=col>diagonal</th><th scope=col>height_left</th><th scope=col>height_right</th><th scope=col>margin_low</th><th scope=col>margin_up</th><th scope=col>length</th></tr></thead>\n",
       "<tbody>\n",
       "\t<tr><th scope=row>93</th><td>True  </td><td>171.86</td><td>103.47</td><td>103.59</td><td>4.04  </td><td>2.97  </td><td>113.22</td></tr>\n",
       "\t<tr><th scope=row>94</th><td>True  </td><td>171.64</td><td>103.58</td><td>103.46</td><td>3.72  </td><td>3.20  </td><td>113.30</td></tr>\n",
       "\t<tr><th scope=row>95</th><td>True  </td><td>171.79</td><td>103.65</td><td>103.61</td><td>4.19  </td><td>3.06  </td><td>113.60</td></tr>\n",
       "\t<tr><th scope=row>96</th><td>True  </td><td>172.49</td><td>103.92</td><td>103.91</td><td>4.42  </td><td>2.84  </td><td>113.38</td></tr>\n",
       "\t<tr><th scope=row>97</th><td>True  </td><td>172.00</td><td>104.32</td><td>104.26</td><td>4.53  </td><td>3.04  </td><td>112.93</td></tr>\n",
       "\t<tr><th scope=row>98</th><td>True  </td><td>171.49</td><td>103.77</td><td>103.60</td><td>4.01  </td><td>3.09  </td><td>112.95</td></tr>\n",
       "\t<tr><th scope=row>99</th><td>True  </td><td>172.10</td><td>103.98</td><td>103.86</td><td>4.47  </td><td>3.06  </td><td>113.00</td></tr>\n",
       "\t<tr><th scope=row>100</th><td>True  </td><td>171.81</td><td>103.96</td><td>103.47</td><td>4.00  </td><td>3.00  </td><td>113.10</td></tr>\n",
       "\t<tr><th scope=row>101</th><td>False </td><td>171.45</td><td>104.03</td><td>104.26</td><td>4.88  </td><td>3.44  </td><td>111.92</td></tr>\n",
       "\t<tr><th scope=row>102</th><td>False </td><td>171.97</td><td>104.38</td><td>104.18</td><td>5.59  </td><td>3.47  </td><td>110.98</td></tr>\n",
       "\t<tr><th scope=row>103</th><td>False </td><td>171.94</td><td>104.21</td><td>104.10</td><td>4.28  </td><td>3.47  </td><td>112.23</td></tr>\n",
       "\t<tr><th scope=row>104</th><td>False </td><td>172.04</td><td>104.34</td><td>104.48</td><td>4.88  </td><td>3.28  </td><td>112.15</td></tr>\n",
       "\t<tr><th scope=row>105</th><td>False </td><td>171.75</td><td>104.16</td><td>104.23</td><td>5.75  </td><td>3.25  </td><td>111.68</td></tr>\n",
       "\t<tr><th scope=row>106</th><td>False </td><td>171.99</td><td>104.18</td><td>104.20</td><td>5.26  </td><td>3.23  </td><td>111.83</td></tr>\n",
       "\t<tr><th scope=row>107</th><td>False </td><td>172.22</td><td>104.17</td><td>104.07</td><td>4.52  </td><td>3.67  </td><td>112.13</td></tr>\n",
       "\t<tr><th scope=row>108</th><td>False </td><td>171.79</td><td>104.05</td><td>104.30</td><td>5.02  </td><td>3.44  </td><td>112.01</td></tr>\n",
       "</tbody>\n",
       "</table>\n"
      ],
      "text/latex": [
       "\\begin{tabular}{r|lllllll}\n",
       "  & is\\_genuine & diagonal & height\\_left & height\\_right & margin\\_low & margin\\_up & length\\\\\n",
       "\\hline\n",
       "\t93 & True   & 171.86 & 103.47 & 103.59 & 4.04   & 2.97   & 113.22\\\\\n",
       "\t94 & True   & 171.64 & 103.58 & 103.46 & 3.72   & 3.20   & 113.30\\\\\n",
       "\t95 & True   & 171.79 & 103.65 & 103.61 & 4.19   & 3.06   & 113.60\\\\\n",
       "\t96 & True   & 172.49 & 103.92 & 103.91 & 4.42   & 2.84   & 113.38\\\\\n",
       "\t97 & True   & 172.00 & 104.32 & 104.26 & 4.53   & 3.04   & 112.93\\\\\n",
       "\t98 & True   & 171.49 & 103.77 & 103.60 & 4.01   & 3.09   & 112.95\\\\\n",
       "\t99 & True   & 172.10 & 103.98 & 103.86 & 4.47   & 3.06   & 113.00\\\\\n",
       "\t100 & True   & 171.81 & 103.96 & 103.47 & 4.00   & 3.00   & 113.10\\\\\n",
       "\t101 & False  & 171.45 & 104.03 & 104.26 & 4.88   & 3.44   & 111.92\\\\\n",
       "\t102 & False  & 171.97 & 104.38 & 104.18 & 5.59   & 3.47   & 110.98\\\\\n",
       "\t103 & False  & 171.94 & 104.21 & 104.10 & 4.28   & 3.47   & 112.23\\\\\n",
       "\t104 & False  & 172.04 & 104.34 & 104.48 & 4.88   & 3.28   & 112.15\\\\\n",
       "\t105 & False  & 171.75 & 104.16 & 104.23 & 5.75   & 3.25   & 111.68\\\\\n",
       "\t106 & False  & 171.99 & 104.18 & 104.20 & 5.26   & 3.23   & 111.83\\\\\n",
       "\t107 & False  & 172.22 & 104.17 & 104.07 & 4.52   & 3.67   & 112.13\\\\\n",
       "\t108 & False  & 171.79 & 104.05 & 104.30 & 5.02   & 3.44   & 112.01\\\\\n",
       "\\end{tabular}\n"
      ],
      "text/markdown": [
       "\n",
       "| <!--/--> | is_genuine | diagonal | height_left | height_right | margin_low | margin_up | length |\n",
       "|---|---|---|---|---|---|---|---|\n",
       "| 93 | True   | 171.86 | 103.47 | 103.59 | 4.04   | 2.97   | 113.22 |\n",
       "| 94 | True   | 171.64 | 103.58 | 103.46 | 3.72   | 3.20   | 113.30 |\n",
       "| 95 | True   | 171.79 | 103.65 | 103.61 | 4.19   | 3.06   | 113.60 |\n",
       "| 96 | True   | 172.49 | 103.92 | 103.91 | 4.42   | 2.84   | 113.38 |\n",
       "| 97 | True   | 172.00 | 104.32 | 104.26 | 4.53   | 3.04   | 112.93 |\n",
       "| 98 | True   | 171.49 | 103.77 | 103.60 | 4.01   | 3.09   | 112.95 |\n",
       "| 99 | True   | 172.10 | 103.98 | 103.86 | 4.47   | 3.06   | 113.00 |\n",
       "| 100 | True   | 171.81 | 103.96 | 103.47 | 4.00   | 3.00   | 113.10 |\n",
       "| 101 | False  | 171.45 | 104.03 | 104.26 | 4.88   | 3.44   | 111.92 |\n",
       "| 102 | False  | 171.97 | 104.38 | 104.18 | 5.59   | 3.47   | 110.98 |\n",
       "| 103 | False  | 171.94 | 104.21 | 104.10 | 4.28   | 3.47   | 112.23 |\n",
       "| 104 | False  | 172.04 | 104.34 | 104.48 | 4.88   | 3.28   | 112.15 |\n",
       "| 105 | False  | 171.75 | 104.16 | 104.23 | 5.75   | 3.25   | 111.68 |\n",
       "| 106 | False  | 171.99 | 104.18 | 104.20 | 5.26   | 3.23   | 111.83 |\n",
       "| 107 | False  | 172.22 | 104.17 | 104.07 | 4.52   | 3.67   | 112.13 |\n",
       "| 108 | False  | 171.79 | 104.05 | 104.30 | 5.02   | 3.44   | 112.01 |\n",
       "\n"
      ],
      "text/plain": [
       "    is_genuine diagonal height_left height_right margin_low margin_up length\n",
       "93  True       171.86   103.47      103.59       4.04       2.97      113.22\n",
       "94  True       171.64   103.58      103.46       3.72       3.20      113.30\n",
       "95  True       171.79   103.65      103.61       4.19       3.06      113.60\n",
       "96  True       172.49   103.92      103.91       4.42       2.84      113.38\n",
       "97  True       172.00   104.32      104.26       4.53       3.04      112.93\n",
       "98  True       171.49   103.77      103.60       4.01       3.09      112.95\n",
       "99  True       172.10   103.98      103.86       4.47       3.06      113.00\n",
       "100 True       171.81   103.96      103.47       4.00       3.00      113.10\n",
       "101 False      171.45   104.03      104.26       4.88       3.44      111.92\n",
       "102 False      171.97   104.38      104.18       5.59       3.47      110.98\n",
       "103 False      171.94   104.21      104.10       4.28       3.47      112.23\n",
       "104 False      172.04   104.34      104.48       4.88       3.28      112.15\n",
       "105 False      171.75   104.16      104.23       5.75       3.25      111.68\n",
       "106 False      171.99   104.18      104.20       5.26       3.23      111.83\n",
       "107 False      172.22   104.17      104.07       4.52       3.67      112.13\n",
       "108 False      171.79   104.05      104.30       5.02       3.44      112.01"
      ]
     },
     "metadata": {},
     "output_type": "display_data"
    }
   ],
   "source": [
    "notes <- read.csv('notes.csv', encoding = 'UTF-8')\n",
    "dim(notes)\n",
    "notes[93:108, ]"
   ]
  },
  {
   "cell_type": "code",
   "execution_count": 4,
   "metadata": {},
   "outputs": [
    {
     "data": {
      "text/plain": [
       " is_genuine     diagonal      height_left     height_right     margin_low   \n",
       " False: 70   Min.   :171.0   Min.   :103.2   Min.   :103.1   Min.   :3.540  \n",
       " True :100   1st Qu.:171.7   1st Qu.:103.8   1st Qu.:103.7   1st Qu.:4.050  \n",
       "             Median :171.9   Median :104.1   Median :104.0   Median :4.450  \n",
       "             Mean   :171.9   Mean   :104.1   Mean   :103.9   Mean   :4.612  \n",
       "             3rd Qu.:172.1   3rd Qu.:104.3   3rd Qu.:104.2   3rd Qu.:5.128  \n",
       "             Max.   :173.0   Max.   :104.9   Max.   :105.0   Max.   :6.280  \n",
       "   margin_up         length     \n",
       " Min.   :2.270   Min.   :110.0  \n",
       " 1st Qu.:3.013   1st Qu.:111.9  \n",
       " Median :3.170   Median :112.8  \n",
       " Mean   :3.170   Mean   :112.6  \n",
       " 3rd Qu.:3.330   3rd Qu.:113.3  \n",
       " Max.   :3.680   Max.   :114.0  "
      ]
     },
     "metadata": {},
     "output_type": "display_data"
    }
   ],
   "source": [
    "summary(notes)"
   ]
  },
  {
   "cell_type": "markdown",
   "metadata": {},
   "source": [
    "CCL: Pas de valeurs manquantes."
   ]
  },
  {
   "cell_type": "code",
   "execution_count": 5,
   "metadata": {},
   "outputs": [
    {
     "data": {
      "text/html": [
       "0"
      ],
      "text/latex": [
       "0"
      ],
      "text/markdown": [
       "0"
      ],
      "text/plain": [
       "[1] 0"
      ]
     },
     "metadata": {},
     "output_type": "display_data"
    }
   ],
   "source": [
    "sum(duplicated(notes))"
   ]
  },
  {
   "cell_type": "markdown",
   "metadata": {},
   "source": [
    "CCL: Pas de doublons."
   ]
  },
  {
   "cell_type": "code",
   "execution_count": 6,
   "metadata": {},
   "outputs": [
    {
     "data": {
      "text/plain": [
       "\n",
       "False  True \n",
       " 41.2  58.8 "
      ]
     },
     "metadata": {},
     "output_type": "display_data"
    },
    {
     "data": {
      "image/png": "[encoded data removed]",
      "text/plain": [
       "Plot with title \"Proportion de billets suivant l'authenticité\""
      ]
     },
     "metadata": {},
     "output_type": "display_data"
    }
   ],
   "source": [
    "options(repr.plot.width = 4, repr.plot.height = 3.5)\n",
    "plot(notes$is_genuine, col = c('red', 'blue'), cex.main = 1.1, main = 'Proportion de billets suivant l\\'authenticité')\n",
    "round(prop.table(table(notes$is_genuine))*100, 1)"
   ]
  },
  {
   "cell_type": "markdown",
   "metadata": {},
   "source": [
    "CCL: Il y a 100 billets vrais et 70 billets faux, ce qui représente à peu près une proportion 60% - 40%."
   ]
  },
  {
   "cell_type": "markdown",
   "metadata": {},
   "source": [
    "## <span style='color:blue'>2. Analyse bivariée.<a name=\"M02\"></a>\n",
    "### <span style='color:brown'>a) Authenticité et mesures des billets:<a name=\"M021\"></a>"
   ]
  },
  {
   "cell_type": "markdown",
   "metadata": {},
   "source": [
    "### Répartition des mesures de chaque variable suivant l'authenticité du billet:"
   ]
  },
  {
   "cell_type": "code",
   "execution_count": 7,
   "metadata": {
    "scrolled": false
   },
   "outputs": [
    {
     "data": {
      "image/png": "[encoded data removed]",
      "text/plain": [
       "Plot with title \"length\""
      ]
     },
     "metadata": {},
     "output_type": "display_data"
    }
   ],
   "source": [
    "options(repr.plot.width = 8, repr.plot.height = 5)\n",
    "par(mfrow = c(2, 3))\n",
    "for (i in seq(2, 7))\n",
    "{\n",
    "    boxplot(notes[, i] ~ notes$is_genuine, xlab = \"\", ylab = \"\", main = names(notes)[i], col = c('red', 'blue'), horizontal = T,\n",
    "           las = 1, cex.axis = 1.2, cex.main = 1.5)\n",
    "}"
   ]
  },
  {
   "cell_type": "markdown",
   "metadata": {},
   "source": [
    "CCL: Présence de peu d'outliers, qui pourront être considérés par la suite comme des valeurs non aberrantes (en raison du peu d'écart avec les extrémités des boxplot). "
   ]
  },
  {
   "cell_type": "markdown",
   "metadata": {},
   "source": [
    "### Courbes de densité des variables suivant l'authenticité des billets:"
   ]
  },
  {
   "cell_type": "code",
   "execution_count": 8,
   "metadata": {
    "scrolled": false
   },
   "outputs": [
    {
     "data": {
      "image/png": "[encoded data removed]",
      "text/plain": [
       "plot without title"
      ]
     },
     "metadata": {},
     "output_type": "display_data"
    }
   ],
   "source": [
    "options(repr.plot.width = 8, repr.plot.height = 4.5)\n",
    "g1 <- ggdensity(notes, x = 'diagonal', fill = 'is_genuine', palette = 'npj')\n",
    "g2 <- ggdensity(notes, x = 'height_left', fill = 'is_genuine', palette = 'npj')\n",
    "g3 <- ggdensity(notes, x = 'height_right', fill = 'is_genuine', palette = 'npj')\n",
    "g4 <- ggdensity(notes, x = 'margin_low', fill = 'is_genuine', palette = 'npj')\n",
    "g5 <- ggdensity(notes, x = 'margin_up', fill = 'is_genuine', palette = 'npj')\n",
    "g6 <- ggdensity(notes, x = 'length', fill = 'is_genuine', palette = 'npj')\n",
    "ggarrange(g1, g2, g3, g4, g5, g6, common.legend = TRUE, legend = \"bottom\")"
   ]
  },
  {
   "cell_type": "markdown",
   "metadata": {},
   "source": [
    "CCL: Les faux billet auraient principalement une marge basse plus grande et une longueur plus petite que les vrais billets."
   ]
  },
  {
   "cell_type": "markdown",
   "metadata": {},
   "source": [
    "### <span style='color:brown'>b) ANOVA:<a name=\"M022\"></a>"
   ]
  },
  {
   "cell_type": "markdown",
   "metadata": {},
   "source": [
    "Vérifions l'intérêt des variables pour savoir si elles sont déterminantes à tester l'authenticité des billets.<br/>\n",
    "Pour cela, on compare les moyennes de chaque variable suivant l'authenticité des billets.<br/>\n",
    "\n",
    "Hypothèse nulle H0: les moyennes de chaque groupes propre à la variable sont égales.<br/>\n",
    "Hypthèse alternative H1: les moyennes de chaque groupe propre à la variable sont différentes.<br/>\n",
    "Le test est bilatéral car H0 différent de H1.<br/>\n",
    "\n",
    "Le seuil de risque alpha est fixé à 5%.<br/>\n",
    "Si la p-value est inférieur à alpha, le test sera significatif, on rejettera donc l'hypothèse nulle."
   ]
  },
  {
   "cell_type": "code",
   "execution_count": 9,
   "metadata": {},
   "outputs": [
    {
     "data": {
      "text/plain": [
       "                  Df Sum Sq Mean Sq F value Pr(>F)  \n",
       "notes$is_genuine   1  0.306 0.30626   3.321 0.0702 .\n",
       "Residuals        168 15.494 0.09223                 \n",
       "---\n",
       "Signif. codes:  0 '***' 0.001 '**' 0.01 '*' 0.05 '.' 0.1 ' ' 1"
      ]
     },
     "metadata": {},
     "output_type": "display_data"
    }
   ],
   "source": [
    "summary(aov(notes[, 'diagonal'] ~ notes$is_genuine, notes))"
   ]
  },
  {
   "cell_type": "code",
   "execution_count": 10,
   "metadata": {},
   "outputs": [
    {
     "data": {
      "text/plain": [
       "                  Df Sum Sq Mean Sq F value   Pr(>F)    \n",
       "notes$is_genuine   1  3.204   3.204   45.52 2.33e-10 ***\n",
       "Residuals        168 11.823   0.070                     \n",
       "---\n",
       "Signif. codes:  0 '***' 0.001 '**' 0.01 '*' 0.05 '.' 0.1 ' ' 1"
      ]
     },
     "metadata": {},
     "output_type": "display_data"
    }
   ],
   "source": [
    "summary(aov(notes[, 'height_left'] ~ notes$is_genuine, notes))"
   ]
  },
  {
   "cell_type": "code",
   "execution_count": 11,
   "metadata": {},
   "outputs": [
    {
     "data": {
      "text/plain": [
       "                  Df Sum Sq Mean Sq F value   Pr(>F)    \n",
       "notes$is_genuine   1  5.627   5.627   73.36 6.67e-15 ***\n",
       "Residuals        168 12.887   0.077                     \n",
       "---\n",
       "Signif. codes:  0 '***' 0.001 '**' 0.01 '*' 0.05 '.' 0.1 ' ' 1"
      ]
     },
     "metadata": {},
     "output_type": "display_data"
    }
   ],
   "source": [
    "summary(aov(notes[, 'height_right'] ~ notes$is_genuine, notes))"
   ]
  },
  {
   "cell_type": "code",
   "execution_count": 12,
   "metadata": {},
   "outputs": [
    {
     "data": {
      "text/plain": [
       "                  Df Sum Sq Mean Sq F value Pr(>F)    \n",
       "notes$is_genuine   1  3.207   3.207   86.41 <2e-16 ***\n",
       "Residuals        168  6.235   0.037                   \n",
       "---\n",
       "Signif. codes:  0 '***' 0.001 '**' 0.01 '*' 0.05 '.' 0.1 ' ' 1"
      ]
     },
     "metadata": {},
     "output_type": "display_data"
    }
   ],
   "source": [
    "summary(aov(notes[, 'margin_up'] ~ notes$is_genuine, notes))"
   ]
  },
  {
   "cell_type": "code",
   "execution_count": 13,
   "metadata": {},
   "outputs": [
    {
     "data": {
      "text/plain": [
       "                  Df Sum Sq Mean Sq F value Pr(>F)    \n",
       "notes$is_genuine   1  53.33   53.33   298.9 <2e-16 ***\n",
       "Residuals        168  29.98    0.18                   \n",
       "---\n",
       "Signif. codes:  0 '***' 0.001 '**' 0.01 '*' 0.05 '.' 0.1 ' ' 1"
      ]
     },
     "metadata": {},
     "output_type": "display_data"
    }
   ],
   "source": [
    "summary(aov(notes[, 'margin_low'] ~ notes$is_genuine, notes))"
   ]
  },
  {
   "cell_type": "code",
   "execution_count": 14,
   "metadata": {},
   "outputs": [
    {
     "data": {
      "text/plain": [
       "                  Df Sum Sq Mean Sq F value Pr(>F)    \n",
       "notes$is_genuine   1  98.48   98.48   360.1 <2e-16 ***\n",
       "Residuals        168  45.95    0.27                   \n",
       "---\n",
       "Signif. codes:  0 '***' 0.001 '**' 0.01 '*' 0.05 '.' 0.1 ' ' 1"
      ]
     },
     "metadata": {},
     "output_type": "display_data"
    }
   ],
   "source": [
    "summary(aov(notes[, 'length'] ~ notes$is_genuine, notes))"
   ]
  },
  {
   "cell_type": "markdown",
   "metadata": {},
   "source": [
    "CCL: Seule la p-value de la variable diagonal est non significative (p-value = 7% > alpha), on ne peut donc pas rejeter H0: les moyennes sont identiques.<br/>\n",
    "Cette variable n'est donc pas déterminante dans l'authentification des billets."
   ]
  },
  {
   "cell_type": "markdown",
   "metadata": {},
   "source": [
    "### <span style='color:brown'>c) Corrélations entre variables.<a name=\"M023\"></a>\n",
    "### <span style='color:red'>i) Sur l'ensemble des billets:<a name=\"M0231\"></a>"
   ]
  },
  {
   "cell_type": "code",
   "execution_count": 15,
   "metadata": {},
   "outputs": [
    {
     "data": {
      "text/html": [
       "<table>\n",
       "<thead><tr><th></th><th scope=col>is_genuine</th><th scope=col>diagonal</th><th scope=col>height_left</th><th scope=col>height_right</th><th scope=col>margin_low</th><th scope=col>margin_up</th><th scope=col>length</th></tr></thead>\n",
       "<tbody>\n",
       "\t<tr><th scope=row>98</th><td>2     </td><td>171.49</td><td>103.77</td><td>103.60</td><td>4.01  </td><td>3.09  </td><td>112.95</td></tr>\n",
       "\t<tr><th scope=row>99</th><td>2     </td><td>172.10</td><td>103.98</td><td>103.86</td><td>4.47  </td><td>3.06  </td><td>113.00</td></tr>\n",
       "\t<tr><th scope=row>100</th><td>2     </td><td>171.81</td><td>103.96</td><td>103.47</td><td>4.00  </td><td>3.00  </td><td>113.10</td></tr>\n",
       "\t<tr><th scope=row>101</th><td>1     </td><td>171.45</td><td>104.03</td><td>104.26</td><td>4.88  </td><td>3.44  </td><td>111.92</td></tr>\n",
       "\t<tr><th scope=row>102</th><td>1     </td><td>171.97</td><td>104.38</td><td>104.18</td><td>5.59  </td><td>3.47  </td><td>110.98</td></tr>\n",
       "\t<tr><th scope=row>103</th><td>1     </td><td>171.94</td><td>104.21</td><td>104.10</td><td>4.28  </td><td>3.47  </td><td>112.23</td></tr>\n",
       "</tbody>\n",
       "</table>\n"
      ],
      "text/latex": [
       "\\begin{tabular}{r|lllllll}\n",
       "  & is\\_genuine & diagonal & height\\_left & height\\_right & margin\\_low & margin\\_up & length\\\\\n",
       "\\hline\n",
       "\t98 & 2      & 171.49 & 103.77 & 103.60 & 4.01   & 3.09   & 112.95\\\\\n",
       "\t99 & 2      & 172.10 & 103.98 & 103.86 & 4.47   & 3.06   & 113.00\\\\\n",
       "\t100 & 2      & 171.81 & 103.96 & 103.47 & 4.00   & 3.00   & 113.10\\\\\n",
       "\t101 & 1      & 171.45 & 104.03 & 104.26 & 4.88   & 3.44   & 111.92\\\\\n",
       "\t102 & 1      & 171.97 & 104.38 & 104.18 & 5.59   & 3.47   & 110.98\\\\\n",
       "\t103 & 1      & 171.94 & 104.21 & 104.10 & 4.28   & 3.47   & 112.23\\\\\n",
       "\\end{tabular}\n"
      ],
      "text/markdown": [
       "\n",
       "| <!--/--> | is_genuine | diagonal | height_left | height_right | margin_low | margin_up | length |\n",
       "|---|---|---|---|---|---|---|---|\n",
       "| 98 | 2      | 171.49 | 103.77 | 103.60 | 4.01   | 3.09   | 112.95 |\n",
       "| 99 | 2      | 172.10 | 103.98 | 103.86 | 4.47   | 3.06   | 113.00 |\n",
       "| 100 | 2      | 171.81 | 103.96 | 103.47 | 4.00   | 3.00   | 113.10 |\n",
       "| 101 | 1      | 171.45 | 104.03 | 104.26 | 4.88   | 3.44   | 111.92 |\n",
       "| 102 | 1      | 171.97 | 104.38 | 104.18 | 5.59   | 3.47   | 110.98 |\n",
       "| 103 | 1      | 171.94 | 104.21 | 104.10 | 4.28   | 3.47   | 112.23 |\n",
       "\n"
      ],
      "text/plain": [
       "    is_genuine diagonal height_left height_right margin_low margin_up length\n",
       "98  2          171.49   103.77      103.60       4.01       3.09      112.95\n",
       "99  2          172.10   103.98      103.86       4.47       3.06      113.00\n",
       "100 2          171.81   103.96      103.47       4.00       3.00      113.10\n",
       "101 1          171.45   104.03      104.26       4.88       3.44      111.92\n",
       "102 1          171.97   104.38      104.18       5.59       3.47      110.98\n",
       "103 1          171.94   104.21      104.10       4.28       3.47      112.23"
      ]
     },
     "metadata": {},
     "output_type": "display_data"
    }
   ],
   "source": [
    "auth <- notes # copie du dataframe \"notes\"\n",
    "auth$is_genuine <- as.numeric(auth$is_genuine) # conversion de la colonne facteur en variable numérique\n",
    "auth[98:103, ] # visualisation"
   ]
  },
  {
   "cell_type": "code",
   "execution_count": 16,
   "metadata": {},
   "outputs": [
    {
     "data": {
      "text/html": [
       "<table>\n",
       "<thead><tr><th></th><th scope=col>is_genuine</th><th scope=col>diagonal</th><th scope=col>height_left</th><th scope=col>height_right</th><th scope=col>margin_low</th><th scope=col>margin_up</th><th scope=col>length</th></tr></thead>\n",
       "<tbody>\n",
       "\t<tr><th scope=row>is_genuine</th><td> 1.00</td><td> 0.14</td><td>-0.46</td><td>-0.55</td><td>-0.80</td><td>-0.58</td><td> 0.83</td></tr>\n",
       "\t<tr><th scope=row>diagonal</th><td> 0.14</td><td> 1.00</td><td> 0.32</td><td> 0.22</td><td>-0.18</td><td>-0.03</td><td> 0.08</td></tr>\n",
       "\t<tr><th scope=row>height_left</th><td>-0.46</td><td> 0.32</td><td> 1.00</td><td> 0.73</td><td> 0.42</td><td> 0.32</td><td>-0.42</td></tr>\n",
       "\t<tr><th scope=row>height_right</th><td>-0.55</td><td> 0.22</td><td> 0.73</td><td> 1.00</td><td> 0.51</td><td> 0.37</td><td>-0.42</td></tr>\n",
       "\t<tr><th scope=row>margin_low</th><td>-0.80</td><td>-0.18</td><td> 0.42</td><td> 0.51</td><td> 1.00</td><td> 0.17</td><td>-0.64</td></tr>\n",
       "\t<tr><th scope=row>margin_up</th><td>-0.58</td><td>-0.03</td><td> 0.32</td><td> 0.37</td><td> 0.17</td><td> 1.00</td><td>-0.53</td></tr>\n",
       "\t<tr><th scope=row>length</th><td> 0.83</td><td> 0.08</td><td>-0.42</td><td>-0.42</td><td>-0.64</td><td>-0.53</td><td> 1.00</td></tr>\n",
       "</tbody>\n",
       "</table>\n"
      ],
      "text/latex": [
       "\\begin{tabular}{r|lllllll}\n",
       "  & is\\_genuine & diagonal & height\\_left & height\\_right & margin\\_low & margin\\_up & length\\\\\n",
       "\\hline\n",
       "\tis\\_genuine &  1.00 &  0.14 & -0.46 & -0.55 & -0.80 & -0.58 &  0.83\\\\\n",
       "\tdiagonal &  0.14 &  1.00 &  0.32 &  0.22 & -0.18 & -0.03 &  0.08\\\\\n",
       "\theight\\_left & -0.46 &  0.32 &  1.00 &  0.73 &  0.42 &  0.32 & -0.42\\\\\n",
       "\theight\\_right & -0.55 &  0.22 &  0.73 &  1.00 &  0.51 &  0.37 & -0.42\\\\\n",
       "\tmargin\\_low & -0.80 & -0.18 &  0.42 &  0.51 &  1.00 &  0.17 & -0.64\\\\\n",
       "\tmargin\\_up & -0.58 & -0.03 &  0.32 &  0.37 &  0.17 &  1.00 & -0.53\\\\\n",
       "\tlength &  0.83 &  0.08 & -0.42 & -0.42 & -0.64 & -0.53 &  1.00\\\\\n",
       "\\end{tabular}\n"
      ],
      "text/markdown": [
       "\n",
       "| <!--/--> | is_genuine | diagonal | height_left | height_right | margin_low | margin_up | length |\n",
       "|---|---|---|---|---|---|---|---|\n",
       "| is_genuine |  1.00 |  0.14 | -0.46 | -0.55 | -0.80 | -0.58 |  0.83 |\n",
       "| diagonal |  0.14 |  1.00 |  0.32 |  0.22 | -0.18 | -0.03 |  0.08 |\n",
       "| height_left | -0.46 |  0.32 |  1.00 |  0.73 |  0.42 |  0.32 | -0.42 |\n",
       "| height_right | -0.55 |  0.22 |  0.73 |  1.00 |  0.51 |  0.37 | -0.42 |\n",
       "| margin_low | -0.80 | -0.18 |  0.42 |  0.51 |  1.00 |  0.17 | -0.64 |\n",
       "| margin_up | -0.58 | -0.03 |  0.32 |  0.37 |  0.17 |  1.00 | -0.53 |\n",
       "| length |  0.83 |  0.08 | -0.42 | -0.42 | -0.64 | -0.53 |  1.00 |\n",
       "\n"
      ],
      "text/plain": [
       "             is_genuine diagonal height_left height_right margin_low margin_up\n",
       "is_genuine    1.00       0.14    -0.46       -0.55        -0.80      -0.58    \n",
       "diagonal      0.14       1.00     0.32        0.22        -0.18      -0.03    \n",
       "height_left  -0.46       0.32     1.00        0.73         0.42       0.32    \n",
       "height_right -0.55       0.22     0.73        1.00         0.51       0.37    \n",
       "margin_low   -0.80      -0.18     0.42        0.51         1.00       0.17    \n",
       "margin_up    -0.58      -0.03     0.32        0.37         0.17       1.00    \n",
       "length        0.83       0.08    -0.42       -0.42        -0.64      -0.53    \n",
       "             length\n",
       "is_genuine    0.83 \n",
       "diagonal      0.08 \n",
       "height_left  -0.42 \n",
       "height_right -0.42 \n",
       "margin_low   -0.64 \n",
       "margin_up    -0.53 \n",
       "length        1.00 "
      ]
     },
     "metadata": {},
     "output_type": "display_data"
    },
    {
     "data": {
      "text/html": [
       "<table>\n",
       "<thead><tr><th></th><th scope=col>is_genuine</th><th scope=col>diagonal</th><th scope=col>height_left</th><th scope=col>height_right</th><th scope=col>margin_low</th><th scope=col>margin_up</th><th scope=col>length</th></tr></thead>\n",
       "<tbody>\n",
       "\t<tr><th scope=row>is_genuine</th><td>0.00000000 </td><td>0.070189670</td><td>0.0000e+00 </td><td>0.000000000</td><td>0.000000000</td><td>0.000000000</td><td>0.000000000</td></tr>\n",
       "\t<tr><th scope=row>diagonal</th><td>0.07018967 </td><td>0.000000000</td><td>2.1563e-05 </td><td>0.003873237</td><td>0.018159280</td><td>0.723161301</td><td>0.297931845</td></tr>\n",
       "\t<tr><th scope=row>height_left</th><td>0.00000000 </td><td>0.000021563</td><td>0.0000e+00 </td><td>0.000000000</td><td>0.000000008</td><td>0.000015518</td><td>0.000000011</td></tr>\n",
       "\t<tr><th scope=row>height_right</th><td>0.00000000 </td><td>0.003873237</td><td>0.0000e+00 </td><td>0.000000000</td><td>0.000000000</td><td>0.000000859</td><td>0.000000015</td></tr>\n",
       "\t<tr><th scope=row>margin_low</th><td>0.00000000 </td><td>0.018159280</td><td>8.0000e-09 </td><td>0.000000000</td><td>0.000000000</td><td>0.025677232</td><td>0.000000000</td></tr>\n",
       "\t<tr><th scope=row>margin_up</th><td>0.00000000 </td><td>0.723161301</td><td>1.5518e-05 </td><td>0.000000859</td><td>0.025677232</td><td>0.000000000</td><td>0.000000000</td></tr>\n",
       "\t<tr><th scope=row>length</th><td>0.00000000 </td><td>0.297931845</td><td>1.1000e-08 </td><td>0.000000015</td><td>0.000000000</td><td>0.000000000</td><td>0.000000000</td></tr>\n",
       "</tbody>\n",
       "</table>\n"
      ],
      "text/latex": [
       "\\begin{tabular}{r|lllllll}\n",
       "  & is\\_genuine & diagonal & height\\_left & height\\_right & margin\\_low & margin\\_up & length\\\\\n",
       "\\hline\n",
       "\tis\\_genuine & 0.00000000  & 0.070189670 & 0.0000e+00  & 0.000000000 & 0.000000000 & 0.000000000 & 0.000000000\\\\\n",
       "\tdiagonal & 0.07018967  & 0.000000000 & 2.1563e-05  & 0.003873237 & 0.018159280 & 0.723161301 & 0.297931845\\\\\n",
       "\theight\\_left & 0.00000000  & 0.000021563 & 0.0000e+00  & 0.000000000 & 0.000000008 & 0.000015518 & 0.000000011\\\\\n",
       "\theight\\_right & 0.00000000  & 0.003873237 & 0.0000e+00  & 0.000000000 & 0.000000000 & 0.000000859 & 0.000000015\\\\\n",
       "\tmargin\\_low & 0.00000000  & 0.018159280 & 8.0000e-09  & 0.000000000 & 0.000000000 & 0.025677232 & 0.000000000\\\\\n",
       "\tmargin\\_up & 0.00000000  & 0.723161301 & 1.5518e-05  & 0.000000859 & 0.025677232 & 0.000000000 & 0.000000000\\\\\n",
       "\tlength & 0.00000000  & 0.297931845 & 1.1000e-08  & 0.000000015 & 0.000000000 & 0.000000000 & 0.000000000\\\\\n",
       "\\end{tabular}\n"
      ],
      "text/markdown": [
       "\n",
       "| <!--/--> | is_genuine | diagonal | height_left | height_right | margin_low | margin_up | length |\n",
       "|---|---|---|---|---|---|---|---|\n",
       "| is_genuine | 0.00000000  | 0.070189670 | 0.0000e+00  | 0.000000000 | 0.000000000 | 0.000000000 | 0.000000000 |\n",
       "| diagonal | 0.07018967  | 0.000000000 | 2.1563e-05  | 0.003873237 | 0.018159280 | 0.723161301 | 0.297931845 |\n",
       "| height_left | 0.00000000  | 0.000021563 | 0.0000e+00  | 0.000000000 | 0.000000008 | 0.000015518 | 0.000000011 |\n",
       "| height_right | 0.00000000  | 0.003873237 | 0.0000e+00  | 0.000000000 | 0.000000000 | 0.000000859 | 0.000000015 |\n",
       "| margin_low | 0.00000000  | 0.018159280 | 8.0000e-09  | 0.000000000 | 0.000000000 | 0.025677232 | 0.000000000 |\n",
       "| margin_up | 0.00000000  | 0.723161301 | 1.5518e-05  | 0.000000859 | 0.025677232 | 0.000000000 | 0.000000000 |\n",
       "| length | 0.00000000  | 0.297931845 | 1.1000e-08  | 0.000000015 | 0.000000000 | 0.000000000 | 0.000000000 |\n",
       "\n"
      ],
      "text/plain": [
       "             is_genuine diagonal    height_left height_right margin_low \n",
       "is_genuine   0.00000000 0.070189670 0.0000e+00  0.000000000  0.000000000\n",
       "diagonal     0.07018967 0.000000000 2.1563e-05  0.003873237  0.018159280\n",
       "height_left  0.00000000 0.000021563 0.0000e+00  0.000000000  0.000000008\n",
       "height_right 0.00000000 0.003873237 0.0000e+00  0.000000000  0.000000000\n",
       "margin_low   0.00000000 0.018159280 8.0000e-09  0.000000000  0.000000000\n",
       "margin_up    0.00000000 0.723161301 1.5518e-05  0.000000859  0.025677232\n",
       "length       0.00000000 0.297931845 1.1000e-08  0.000000015  0.000000000\n",
       "             margin_up   length     \n",
       "is_genuine   0.000000000 0.000000000\n",
       "diagonal     0.723161301 0.297931845\n",
       "height_left  0.000015518 0.000000011\n",
       "height_right 0.000000859 0.000000015\n",
       "margin_low   0.025677232 0.000000000\n",
       "margin_up    0.000000000 0.000000000\n",
       "length       0.000000000 0.000000000"
      ]
     },
     "metadata": {},
     "output_type": "display_data"
    }
   ],
   "source": [
    "round(cor(auth), 2)\n",
    "round(cor_pmat(auth), 9)"
   ]
  },
  {
   "cell_type": "code",
   "execution_count": 17,
   "metadata": {
    "scrolled": false
   },
   "outputs": [
    {
     "data": {
      "image/png": "[encoded data removed]",
      "text/plain": [
       "plot without title"
      ]
     },
     "metadata": {},
     "output_type": "display_data"
    }
   ],
   "source": [
    "options(repr.plot.width = 8, repr.plot.height = 4)\n",
    "ggcorrplot(cor(auth), outline.col = \"black\", type = 'lower', p.mat = cor_pmat(auth),\n",
    "           title = 'Corrélation entre variables sur l\\'ensemble des billets')"
   ]
  },
  {
   "cell_type": "markdown",
   "metadata": {},
   "source": [
    "CCL:<br/>\n",
    "Pour la corrélation, nous interprétons la valeur du coefficient (en valeur absolue) selon les balises de Cohen (1988):<br/>\n",
    "\n",
    "      Autour de 0,10       effet de petite taille       corrélation faible\n",
    "      Autour de 0,30       effet de taille moyenne      corrélation moyenne\n",
    "      Autour de 0,50       effet de grande taille       corrélation forte\n",
    "\n",
    "On ne peut donc pas conclure sur la corrélation des variables suivantes entre elles:\n",
    "- diagonal et margin_up.\n",
    "- diagonal et length.\n",
    "- diagonal et is_genuine.\n",
    "\n",
    "La diagonale ne semble pas participer à la différenciation des billets.\n",
    "\n",
    "Forte corrélation entre:\n",
    "- height_left et height_right.\n",
    "- lenght et margin_low.\n",
    "\n",
    "\n",
    "- is_genuine et margin_low.\n",
    "- is_genuine et lenght.\n",
    "\n",
    "Les trois dernières corrélations confirment nos conclusions précédentes.<br/>\n",
    "En revanche, il semblerait difficile de séparer les billets d'après les largeurs."
   ]
  },
  {
   "cell_type": "markdown",
   "metadata": {},
   "source": [
    "### Quelques nuages de points de variables corrélées entre elles:"
   ]
  },
  {
   "cell_type": "code",
   "execution_count": 18,
   "metadata": {
    "scrolled": false
   },
   "outputs": [
    {
     "data": {
      "image/png": "[encoded data removed]",
      "text/plain": [
       "plot without title"
      ]
     },
     "metadata": {},
     "output_type": "display_data"
    }
   ],
   "source": [
    "options(repr.plot.width = 8, repr.plot.height = 4)\n",
    "par(mfrow = c(1,2))\n",
    "reglin1 <- lm(notes[, 4] ~ notes[, 3])\n",
    "plot(notes[, 3], notes[, 4], xlab = \"height_left\", ylab = \"height_right\", col = \"blue\")\n",
    "abline(reglin1, col = 'red', lw = 2)\n",
    "\n",
    "reglin2 <- lm(notes[, 5] ~ notes[, 7])\n",
    "plot(notes[, 7], notes[, 5], xlab = \"length\", ylab = \"margin_low\", col = \"blue\")\n",
    "abline(reglin2, col = 'red', lw = 2)"
   ]
  },
  {
   "cell_type": "markdown",
   "metadata": {},
   "source": [
    "CCL: Graphiquement, les individus sont très regroupés quand la longueur est grande (et donc que la marge basse est petite)."
   ]
  },
  {
   "cell_type": "markdown",
   "metadata": {},
   "source": [
    "### <span style='color:red'>ii) Suivant l'authenticité des billets:<a name=\"M0232\"></a>"
   ]
  },
  {
   "cell_type": "code",
   "execution_count": 19,
   "metadata": {
    "scrolled": false
   },
   "outputs": [
    {
     "data": {
      "text/html": [
       "<table>\n",
       "<thead><tr><th scope=col>diagonal</th><th scope=col>height_left</th><th scope=col>height_right</th><th scope=col>margin_low</th><th scope=col>margin_up</th><th scope=col>length</th></tr></thead>\n",
       "<tbody>\n",
       "\t<tr><td>171.81</td><td>104.86</td><td>104.95</td><td>4.52  </td><td>2.89  </td><td>112.83</td></tr>\n",
       "\t<tr><td>171.67</td><td>103.74</td><td>103.70</td><td>4.01  </td><td>2.87  </td><td>113.29</td></tr>\n",
       "\t<tr><td>171.83</td><td>103.76</td><td>103.76</td><td>4.40  </td><td>2.88  </td><td>113.84</td></tr>\n",
       "\t<tr><td>171.80</td><td>103.78</td><td>103.65</td><td>3.73  </td><td>3.12  </td><td>113.63</td></tr>\n",
       "\t<tr><td>172.05</td><td>103.70</td><td>103.75</td><td>5.04  </td><td>2.27  </td><td>113.55</td></tr>\n",
       "\t<tr><td>172.57</td><td>104.65</td><td>104.44</td><td>4.54  </td><td>2.99  </td><td>113.16</td></tr>\n",
       "</tbody>\n",
       "</table>\n"
      ],
      "text/latex": [
       "\\begin{tabular}{r|llllll}\n",
       " diagonal & height\\_left & height\\_right & margin\\_low & margin\\_up & length\\\\\n",
       "\\hline\n",
       "\t 171.81 & 104.86 & 104.95 & 4.52   & 2.89   & 112.83\\\\\n",
       "\t 171.67 & 103.74 & 103.70 & 4.01   & 2.87   & 113.29\\\\\n",
       "\t 171.83 & 103.76 & 103.76 & 4.40   & 2.88   & 113.84\\\\\n",
       "\t 171.80 & 103.78 & 103.65 & 3.73   & 3.12   & 113.63\\\\\n",
       "\t 172.05 & 103.70 & 103.75 & 5.04   & 2.27   & 113.55\\\\\n",
       "\t 172.57 & 104.65 & 104.44 & 4.54   & 2.99   & 113.16\\\\\n",
       "\\end{tabular}\n"
      ],
      "text/markdown": [
       "\n",
       "| diagonal | height_left | height_right | margin_low | margin_up | length |\n",
       "|---|---|---|---|---|---|\n",
       "| 171.81 | 104.86 | 104.95 | 4.52   | 2.89   | 112.83 |\n",
       "| 171.67 | 103.74 | 103.70 | 4.01   | 2.87   | 113.29 |\n",
       "| 171.83 | 103.76 | 103.76 | 4.40   | 2.88   | 113.84 |\n",
       "| 171.80 | 103.78 | 103.65 | 3.73   | 3.12   | 113.63 |\n",
       "| 172.05 | 103.70 | 103.75 | 5.04   | 2.27   | 113.55 |\n",
       "| 172.57 | 104.65 | 104.44 | 4.54   | 2.99   | 113.16 |\n",
       "\n"
      ],
      "text/plain": [
       "  diagonal height_left height_right margin_low margin_up length\n",
       "1 171.81   104.86      104.95       4.52       2.89      112.83\n",
       "2 171.67   103.74      103.70       4.01       2.87      113.29\n",
       "3 171.83   103.76      103.76       4.40       2.88      113.84\n",
       "4 171.80   103.78      103.65       3.73       3.12      113.63\n",
       "5 172.05   103.70      103.75       5.04       2.27      113.55\n",
       "6 172.57   104.65      104.44       4.54       2.99      113.16"
      ]
     },
     "metadata": {},
     "output_type": "display_data"
    },
    {
     "data": {
      "text/html": [
       "<table>\n",
       "<thead><tr><th></th><th scope=col>diagonal</th><th scope=col>height_left</th><th scope=col>height_right</th><th scope=col>margin_low</th><th scope=col>margin_up</th><th scope=col>length</th></tr></thead>\n",
       "<tbody>\n",
       "\t<tr><th scope=row>101</th><td>171.45</td><td>104.03</td><td>104.26</td><td>4.88  </td><td>3.44  </td><td>111.92</td></tr>\n",
       "\t<tr><th scope=row>102</th><td>171.97</td><td>104.38</td><td>104.18</td><td>5.59  </td><td>3.47  </td><td>110.98</td></tr>\n",
       "\t<tr><th scope=row>103</th><td>171.94</td><td>104.21</td><td>104.10</td><td>4.28  </td><td>3.47  </td><td>112.23</td></tr>\n",
       "\t<tr><th scope=row>104</th><td>172.04</td><td>104.34</td><td>104.48</td><td>4.88  </td><td>3.28  </td><td>112.15</td></tr>\n",
       "\t<tr><th scope=row>105</th><td>171.75</td><td>104.16</td><td>104.23</td><td>5.75  </td><td>3.25  </td><td>111.68</td></tr>\n",
       "\t<tr><th scope=row>106</th><td>171.99</td><td>104.18</td><td>104.20</td><td>5.26  </td><td>3.23  </td><td>111.83</td></tr>\n",
       "</tbody>\n",
       "</table>\n"
      ],
      "text/latex": [
       "\\begin{tabular}{r|llllll}\n",
       "  & diagonal & height\\_left & height\\_right & margin\\_low & margin\\_up & length\\\\\n",
       "\\hline\n",
       "\t101 & 171.45 & 104.03 & 104.26 & 4.88   & 3.44   & 111.92\\\\\n",
       "\t102 & 171.97 & 104.38 & 104.18 & 5.59   & 3.47   & 110.98\\\\\n",
       "\t103 & 171.94 & 104.21 & 104.10 & 4.28   & 3.47   & 112.23\\\\\n",
       "\t104 & 172.04 & 104.34 & 104.48 & 4.88   & 3.28   & 112.15\\\\\n",
       "\t105 & 171.75 & 104.16 & 104.23 & 5.75   & 3.25   & 111.68\\\\\n",
       "\t106 & 171.99 & 104.18 & 104.20 & 5.26   & 3.23   & 111.83\\\\\n",
       "\\end{tabular}\n"
      ],
      "text/markdown": [
       "\n",
       "| <!--/--> | diagonal | height_left | height_right | margin_low | margin_up | length |\n",
       "|---|---|---|---|---|---|---|\n",
       "| 101 | 171.45 | 104.03 | 104.26 | 4.88   | 3.44   | 111.92 |\n",
       "| 102 | 171.97 | 104.38 | 104.18 | 5.59   | 3.47   | 110.98 |\n",
       "| 103 | 171.94 | 104.21 | 104.10 | 4.28   | 3.47   | 112.23 |\n",
       "| 104 | 172.04 | 104.34 | 104.48 | 4.88   | 3.28   | 112.15 |\n",
       "| 105 | 171.75 | 104.16 | 104.23 | 5.75   | 3.25   | 111.68 |\n",
       "| 106 | 171.99 | 104.18 | 104.20 | 5.26   | 3.23   | 111.83 |\n",
       "\n"
      ],
      "text/plain": [
       "    diagonal height_left height_right margin_low margin_up length\n",
       "101 171.45   104.03      104.26       4.88       3.44      111.92\n",
       "102 171.97   104.38      104.18       5.59       3.47      110.98\n",
       "103 171.94   104.21      104.10       4.28       3.47      112.23\n",
       "104 172.04   104.34      104.48       4.88       3.28      112.15\n",
       "105 171.75   104.16      104.23       5.75       3.25      111.68\n",
       "106 171.99   104.18      104.20       5.26       3.23      111.83"
      ]
     },
     "metadata": {},
     "output_type": "display_data"
    }
   ],
   "source": [
    "vrai <- notes[notes$is_genuine == 'True', 2:7]\n",
    "faux <- notes[notes$is_genuine == 'False', 2:7]\n",
    "head(vrai)\n",
    "head(faux)"
   ]
  },
  {
   "cell_type": "markdown",
   "metadata": {},
   "source": [
    "### <span style='color:green'>Vrais billets:<a name=\"M02321\"></a>"
   ]
  },
  {
   "cell_type": "code",
   "execution_count": 20,
   "metadata": {},
   "outputs": [
    {
     "data": {
      "text/html": [
       "<table>\n",
       "<thead><tr><th></th><th scope=col>diagonal</th><th scope=col>height_left</th><th scope=col>height_right</th><th scope=col>margin_low</th><th scope=col>margin_up</th><th scope=col>length</th></tr></thead>\n",
       "<tbody>\n",
       "\t<tr><th scope=row>diagonal</th><td>1.000 </td><td> 0.409</td><td> 0.393</td><td> 0.178</td><td> 0.039</td><td> 0.023</td></tr>\n",
       "\t<tr><th scope=row>height_left</th><td>0.409 </td><td> 1.000</td><td> 0.671</td><td> 0.249</td><td> 0.160</td><td>-0.234</td></tr>\n",
       "\t<tr><th scope=row>height_right</th><td>0.393 </td><td> 0.671</td><td> 1.000</td><td> 0.271</td><td> 0.098</td><td>-0.099</td></tr>\n",
       "\t<tr><th scope=row>margin_low</th><td>0.178 </td><td> 0.249</td><td> 0.271</td><td> 1.000</td><td>-0.651</td><td>-0.032</td></tr>\n",
       "\t<tr><th scope=row>margin_up</th><td>0.039 </td><td> 0.160</td><td> 0.098</td><td>-0.651</td><td> 1.000</td><td>-0.229</td></tr>\n",
       "\t<tr><th scope=row>length</th><td>0.023 </td><td>-0.234</td><td>-0.099</td><td>-0.032</td><td>-0.229</td><td> 1.000</td></tr>\n",
       "</tbody>\n",
       "</table>\n"
      ],
      "text/latex": [
       "\\begin{tabular}{r|llllll}\n",
       "  & diagonal & height\\_left & height\\_right & margin\\_low & margin\\_up & length\\\\\n",
       "\\hline\n",
       "\tdiagonal & 1.000  &  0.409 &  0.393 &  0.178 &  0.039 &  0.023\\\\\n",
       "\theight\\_left & 0.409  &  1.000 &  0.671 &  0.249 &  0.160 & -0.234\\\\\n",
       "\theight\\_right & 0.393  &  0.671 &  1.000 &  0.271 &  0.098 & -0.099\\\\\n",
       "\tmargin\\_low & 0.178  &  0.249 &  0.271 &  1.000 & -0.651 & -0.032\\\\\n",
       "\tmargin\\_up & 0.039  &  0.160 &  0.098 & -0.651 &  1.000 & -0.229\\\\\n",
       "\tlength & 0.023  & -0.234 & -0.099 & -0.032 & -0.229 &  1.000\\\\\n",
       "\\end{tabular}\n"
      ],
      "text/markdown": [
       "\n",
       "| <!--/--> | diagonal | height_left | height_right | margin_low | margin_up | length |\n",
       "|---|---|---|---|---|---|---|\n",
       "| diagonal | 1.000  |  0.409 |  0.393 |  0.178 |  0.039 |  0.023 |\n",
       "| height_left | 0.409  |  1.000 |  0.671 |  0.249 |  0.160 | -0.234 |\n",
       "| height_right | 0.393  |  0.671 |  1.000 |  0.271 |  0.098 | -0.099 |\n",
       "| margin_low | 0.178  |  0.249 |  0.271 |  1.000 | -0.651 | -0.032 |\n",
       "| margin_up | 0.039  |  0.160 |  0.098 | -0.651 |  1.000 | -0.229 |\n",
       "| length | 0.023  | -0.234 | -0.099 | -0.032 | -0.229 |  1.000 |\n",
       "\n"
      ],
      "text/plain": [
       "             diagonal height_left height_right margin_low margin_up length\n",
       "diagonal     1.000     0.409       0.393        0.178      0.039     0.023\n",
       "height_left  0.409     1.000       0.671        0.249      0.160    -0.234\n",
       "height_right 0.393     0.671       1.000        0.271      0.098    -0.099\n",
       "margin_low   0.178     0.249       0.271        1.000     -0.651    -0.032\n",
       "margin_up    0.039     0.160       0.098       -0.651      1.000    -0.229\n",
       "length       0.023    -0.234      -0.099       -0.032     -0.229     1.000"
      ]
     },
     "metadata": {},
     "output_type": "display_data"
    },
    {
     "data": {
      "text/html": [
       "<table>\n",
       "<thead><tr><th></th><th scope=col>diagonal</th><th scope=col>height_left</th><th scope=col>height_right</th><th scope=col>margin_low</th><th scope=col>margin_up</th><th scope=col>length</th></tr></thead>\n",
       "<tbody>\n",
       "\t<tr><th scope=row>diagonal</th><td>0.000000000</td><td>0.000024455</td><td>0.000051909</td><td>0.076349335</td><td>0.70184888 </td><td>0.81681490 </td></tr>\n",
       "\t<tr><th scope=row>height_left</th><td>0.000024455</td><td>0.000000000</td><td>0.000000000</td><td>0.012584463</td><td>0.11257755 </td><td>0.01928482 </td></tr>\n",
       "\t<tr><th scope=row>height_right</th><td>0.000051909</td><td>0.000000000</td><td>0.000000000</td><td>0.006394317</td><td>0.33202030 </td><td>0.32909031 </td></tr>\n",
       "\t<tr><th scope=row>margin_low</th><td>0.076349335</td><td>0.012584463</td><td>0.006394317</td><td>0.000000000</td><td>0.00000000 </td><td>0.75080190 </td></tr>\n",
       "\t<tr><th scope=row>margin_up</th><td>0.701848878</td><td>0.112577552</td><td>0.332020304</td><td>0.000000000</td><td>0.00000000 </td><td>0.02196625 </td></tr>\n",
       "\t<tr><th scope=row>length</th><td>0.816814900</td><td>0.019284822</td><td>0.329090309</td><td>0.750801899</td><td>0.02196625 </td><td>0.00000000 </td></tr>\n",
       "</tbody>\n",
       "</table>\n"
      ],
      "text/latex": [
       "\\begin{tabular}{r|llllll}\n",
       "  & diagonal & height\\_left & height\\_right & margin\\_low & margin\\_up & length\\\\\n",
       "\\hline\n",
       "\tdiagonal & 0.000000000 & 0.000024455 & 0.000051909 & 0.076349335 & 0.70184888  & 0.81681490 \\\\\n",
       "\theight\\_left & 0.000024455 & 0.000000000 & 0.000000000 & 0.012584463 & 0.11257755  & 0.01928482 \\\\\n",
       "\theight\\_right & 0.000051909 & 0.000000000 & 0.000000000 & 0.006394317 & 0.33202030  & 0.32909031 \\\\\n",
       "\tmargin\\_low & 0.076349335 & 0.012584463 & 0.006394317 & 0.000000000 & 0.00000000  & 0.75080190 \\\\\n",
       "\tmargin\\_up & 0.701848878 & 0.112577552 & 0.332020304 & 0.000000000 & 0.00000000  & 0.02196625 \\\\\n",
       "\tlength & 0.816814900 & 0.019284822 & 0.329090309 & 0.750801899 & 0.02196625  & 0.00000000 \\\\\n",
       "\\end{tabular}\n"
      ],
      "text/markdown": [
       "\n",
       "| <!--/--> | diagonal | height_left | height_right | margin_low | margin_up | length |\n",
       "|---|---|---|---|---|---|---|\n",
       "| diagonal | 0.000000000 | 0.000024455 | 0.000051909 | 0.076349335 | 0.70184888  | 0.81681490  |\n",
       "| height_left | 0.000024455 | 0.000000000 | 0.000000000 | 0.012584463 | 0.11257755  | 0.01928482  |\n",
       "| height_right | 0.000051909 | 0.000000000 | 0.000000000 | 0.006394317 | 0.33202030  | 0.32909031  |\n",
       "| margin_low | 0.076349335 | 0.012584463 | 0.006394317 | 0.000000000 | 0.00000000  | 0.75080190  |\n",
       "| margin_up | 0.701848878 | 0.112577552 | 0.332020304 | 0.000000000 | 0.00000000  | 0.02196625  |\n",
       "| length | 0.816814900 | 0.019284822 | 0.329090309 | 0.750801899 | 0.02196625  | 0.00000000  |\n",
       "\n"
      ],
      "text/plain": [
       "             diagonal    height_left height_right margin_low  margin_up \n",
       "diagonal     0.000000000 0.000024455 0.000051909  0.076349335 0.70184888\n",
       "height_left  0.000024455 0.000000000 0.000000000  0.012584463 0.11257755\n",
       "height_right 0.000051909 0.000000000 0.000000000  0.006394317 0.33202030\n",
       "margin_low   0.076349335 0.012584463 0.006394317  0.000000000 0.00000000\n",
       "margin_up    0.701848878 0.112577552 0.332020304  0.000000000 0.00000000\n",
       "length       0.816814900 0.019284822 0.329090309  0.750801899 0.02196625\n",
       "             length    \n",
       "diagonal     0.81681490\n",
       "height_left  0.01928482\n",
       "height_right 0.32909031\n",
       "margin_low   0.75080190\n",
       "margin_up    0.02196625\n",
       "length       0.00000000"
      ]
     },
     "metadata": {},
     "output_type": "display_data"
    }
   ],
   "source": [
    "round(cor(vrai), 3)\n",
    "round(cor_pmat(vrai), 9)"
   ]
  },
  {
   "cell_type": "markdown",
   "metadata": {},
   "source": [
    "### <span style='color:green'>Faux billets:<a name=\"M02322\"></a>"
   ]
  },
  {
   "cell_type": "code",
   "execution_count": 21,
   "metadata": {},
   "outputs": [
    {
     "data": {
      "text/html": [
       "<table>\n",
       "<thead><tr><th></th><th scope=col>diagonal</th><th scope=col>height_left</th><th scope=col>height_right</th><th scope=col>margin_low</th><th scope=col>margin_up</th><th scope=col>length</th></tr></thead>\n",
       "<tbody>\n",
       "\t<tr><th scope=row>diagonal</th><td> 1.000</td><td> 0.509</td><td>0.304 </td><td>-0.381</td><td> 0.111</td><td>-0.139</td></tr>\n",
       "\t<tr><th scope=row>height_left</th><td> 0.509</td><td> 1.000</td><td>0.604 </td><td>-0.043</td><td>-0.096</td><td> 0.074</td></tr>\n",
       "\t<tr><th scope=row>height_right</th><td> 0.304</td><td> 0.604</td><td>1.000 </td><td> 0.023</td><td> 0.013</td><td> 0.259</td></tr>\n",
       "\t<tr><th scope=row>margin_low</th><td>-0.381</td><td>-0.043</td><td>0.023 </td><td> 1.000</td><td>-0.618</td><td> 0.116</td></tr>\n",
       "\t<tr><th scope=row>margin_up</th><td> 0.111</td><td>-0.096</td><td>0.013 </td><td>-0.618</td><td> 1.000</td><td> 0.009</td></tr>\n",
       "\t<tr><th scope=row>length</th><td>-0.139</td><td> 0.074</td><td>0.259 </td><td> 0.116</td><td> 0.009</td><td> 1.000</td></tr>\n",
       "</tbody>\n",
       "</table>\n"
      ],
      "text/latex": [
       "\\begin{tabular}{r|llllll}\n",
       "  & diagonal & height\\_left & height\\_right & margin\\_low & margin\\_up & length\\\\\n",
       "\\hline\n",
       "\tdiagonal &  1.000 &  0.509 & 0.304  & -0.381 &  0.111 & -0.139\\\\\n",
       "\theight\\_left &  0.509 &  1.000 & 0.604  & -0.043 & -0.096 &  0.074\\\\\n",
       "\theight\\_right &  0.304 &  0.604 & 1.000  &  0.023 &  0.013 &  0.259\\\\\n",
       "\tmargin\\_low & -0.381 & -0.043 & 0.023  &  1.000 & -0.618 &  0.116\\\\\n",
       "\tmargin\\_up &  0.111 & -0.096 & 0.013  & -0.618 &  1.000 &  0.009\\\\\n",
       "\tlength & -0.139 &  0.074 & 0.259  &  0.116 &  0.009 &  1.000\\\\\n",
       "\\end{tabular}\n"
      ],
      "text/markdown": [
       "\n",
       "| <!--/--> | diagonal | height_left | height_right | margin_low | margin_up | length |\n",
       "|---|---|---|---|---|---|---|\n",
       "| diagonal |  1.000 |  0.509 | 0.304  | -0.381 |  0.111 | -0.139 |\n",
       "| height_left |  0.509 |  1.000 | 0.604  | -0.043 | -0.096 |  0.074 |\n",
       "| height_right |  0.304 |  0.604 | 1.000  |  0.023 |  0.013 |  0.259 |\n",
       "| margin_low | -0.381 | -0.043 | 0.023  |  1.000 | -0.618 |  0.116 |\n",
       "| margin_up |  0.111 | -0.096 | 0.013  | -0.618 |  1.000 |  0.009 |\n",
       "| length | -0.139 |  0.074 | 0.259  |  0.116 |  0.009 |  1.000 |\n",
       "\n"
      ],
      "text/plain": [
       "             diagonal height_left height_right margin_low margin_up length\n",
       "diagonal      1.000    0.509      0.304        -0.381      0.111    -0.139\n",
       "height_left   0.509    1.000      0.604        -0.043     -0.096     0.074\n",
       "height_right  0.304    0.604      1.000         0.023      0.013     0.259\n",
       "margin_low   -0.381   -0.043      0.023         1.000     -0.618     0.116\n",
       "margin_up     0.111   -0.096      0.013        -0.618      1.000     0.009\n",
       "length       -0.139    0.074      0.259         0.116      0.009     1.000"
      ]
     },
     "metadata": {},
     "output_type": "display_data"
    },
    {
     "data": {
      "text/html": [
       "<table>\n",
       "<thead><tr><th></th><th scope=col>diagonal</th><th scope=col>height_left</th><th scope=col>height_right</th><th scope=col>margin_low</th><th scope=col>margin_up</th><th scope=col>length</th></tr></thead>\n",
       "<tbody>\n",
       "\t<tr><th scope=row>diagonal</th><td>0.000000000</td><td>0.000006945</td><td>0.010631546</td><td>0.001122925</td><td>0.358595641</td><td>0.25183639 </td></tr>\n",
       "\t<tr><th scope=row>height_left</th><td>0.000006945</td><td>0.000000000</td><td>0.000000031</td><td>0.721473792</td><td>0.427049079</td><td>0.54148582 </td></tr>\n",
       "\t<tr><th scope=row>height_right</th><td>0.010631546</td><td>0.000000031</td><td>0.000000000</td><td>0.852349334</td><td>0.914767616</td><td>0.03040102 </td></tr>\n",
       "\t<tr><th scope=row>margin_low</th><td>0.001122925</td><td>0.721473792</td><td>0.852349334</td><td>0.000000000</td><td>0.000000012</td><td>0.33726678 </td></tr>\n",
       "\t<tr><th scope=row>margin_up</th><td>0.358595641</td><td>0.427049079</td><td>0.914767616</td><td>0.000000012</td><td>0.000000000</td><td>0.94040440 </td></tr>\n",
       "\t<tr><th scope=row>length</th><td>0.251836394</td><td>0.541485824</td><td>0.030401020</td><td>0.337266777</td><td>0.940404402</td><td>0.00000000 </td></tr>\n",
       "</tbody>\n",
       "</table>\n"
      ],
      "text/latex": [
       "\\begin{tabular}{r|llllll}\n",
       "  & diagonal & height\\_left & height\\_right & margin\\_low & margin\\_up & length\\\\\n",
       "\\hline\n",
       "\tdiagonal & 0.000000000 & 0.000006945 & 0.010631546 & 0.001122925 & 0.358595641 & 0.25183639 \\\\\n",
       "\theight\\_left & 0.000006945 & 0.000000000 & 0.000000031 & 0.721473792 & 0.427049079 & 0.54148582 \\\\\n",
       "\theight\\_right & 0.010631546 & 0.000000031 & 0.000000000 & 0.852349334 & 0.914767616 & 0.03040102 \\\\\n",
       "\tmargin\\_low & 0.001122925 & 0.721473792 & 0.852349334 & 0.000000000 & 0.000000012 & 0.33726678 \\\\\n",
       "\tmargin\\_up & 0.358595641 & 0.427049079 & 0.914767616 & 0.000000012 & 0.000000000 & 0.94040440 \\\\\n",
       "\tlength & 0.251836394 & 0.541485824 & 0.030401020 & 0.337266777 & 0.940404402 & 0.00000000 \\\\\n",
       "\\end{tabular}\n"
      ],
      "text/markdown": [
       "\n",
       "| <!--/--> | diagonal | height_left | height_right | margin_low | margin_up | length |\n",
       "|---|---|---|---|---|---|---|\n",
       "| diagonal | 0.000000000 | 0.000006945 | 0.010631546 | 0.001122925 | 0.358595641 | 0.25183639  |\n",
       "| height_left | 0.000006945 | 0.000000000 | 0.000000031 | 0.721473792 | 0.427049079 | 0.54148582  |\n",
       "| height_right | 0.010631546 | 0.000000031 | 0.000000000 | 0.852349334 | 0.914767616 | 0.03040102  |\n",
       "| margin_low | 0.001122925 | 0.721473792 | 0.852349334 | 0.000000000 | 0.000000012 | 0.33726678  |\n",
       "| margin_up | 0.358595641 | 0.427049079 | 0.914767616 | 0.000000012 | 0.000000000 | 0.94040440  |\n",
       "| length | 0.251836394 | 0.541485824 | 0.030401020 | 0.337266777 | 0.940404402 | 0.00000000  |\n",
       "\n"
      ],
      "text/plain": [
       "             diagonal    height_left height_right margin_low  margin_up  \n",
       "diagonal     0.000000000 0.000006945 0.010631546  0.001122925 0.358595641\n",
       "height_left  0.000006945 0.000000000 0.000000031  0.721473792 0.427049079\n",
       "height_right 0.010631546 0.000000031 0.000000000  0.852349334 0.914767616\n",
       "margin_low   0.001122925 0.721473792 0.852349334  0.000000000 0.000000012\n",
       "margin_up    0.358595641 0.427049079 0.914767616  0.000000012 0.000000000\n",
       "length       0.251836394 0.541485824 0.030401020  0.337266777 0.940404402\n",
       "             length    \n",
       "diagonal     0.25183639\n",
       "height_left  0.54148582\n",
       "height_right 0.03040102\n",
       "margin_low   0.33726678\n",
       "margin_up    0.94040440\n",
       "length       0.00000000"
      ]
     },
     "metadata": {},
     "output_type": "display_data"
    }
   ],
   "source": [
    "round(cor(faux), 3)\n",
    "round(cor_pmat(faux), 9)"
   ]
  },
  {
   "cell_type": "markdown",
   "metadata": {},
   "source": [
    "### Corrélation entre variables suivant l'authenticité du billet:"
   ]
  },
  {
   "cell_type": "code",
   "execution_count": 22,
   "metadata": {},
   "outputs": [
    {
     "data": {
      "image/png": "[encoded data removed]",
      "text/plain": [
       "plot without title"
      ]
     },
     "metadata": {},
     "output_type": "display_data"
    }
   ],
   "source": [
    "g_vrai <- ggcorrplot(cor(vrai), outline.col = \"black\", type = 'lower', p.mat = cor_pmat(vrai), title = 'Vrais billets')\n",
    "g_faux <- ggcorrplot(cor(faux), outline.col = \"black\", type = 'lower', p.mat = cor_pmat(faux), title = 'Faux billets')\n",
    "ggarrange(g_vrai, g_faux, common.legend = TRUE, legend = 'right')"
   ]
  },
  {
   "cell_type": "markdown",
   "metadata": {},
   "source": [
    "CCL:<br/>\n",
    "- Très forte corrélation entre margin_up et margin_low ainsi qu'entre height_left et height_right dans les deux cas.\n",
    "- De même, corrélation similaire concernant diagonal et height_left. \n",
    "- Concernant margin_low, les corrélations s'inversent suivant l'authenticité du billet.\n",
    "- Concernant length, dans les deux cas il n'y a jamais corrélation avec diagonal et avec margin_low."
   ]
  },
  {
   "cell_type": "markdown",
   "metadata": {},
   "source": [
    "# Mission 1 - analyse exploratoire des données.<a name=\"M1\"></a>\n",
    "## <span style='color:blue'>1. Détermination du nombre de composantes principales.<a name=\"M11\"></a>\n",
    "### <span style='color:brown'>Etude de l'inertie:<a name=\"M111\"></a>"
   ]
  },
  {
   "cell_type": "code",
   "execution_count": 23,
   "metadata": {},
   "outputs": [],
   "source": [
    "res.pca <- PCA(auth, ncp = 7, scale.unit = TRUE, quanti.sup = 1, graph = F)"
   ]
  },
  {
   "cell_type": "code",
   "execution_count": 24,
   "metadata": {},
   "outputs": [
    {
     "data": {
      "text/html": [
       "<table>\n",
       "<thead><tr><th></th><th scope=col>eigenvalue</th><th scope=col>percentage of variance</th><th scope=col>cumulative percentage of variance</th></tr></thead>\n",
       "<tbody>\n",
       "\t<tr><th scope=row>comp 1</th><td>2.8468752</td><td>47.447921</td><td> 47.44792</td></tr>\n",
       "\t<tr><th scope=row>comp 2</th><td>1.3174264</td><td>21.957106</td><td> 69.40503</td></tr>\n",
       "\t<tr><th scope=row>comp 3</th><td>0.8540715</td><td>14.234524</td><td> 83.63955</td></tr>\n",
       "\t<tr><th scope=row>comp 4</th><td>0.5115777</td><td> 8.526295</td><td> 92.16585</td></tr>\n",
       "\t<tr><th scope=row>comp 5</th><td>0.2767693</td><td> 4.612822</td><td> 96.77867</td></tr>\n",
       "\t<tr><th scope=row>comp 6</th><td>0.1932799</td><td> 3.221331</td><td>100.00000</td></tr>\n",
       "</tbody>\n",
       "</table>\n"
      ],
      "text/latex": [
       "\\begin{tabular}{r|lll}\n",
       "  & eigenvalue & percentage of variance & cumulative percentage of variance\\\\\n",
       "\\hline\n",
       "\tcomp 1 & 2.8468752 & 47.447921 &  47.44792\\\\\n",
       "\tcomp 2 & 1.3174264 & 21.957106 &  69.40503\\\\\n",
       "\tcomp 3 & 0.8540715 & 14.234524 &  83.63955\\\\\n",
       "\tcomp 4 & 0.5115777 &  8.526295 &  92.16585\\\\\n",
       "\tcomp 5 & 0.2767693 &  4.612822 &  96.77867\\\\\n",
       "\tcomp 6 & 0.1932799 &  3.221331 & 100.00000\\\\\n",
       "\\end{tabular}\n"
      ],
      "text/markdown": [
       "\n",
       "| <!--/--> | eigenvalue | percentage of variance | cumulative percentage of variance |\n",
       "|---|---|---|---|\n",
       "| comp 1 | 2.8468752 | 47.447921 |  47.44792 |\n",
       "| comp 2 | 1.3174264 | 21.957106 |  69.40503 |\n",
       "| comp 3 | 0.8540715 | 14.234524 |  83.63955 |\n",
       "| comp 4 | 0.5115777 |  8.526295 |  92.16585 |\n",
       "| comp 5 | 0.2767693 |  4.612822 |  96.77867 |\n",
       "| comp 6 | 0.1932799 |  3.221331 | 100.00000 |\n",
       "\n"
      ],
      "text/plain": [
       "       eigenvalue percentage of variance cumulative percentage of variance\n",
       "comp 1 2.8468752  47.447921               47.44792                        \n",
       "comp 2 1.3174264  21.957106               69.40503                        \n",
       "comp 3 0.8540715  14.234524               83.63955                        \n",
       "comp 4 0.5115777   8.526295               92.16585                        \n",
       "comp 5 0.2767693   4.612822               96.77867                        \n",
       "comp 6 0.1932799   3.221331              100.00000                        "
      ]
     },
     "metadata": {},
     "output_type": "display_data"
    }
   ],
   "source": [
    "res.pca$eig"
   ]
  },
  {
   "cell_type": "code",
   "execution_count": 25,
   "metadata": {},
   "outputs": [
    {
     "data": {
      "image/png": "[encoded data removed]",
      "text/plain": [
       "plot without title"
      ]
     },
     "metadata": {},
     "output_type": "display_data"
    }
   ],
   "source": [
    "options(repr.plot.width = 6, repr.plot.height = 5)\n",
    "fviz_eig(res.pca, addlabels = TRUE, main = 'Perte d\\'inertie')"
   ]
  },
  {
   "cell_type": "markdown",
   "metadata": {},
   "source": [
    "CCL:<br/>\n",
    "J'utiliserai le critère du coude et non le critère de l'inertie moyenne (qui inciterait à ne retenir que deux axes).<br/>\n",
    "Il semble être le critère le plus parcimonieux dans notre cas. <br/>\n",
    "Nous retiendrons donc les trois premiers axes afin d'avoir une variabilité du nuage de points la plus expliquée possible.<br/>"
   ]
  },
  {
   "cell_type": "code",
   "execution_count": 26,
   "metadata": {},
   "outputs": [],
   "source": [
    "# On place is_genuine en variable quantitative supplémentaire:\n",
    "res.pca1 <- PCA(auth, ncp = 3, scale.unit = TRUE, quanti.sup = 1, graph = F)"
   ]
  },
  {
   "cell_type": "markdown",
   "metadata": {},
   "source": [
    "## <span style='color:blue'>2. Analyse des composantes principales.<a name=\"M12\"></a>\n",
    "### <span style='color:brown'>a) Etude des plans factoriels de l'ACP à observer:<a name=\"M121\"></a>"
   ]
  },
  {
   "cell_type": "code",
   "execution_count": 27,
   "metadata": {},
   "outputs": [
    {
     "data": {
      "text/plain": [
       "Principal Component Analysis Results for variables\n",
       " ===================================================\n",
       "  Name       Description                                    \n",
       "1 \"$coord\"   \"Coordinates for the variables\"                \n",
       "2 \"$cor\"     \"Correlations between variables and dimensions\"\n",
       "3 \"$cos2\"    \"Cos2 for the variables\"                       \n",
       "4 \"$contrib\" \"contributions of the variables\"               "
      ]
     },
     "metadata": {},
     "output_type": "display_data"
    }
   ],
   "source": [
    "var <- get_pca_var(res.pca1)\n",
    "var"
   ]
  },
  {
   "cell_type": "code",
   "execution_count": 28,
   "metadata": {},
   "outputs": [
    {
     "data": {
      "image/png": "[encoded data removed]",
      "text/plain": [
       "Plot with title \"\""
      ]
     },
     "metadata": {},
     "output_type": "display_data"
    }
   ],
   "source": [
    "options(repr.plot.width = 3, repr.plot.height = 5)\n",
    "corrplot(var$cos2, is.corr = F)"
   ]
  },
  {
   "cell_type": "markdown",
   "metadata": {},
   "source": [
    "CCL:<br/>\n",
    "- L'analyse du plan factoriel de dimension 1 et 2 mettra en exergue la diagonale sur la dimension 2 tandis que celle du plan factoriel de dimension 1 et 3 illustrera \"margin_up\" sur l'axe 3 principalement.<br/>\n",
    "- Il suffira donc d'observer les cercles de corrélations des dimensions 1 et 2 ainsi que celui des dimensions 1 et 3 pour avoir une vision bien représentative des variables.\n",
    "\n",
    "En ACP normée, les variables qui sont le mieux représentées sont aussi celles qui contribuent le plus à l’axe et inversement, donc pas besoin d’étude spécifique de la contribution des variables aux axes principaux."
   ]
  },
  {
   "cell_type": "markdown",
   "metadata": {},
   "source": [
    "### <span style='color:brown'>b) Premier plan factoriel:<a name=\"M122\"></a>\n",
    "### <span style='color:red'>i) Représentation des variables par le cercle des corrélations:<a name=\"M1221\"></a>"
   ]
  },
  {
   "cell_type": "code",
   "execution_count": 29,
   "metadata": {},
   "outputs": [
    {
     "data": {
      "text/html": [
       "<dl>\n",
       "\t<dt>$coord</dt>\n",
       "\t\t<dd><table>\n",
       "<thead><tr><th></th><th scope=col>Dim.1</th><th scope=col>Dim.2</th><th scope=col>Dim.3</th></tr></thead>\n",
       "<tbody>\n",
       "\t<tr><th scope=row>diagonal</th><td> 0.1236346 </td><td> 0.8948635 </td><td>-0.08215244</td></tr>\n",
       "\t<tr><th scope=row>height_left</th><td> 0.8022997 </td><td> 0.3893886 </td><td> 0.11345001</td></tr>\n",
       "\t<tr><th scope=row>height_right</th><td> 0.8298348 </td><td> 0.2703538 </td><td> 0.14216371</td></tr>\n",
       "\t<tr><th scope=row>margin_low</th><td> 0.7272578 </td><td>-0.3679098 </td><td> 0.47391620</td></tr>\n",
       "\t<tr><th scope=row>margin_up</th><td> 0.5948294 </td><td>-0.1619761 </td><td>-0.75887278</td></tr>\n",
       "\t<tr><th scope=row>length</th><td>-0.7852090 </td><td> 0.3610224 </td><td> 0.11728832</td></tr>\n",
       "</tbody>\n",
       "</table>\n",
       "</dd>\n",
       "\t<dt>$cor</dt>\n",
       "\t\t<dd><table>\n",
       "<thead><tr><th></th><th scope=col>Dim.1</th><th scope=col>Dim.2</th><th scope=col>Dim.3</th></tr></thead>\n",
       "<tbody>\n",
       "\t<tr><th scope=row>diagonal</th><td> 0.1236346 </td><td> 0.8948635 </td><td>-0.08215244</td></tr>\n",
       "\t<tr><th scope=row>height_left</th><td> 0.8022997 </td><td> 0.3893886 </td><td> 0.11345001</td></tr>\n",
       "\t<tr><th scope=row>height_right</th><td> 0.8298348 </td><td> 0.2703538 </td><td> 0.14216371</td></tr>\n",
       "\t<tr><th scope=row>margin_low</th><td> 0.7272578 </td><td>-0.3679098 </td><td> 0.47391620</td></tr>\n",
       "\t<tr><th scope=row>margin_up</th><td> 0.5948294 </td><td>-0.1619761 </td><td>-0.75887278</td></tr>\n",
       "\t<tr><th scope=row>length</th><td>-0.7852090 </td><td> 0.3610224 </td><td> 0.11728832</td></tr>\n",
       "</tbody>\n",
       "</table>\n",
       "</dd>\n",
       "\t<dt>$cos2</dt>\n",
       "\t\t<dd><table>\n",
       "<thead><tr><th></th><th scope=col>Dim.1</th><th scope=col>Dim.2</th><th scope=col>Dim.3</th></tr></thead>\n",
       "<tbody>\n",
       "\t<tr><th scope=row>diagonal</th><td>0.01528551 </td><td>0.80078062 </td><td>0.006749023</td></tr>\n",
       "\t<tr><th scope=row>height_left</th><td>0.64368476 </td><td>0.15162351 </td><td>0.012870906</td></tr>\n",
       "\t<tr><th scope=row>height_right</th><td>0.68862579 </td><td>0.07309119 </td><td>0.020210521</td></tr>\n",
       "\t<tr><th scope=row>margin_low</th><td>0.52890394 </td><td>0.13535760 </td><td>0.224596566</td></tr>\n",
       "\t<tr><th scope=row>margin_up</th><td>0.35382201 </td><td>0.02623626 </td><td>0.575887893</td></tr>\n",
       "\t<tr><th scope=row>length</th><td>0.61655322 </td><td>0.13033718 </td><td>0.013756551</td></tr>\n",
       "</tbody>\n",
       "</table>\n",
       "</dd>\n",
       "\t<dt>$contrib</dt>\n",
       "\t\t<dd><table>\n",
       "<thead><tr><th></th><th scope=col>Dim.1</th><th scope=col>Dim.2</th><th scope=col>Dim.3</th></tr></thead>\n",
       "<tbody>\n",
       "\t<tr><th scope=row>diagonal</th><td> 0.5369225</td><td>60.783710 </td><td> 0.7902176</td></tr>\n",
       "\t<tr><th scope=row>height_left</th><td>22.6102201</td><td>11.509069 </td><td> 1.5070057</td></tr>\n",
       "\t<tr><th scope=row>height_right</th><td>24.1888293</td><td> 5.548028 </td><td> 2.3663735</td></tr>\n",
       "\t<tr><th scope=row>margin_low</th><td>18.5784026</td><td>10.274396 </td><td>26.2971632</td></tr>\n",
       "\t<tr><th scope=row>margin_up</th><td>12.4284339</td><td> 1.991478 </td><td>67.4285374</td></tr>\n",
       "\t<tr><th scope=row>length</th><td>21.6571915</td><td> 9.893318 </td><td> 1.6107025</td></tr>\n",
       "</tbody>\n",
       "</table>\n",
       "</dd>\n",
       "</dl>\n"
      ],
      "text/latex": [
       "\\begin{description}\n",
       "\\item[\\$coord] \\begin{tabular}{r|lll}\n",
       "  & Dim.1 & Dim.2 & Dim.3\\\\\n",
       "\\hline\n",
       "\tdiagonal &  0.1236346  &  0.8948635  & -0.08215244\\\\\n",
       "\theight\\_left &  0.8022997  &  0.3893886  &  0.11345001\\\\\n",
       "\theight\\_right &  0.8298348  &  0.2703538  &  0.14216371\\\\\n",
       "\tmargin\\_low &  0.7272578  & -0.3679098  &  0.47391620\\\\\n",
       "\tmargin\\_up &  0.5948294  & -0.1619761  & -0.75887278\\\\\n",
       "\tlength & -0.7852090  &  0.3610224  &  0.11728832\\\\\n",
       "\\end{tabular}\n",
       "\n",
       "\\item[\\$cor] \\begin{tabular}{r|lll}\n",
       "  & Dim.1 & Dim.2 & Dim.3\\\\\n",
       "\\hline\n",
       "\tdiagonal &  0.1236346  &  0.8948635  & -0.08215244\\\\\n",
       "\theight\\_left &  0.8022997  &  0.3893886  &  0.11345001\\\\\n",
       "\theight\\_right &  0.8298348  &  0.2703538  &  0.14216371\\\\\n",
       "\tmargin\\_low &  0.7272578  & -0.3679098  &  0.47391620\\\\\n",
       "\tmargin\\_up &  0.5948294  & -0.1619761  & -0.75887278\\\\\n",
       "\tlength & -0.7852090  &  0.3610224  &  0.11728832\\\\\n",
       "\\end{tabular}\n",
       "\n",
       "\\item[\\$cos2] \\begin{tabular}{r|lll}\n",
       "  & Dim.1 & Dim.2 & Dim.3\\\\\n",
       "\\hline\n",
       "\tdiagonal & 0.01528551  & 0.80078062  & 0.006749023\\\\\n",
       "\theight\\_left & 0.64368476  & 0.15162351  & 0.012870906\\\\\n",
       "\theight\\_right & 0.68862579  & 0.07309119  & 0.020210521\\\\\n",
       "\tmargin\\_low & 0.52890394  & 0.13535760  & 0.224596566\\\\\n",
       "\tmargin\\_up & 0.35382201  & 0.02623626  & 0.575887893\\\\\n",
       "\tlength & 0.61655322  & 0.13033718  & 0.013756551\\\\\n",
       "\\end{tabular}\n",
       "\n",
       "\\item[\\$contrib] \\begin{tabular}{r|lll}\n",
       "  & Dim.1 & Dim.2 & Dim.3\\\\\n",
       "\\hline\n",
       "\tdiagonal &  0.5369225 & 60.783710  &  0.7902176\\\\\n",
       "\theight\\_left & 22.6102201 & 11.509069  &  1.5070057\\\\\n",
       "\theight\\_right & 24.1888293 &  5.548028  &  2.3663735\\\\\n",
       "\tmargin\\_low & 18.5784026 & 10.274396  & 26.2971632\\\\\n",
       "\tmargin\\_up & 12.4284339 &  1.991478  & 67.4285374\\\\\n",
       "\tlength & 21.6571915 &  9.893318  &  1.6107025\\\\\n",
       "\\end{tabular}\n",
       "\n",
       "\\end{description}\n"
      ],
      "text/markdown": [
       "$coord\n",
       ":   \n",
       "| <!--/--> | Dim.1 | Dim.2 | Dim.3 |\n",
       "|---|---|---|---|\n",
       "| diagonal |  0.1236346  |  0.8948635  | -0.08215244 |\n",
       "| height_left |  0.8022997  |  0.3893886  |  0.11345001 |\n",
       "| height_right |  0.8298348  |  0.2703538  |  0.14216371 |\n",
       "| margin_low |  0.7272578  | -0.3679098  |  0.47391620 |\n",
       "| margin_up |  0.5948294  | -0.1619761  | -0.75887278 |\n",
       "| length | -0.7852090  |  0.3610224  |  0.11728832 |\n",
       "\n",
       "\n",
       "$cor\n",
       ":   \n",
       "| <!--/--> | Dim.1 | Dim.2 | Dim.3 |\n",
       "|---|---|---|---|\n",
       "| diagonal |  0.1236346  |  0.8948635  | -0.08215244 |\n",
       "| height_left |  0.8022997  |  0.3893886  |  0.11345001 |\n",
       "| height_right |  0.8298348  |  0.2703538  |  0.14216371 |\n",
       "| margin_low |  0.7272578  | -0.3679098  |  0.47391620 |\n",
       "| margin_up |  0.5948294  | -0.1619761  | -0.75887278 |\n",
       "| length | -0.7852090  |  0.3610224  |  0.11728832 |\n",
       "\n",
       "\n",
       "$cos2\n",
       ":   \n",
       "| <!--/--> | Dim.1 | Dim.2 | Dim.3 |\n",
       "|---|---|---|---|\n",
       "| diagonal | 0.01528551  | 0.80078062  | 0.006749023 |\n",
       "| height_left | 0.64368476  | 0.15162351  | 0.012870906 |\n",
       "| height_right | 0.68862579  | 0.07309119  | 0.020210521 |\n",
       "| margin_low | 0.52890394  | 0.13535760  | 0.224596566 |\n",
       "| margin_up | 0.35382201  | 0.02623626  | 0.575887893 |\n",
       "| length | 0.61655322  | 0.13033718  | 0.013756551 |\n",
       "\n",
       "\n",
       "$contrib\n",
       ":   \n",
       "| <!--/--> | Dim.1 | Dim.2 | Dim.3 |\n",
       "|---|---|---|---|\n",
       "| diagonal |  0.5369225 | 60.783710  |  0.7902176 |\n",
       "| height_left | 22.6102201 | 11.509069  |  1.5070057 |\n",
       "| height_right | 24.1888293 |  5.548028  |  2.3663735 |\n",
       "| margin_low | 18.5784026 | 10.274396  | 26.2971632 |\n",
       "| margin_up | 12.4284339 |  1.991478  | 67.4285374 |\n",
       "| length | 21.6571915 |  9.893318  |  1.6107025 |\n",
       "\n",
       "\n",
       "\n",
       "\n"
      ],
      "text/plain": [
       "$coord\n",
       "                  Dim.1      Dim.2       Dim.3\n",
       "diagonal      0.1236346  0.8948635 -0.08215244\n",
       "height_left   0.8022997  0.3893886  0.11345001\n",
       "height_right  0.8298348  0.2703538  0.14216371\n",
       "margin_low    0.7272578 -0.3679098  0.47391620\n",
       "margin_up     0.5948294 -0.1619761 -0.75887278\n",
       "length       -0.7852090  0.3610224  0.11728832\n",
       "\n",
       "$cor\n",
       "                  Dim.1      Dim.2       Dim.3\n",
       "diagonal      0.1236346  0.8948635 -0.08215244\n",
       "height_left   0.8022997  0.3893886  0.11345001\n",
       "height_right  0.8298348  0.2703538  0.14216371\n",
       "margin_low    0.7272578 -0.3679098  0.47391620\n",
       "margin_up     0.5948294 -0.1619761 -0.75887278\n",
       "length       -0.7852090  0.3610224  0.11728832\n",
       "\n",
       "$cos2\n",
       "                  Dim.1      Dim.2       Dim.3\n",
       "diagonal     0.01528551 0.80078062 0.006749023\n",
       "height_left  0.64368476 0.15162351 0.012870906\n",
       "height_right 0.68862579 0.07309119 0.020210521\n",
       "margin_low   0.52890394 0.13535760 0.224596566\n",
       "margin_up    0.35382201 0.02623626 0.575887893\n",
       "length       0.61655322 0.13033718 0.013756551\n",
       "\n",
       "$contrib\n",
       "                  Dim.1     Dim.2      Dim.3\n",
       "diagonal      0.5369225 60.783710  0.7902176\n",
       "height_left  22.6102201 11.509069  1.5070057\n",
       "height_right 24.1888293  5.548028  2.3663735\n",
       "margin_low   18.5784026 10.274396 26.2971632\n",
       "margin_up    12.4284339  1.991478 67.4285374\n",
       "length       21.6571915  9.893318  1.6107025\n"
      ]
     },
     "metadata": {},
     "output_type": "display_data"
    }
   ],
   "source": [
    "res.pca1$var"
   ]
  },
  {
   "cell_type": "code",
   "execution_count": 30,
   "metadata": {
    "scrolled": false
   },
   "outputs": [
    {
     "data": {
      "image/png": "[encoded data removed]",
      "text/plain": [
       "plot without title"
      ]
     },
     "metadata": {},
     "output_type": "display_data"
    }
   ],
   "source": [
    "options(repr.plot.width = 8, repr.plot.height = 5)\n",
    "fviz_pca_var(res.pca1,\n",
    "             col.var = \"cos2\",\n",
    "             gradient.cols = c(\"#00AFBB\", \"#E7B800\", \"#FC4E07\"),\n",
    "             repel = TRUE # Évite le chevauchement de texte\n",
    "             )"
   ]
  },
  {
   "cell_type": "markdown",
   "metadata": {},
   "source": [
    "CCL:<br/>\n",
    "- Mise à part margin_up, toutes les autres variables sont très bien représentées dans le plan factoriel.<br/>\n",
    "- On retrouve nos corrélation trouvées auparavant entre length, margin_low et is_genuine. length et margin_low sont corrélées négativement et is_genuine et length le sont positivement. Cela confirmerait donc notre première supposition, à savoir que la nature d'un faux billet se caractériserait principalement par une longueur plus petite et une marge basse plus grande par rapport à l'ensemble des billets.<br/>\n",
    "- La variable \"diagonal\" est très corrélée à la deuxième composante. Etant la seule à contribuer aussi fortement, on peut en déduire que l'axe 2 est conditionné par ‘’diagonal’’. Ce qui confirme également qu’il n’y a pas pas de corrélation entre diagonal et is_genuine, et donc que cette variable ne jouera pas un rôle prépondérant dans l’identification des billets.<br/>\n",
    "- On risque alors de trouver l'essentiel des vrais billets dans la zone gauche et les faux billets dans la zone droite."
   ]
  },
  {
   "cell_type": "markdown",
   "metadata": {},
   "source": [
    "### <span style='color:red'>ii) Représentation des individus par le premier plan factoriel:<a name=\"M1222\"></a>"
   ]
  },
  {
   "cell_type": "code",
   "execution_count": 31,
   "metadata": {},
   "outputs": [
    {
     "data": {
      "image/png": "[encoded data removed]",
      "text/plain": [
       "plot without title"
      ]
     },
     "metadata": {},
     "output_type": "display_data"
    }
   ],
   "source": [
    "options(repr.plot.width = 8, repr.plot.height = 5)\n",
    "fviz_pca_ind (res.pca1,\n",
    "              geom = c('point', 'text'),\n",
    "              habillage = 1,\n",
    "              pointsize = 2,\n",
    "              labelsize = 3,\n",
    "              palette = c(\"#FC4E07\", \"#00AFBB\"),\n",
    "              addEllipses = TRUE\n",
    "             )"
   ]
  },
  {
   "cell_type": "markdown",
   "metadata": {},
   "source": [
    "CCL: Peu d'individus dans l'intersection des ellipses, le plan factoriel est donc propice à l'identification des billets."
   ]
  },
  {
   "cell_type": "markdown",
   "metadata": {},
   "source": [
    "### <span style='color:brown'>c) Deuxième plan factoriel:<a name=\"M123\"></a>\n",
    "### <span style='color:red'>i) Représentation des variables par le cercle des corrélations:<a name=\"M1231\"></a>"
   ]
  },
  {
   "cell_type": "code",
   "execution_count": 32,
   "metadata": {},
   "outputs": [
    {
     "data": {
      "image/png": "[encoded data removed]",
      "text/plain": [
       "plot without title"
      ]
     },
     "metadata": {},
     "output_type": "display_data"
    }
   ],
   "source": [
    "options(repr.plot.width = 8, repr.plot.height = 5)\n",
    "fviz_pca_var(res.pca1,\n",
    "             axes = c(1, 3),\n",
    "             col.var = \"cos2\",\n",
    "             gradient.cols = c(\"#00AFBB\", \"#E7B800\", \"#FC4E07\"),\n",
    "             repel = TRUE # Évite le chevauchement de texte\n",
    "             )"
   ]
  },
  {
   "cell_type": "markdown",
   "metadata": {},
   "source": [
    "CCL:<br/>\n",
    "- Sur l'axe 1, length et is_genuine sont très corrélés: l'axe 1 contribue fortement à identifer les billets.\n",
    "- margin_up, mieux représenté sur ce plan, est corrélé à la fois avec l’axe 1 et l’axe 3."
   ]
  },
  {
   "cell_type": "markdown",
   "metadata": {},
   "source": [
    "### <span style='color:red'>ii) Représentation des individus par le deuxième plan factoriel:<a name=\"M1232\"></a>"
   ]
  },
  {
   "cell_type": "code",
   "execution_count": 33,
   "metadata": {},
   "outputs": [
    {
     "data": {
      "image/png": "[encoded data removed]",
      "text/plain": [
       "plot without title"
      ]
     },
     "metadata": {},
     "output_type": "display_data"
    }
   ],
   "source": [
    "options(repr.plot.width = 8, repr.plot.height = 5)\n",
    "fviz_pca_ind (res.pca1,\n",
    "              axes = c(1, 3),\n",
    "              geom = c('point', 'text'),\n",
    "              habillage = 1,\n",
    "              pointsize = 2,\n",
    "              labelsize = 3,\n",
    "              palette = c(\"#FC4E07\", \"#00AFBB\"),\n",
    "              addEllipses = TRUE\n",
    "             )"
   ]
  },
  {
   "cell_type": "markdown",
   "metadata": {},
   "source": [
    "CCL: Ici l'intersection des ellipses comprend beaucoup de billets, il sera donc difficile d'avoir une analyse rigoureuse de la nature des billets.<br/>\n",
    "Ce plan factoriel ne sera donc pas indispensable dans l'analyse."
   ]
  },
  {
   "cell_type": "markdown",
   "metadata": {},
   "source": [
    "## <span style='color:blue'>3) Qualité de représentation et contributions des individus.<a name=\"M13\"></a>\n",
    "### <span style='color:brown'>a) Premier plan factoriel:<a name=\"M131\"></a>\n",
    "### <span style='color:red'>i) Qualité de représentation des individus:<a name=\"M1311\"></a>"
   ]
  },
  {
   "cell_type": "code",
   "execution_count": 34,
   "metadata": {},
   "outputs": [
    {
     "data": {
      "image/png": "[encoded data removed]",
      "text/plain": [
       "plot without title"
      ]
     },
     "metadata": {},
     "output_type": "display_data"
    }
   ],
   "source": [
    "options(repr.plot.width = 8, repr.plot.height = 5)\n",
    "fviz_pca_ind (res.pca1,\n",
    "              geom = c(\"point\", \"text\"),\n",
    "              labelsize = 3,\n",
    "              col.ind = \"cos2\", \n",
    "              pointsize = \"cos2\",\n",
    "              gradient.cols = c(\"#00AFBB\", \"#E7B800\", \"#FC4E07\"),\n",
    "              pointshape = 20\n",
    "              )"
   ]
  },
  {
   "cell_type": "markdown",
   "metadata": {},
   "source": [
    "CCL: Peu d'individus sont mal représentés."
   ]
  },
  {
   "cell_type": "markdown",
   "metadata": {},
   "source": [
    "### <span style='color:red'>ii) Contributions des individus:<a name=\"M1312\"></a>"
   ]
  },
  {
   "cell_type": "code",
   "execution_count": 35,
   "metadata": {},
   "outputs": [
    {
     "data": {
      "image/png": "[encoded data removed]",
      "text/plain": [
       "plot without title"
      ]
     },
     "metadata": {},
     "output_type": "display_data"
    }
   ],
   "source": [
    "options(repr.plot.width = 8, repr.plot.height = 5)\n",
    "fviz_pca_ind (res.pca1,\n",
    "              geom = (\"point\"),\n",
    "              habillage = 1,\n",
    "              pointsize = \"contrib\",\n",
    "              pointshape = 20\n",
    "              )"
   ]
  },
  {
   "cell_type": "markdown",
   "metadata": {},
   "source": [
    "CCL:\n",
    "- Qualité de représentation et contribution des billets relativement symétriques sur le premier plan factoriel.\n",
    "- Les billets sont assez bien dispersés selon leurs natures.<br/>\n",
    "- Plus on est au centre, moins il y a d'impact sur la projection."
   ]
  },
  {
   "cell_type": "markdown",
   "metadata": {},
   "source": [
    "### <span style='color:brown'>b) Deuxième plan factoriel:<a name=\"M132\"></a>\n",
    "### <span style='color:red'>i) Qualité de représentation des individus:<a name=\"M1321\"></a>"
   ]
  },
  {
   "cell_type": "code",
   "execution_count": 36,
   "metadata": {},
   "outputs": [
    {
     "data": {
      "image/png": "[encoded data removed]",
      "text/plain": [
       "plot without title"
      ]
     },
     "metadata": {},
     "output_type": "display_data"
    }
   ],
   "source": [
    "options(repr.plot.width = 8, repr.plot.height = 5)\n",
    "fviz_pca_ind (res.pca1,\n",
    "              axe = c(1, 3),\n",
    "              geom = c(\"point\", \"text\"),\n",
    "              labelsize = 3,\n",
    "              pointsize = 3,\n",
    "              col.ind = \"cos2\",\n",
    "              #select.ind = list(cos2 = 0.8),\n",
    "              gradient.cols = c(\"#00AFBB\", \"#E7B800\", \"#FC4E07\"),\n",
    "              )"
   ]
  },
  {
   "cell_type": "markdown",
   "metadata": {},
   "source": [
    "CCL:<br/>Les billets sont mal représentés au milieu, là où, de plus, se dessinait l'intersection d'ellipses sur le graphe des individus.<br/>Il y a donc plus d'incertitude à déterminier la nature des billets, ce qui confirme que ce plan n'est pas déterminant dans notre analyse."
   ]
  },
  {
   "cell_type": "markdown",
   "metadata": {},
   "source": [
    "### <span style='color:red'>ii) Contributions des individus:<a name=\"M1322\"></a>"
   ]
  },
  {
   "cell_type": "code",
   "execution_count": 37,
   "metadata": {},
   "outputs": [
    {
     "data": {
      "image/png": "[encoded data removed]",
      "text/plain": [
       "plot without title"
      ]
     },
     "metadata": {},
     "output_type": "display_data"
    }
   ],
   "source": [
    "options(repr.plot.width = 8, repr.plot.height = 5)\n",
    "fviz_pca_ind (res.pca1,\n",
    "              axe = c(1, 3),\n",
    "              geom = (\"point\"),\n",
    "              habillage = 1,\n",
    "              pointsize = \"contrib\",\n",
    "              pointshape = 20\n",
    "              )"
   ]
  },
  {
   "cell_type": "markdown",
   "metadata": {},
   "source": [
    "CCL: On peut affirmer maintenant que l'axe 1 apporte beaucoup à l'identification des billets."
   ]
  },
  {
   "cell_type": "markdown",
   "metadata": {},
   "source": [
    "# Mission 2 - Algorithme de classification.<a name=\"M2\"></a>\n",
    "## <span style='color:blue'>1. Clustering par la méthode des k-means.<a name=\"M21\"></a>\n",
    "### <span style='color:brown'>a) Détermination du nombre de classes.<a name=\"M211\"></a>"
   ]
  },
  {
   "cell_type": "code",
   "execution_count": 38,
   "metadata": {},
   "outputs": [
    {
     "data": {
      "image/png": "[encoded data removed]",
      "text/plain": [
       "Plot with title \"Proportion d'inertie expliquée par groupe formé\""
      ]
     },
     "metadata": {},
     "output_type": "display_data"
    }
   ],
   "source": [
    "# Piste 1: Evaluer la proportion d'inertie expliquée\n",
    "options(repr.plot.width = 6, repr.plot.height = 4)\n",
    "inertie.expl <- rep(0, times = 5)\n",
    "for (k in 2:5)\n",
    "{\n",
    "    clus <- kmeans(notes[, -1], centers = k, nstart = 5)\n",
    "    inertie.expl[k] <- clus$betweenss/clus$totss\n",
    "}\n",
    "plot(1:5,\n",
    "     inertie.expl,\n",
    "     type = \"b\",\n",
    "     xlab = \"Nb. de groupes\",\n",
    "     ylab = \"% Inertie expliquée\",\n",
    "     main = \"Proportion d'inertie expliquée par groupe formé\")"
   ]
  },
  {
   "cell_type": "markdown",
   "metadata": {},
   "source": [
    "CCL: A partir de k = 2 classes, l’adjonction d’un groupe supplémentaire n’augmente pas « significativement » la part d’inertie expliquée par la partition. "
   ]
  },
  {
   "cell_type": "code",
   "execution_count": 39,
   "metadata": {
    "scrolled": false
   },
   "outputs": [
    {
     "data": {
      "image/png": "[encoded data removed]",
      "text/plain": [
       "Plot with title \"Graphe des silhouettes\""
      ]
     },
     "metadata": {},
     "output_type": "display_data"
    }
   ],
   "source": [
    "# Piste 2: Indice de Calinski-Harabasz:\n",
    "options(repr.plot.width = 6, repr.plot.height = 4)\n",
    "sol.kmeans <- kmeansruns(notes[, -1], krange = 2:5, criterion = \"ch\") # Evaluation des solutions\n",
    "plot(1:5, sol.kmeans$crit, type = \"b\", xlab = \"Nb. de groupes\", ylab = \"Silhouette\", main = \"Graphe des silhouettes\")"
   ]
  },
  {
   "cell_type": "markdown",
   "metadata": {},
   "source": [
    "CCL: La solution k = 2 classes maximise l’indice."
   ]
  },
  {
   "cell_type": "markdown",
   "metadata": {},
   "source": [
    "N.B.: Grace à l'ACP, on savait déjà qu'on devait répartir les individus en deux classes puisqu'on cherche à identifier de deux manières possibles la nature des billets."
   ]
  },
  {
   "cell_type": "markdown",
   "metadata": {},
   "source": [
    "### <span style='color:brown'>b) Partionnement.<a name=\"M212\"></a>\n",
    "La méthode des k-means permet de regrouper ici les points par itération en partant initialement de \"centres de gravité\" pris au hasard (méthode non supervisée)."
   ]
  },
  {
   "cell_type": "markdown",
   "metadata": {},
   "source": [
    "### <span style='color:red'>i) Variables non centrées-réduites."
   ]
  },
  {
   "cell_type": "code",
   "execution_count": 40,
   "metadata": {},
   "outputs": [
    {
     "data": {
      "text/plain": [
       "       \n",
       "         1  2\n",
       "  False 68  2\n",
       "  True   1 99"
      ]
     },
     "metadata": {},
     "output_type": "display_data"
    },
    {
     "name": "stdout",
     "output_type": "stream",
     "text": [
      "Sensibilité: 98.02\n",
      "Spécificité: 98.55\n",
      "Précision: 99\n",
      "F-mesure: 98.51\n"
     ]
    }
   ],
   "source": [
    "set.seed(1234)\n",
    "# centers = nombre de groupes demandés:\n",
    "kmeans <- kmeans(notes[, -1], centers = 2, nstart = 5, iter.max = 10) \n",
    "\n",
    "# Matrice de confusion:\n",
    "confusion <- table(notes$is_genuine, kmeans$cluster)\n",
    "confusion\n",
    "\n",
    "sensibilite <- round(confusion[2, 2]/sum(confusion[, 2])*100, 2)\n",
    "cat(sprintf(\"Sensibilité: %s\\n\", sensibilite))\n",
    "specificite <- round(confusion[1, 1]/sum(confusion[, 1])*100, 2)\n",
    "cat(sprintf(\"Spécificité: %s\\n\", specificite))\n",
    "precision <- round(confusion[2, 2]/sum(confusion[2, ])*100, 2)\n",
    "cat(sprintf(\"Précision: %s\\n\", precision))\n",
    "F_score <- round(2*(precision*sensibilite)/(precision + sensibilite), 2)\n",
    "cat(sprintf(\"F-mesure: %s\\n\", F_score))"
   ]
  },
  {
   "cell_type": "markdown",
   "metadata": {},
   "source": [
    "CCL:<br/>\n",
    "- Trois billets sont mal représentés.\n",
    "- La probabilité que le billet soit vrai sachant qu'il est dans le groupe 2 est de 98,02%.\n",
    "- La probabilité que le billet soit faux sachant qu'il est dans le groupe 1 est de 98,55%."
   ]
  },
  {
   "cell_type": "code",
   "execution_count": 41,
   "metadata": {},
   "outputs": [
    {
     "data": {
      "image/png": "[encoded data removed]",
      "text/plain": [
       "plot without title"
      ]
     },
     "metadata": {},
     "output_type": "display_data"
    },
    {
     "data": {
      "image/png": "[encoded data removed]",
      "text/plain": [
       "plot without title"
      ]
     },
     "metadata": {},
     "output_type": "display_data"
    }
   ],
   "source": [
    "options(repr.plot.width = 6, repr.plot.height = 4)\n",
    "res <- data.frame(res.pca1$ind$coord, classe = as.factor(kmeans$cluster), is_genuine = notes$is_genuine)\n",
    "ggplot(res, aes (x = Dim.1, y = Dim.2, color = classe)) +  geom_point()\n",
    "ggplot(res, aes (x = Dim.1, y = Dim.2, color = is_genuine)) + geom_point() # Afin de comparer plus facilement"
   ]
  },
  {
   "cell_type": "markdown",
   "metadata": {},
   "source": [
    "### <span style='color:red'>ii) Variables centrées-réduites."
   ]
  },
  {
   "cell_type": "code",
   "execution_count": 42,
   "metadata": {},
   "outputs": [
    {
     "data": {
      "text/html": [
       "<table>\n",
       "<thead><tr><th scope=col>diagonal</th><th scope=col>height_left</th><th scope=col>height_right</th><th scope=col>margin_low</th><th scope=col>margin_up</th><th scope=col>length</th></tr></thead>\n",
       "<tbody>\n",
       "\t<tr><td>-0.4270822</td><td> 2.661591 </td><td> 3.0874422</td><td>-0.1312025</td><td>-1.1863689</td><td>0.2808035 </td></tr>\n",
       "\t<tr><td>-0.8849450</td><td>-1.094464 </td><td>-0.6892183</td><td>-0.8575920</td><td>-1.2709851</td><td>0.7783978 </td></tr>\n",
       "\t<tr><td>-0.3616732</td><td>-1.027391 </td><td>-0.5079386</td><td>-0.3021177</td><td>-1.2286770</td><td>1.3733475 </td></tr>\n",
       "\t<tr><td>-0.4597866</td><td>-0.960319 </td><td>-0.8402848</td><td>-1.2563941</td><td>-0.2132826</td><td>1.1461849 </td></tr>\n",
       "\t<tr><td> 0.3578256</td><td>-1.228609 </td><td>-0.5381519</td><td> 0.6094299</td><td>-3.8094710</td><td>1.0596467 </td></tr>\n",
       "\t<tr><td> 2.0584590</td><td> 1.957331 </td><td> 1.5465647</td><td>-0.1027167</td><td>-0.7632879</td><td>0.6377733 </td></tr>\n",
       "</tbody>\n",
       "</table>\n"
      ],
      "text/latex": [
       "\\begin{tabular}{llllll}\n",
       " diagonal & height\\_left & height\\_right & margin\\_low & margin\\_up & length\\\\\n",
       "\\hline\n",
       "\t -0.4270822 &  2.661591  &  3.0874422 & -0.1312025 & -1.1863689 & 0.2808035 \\\\\n",
       "\t -0.8849450 & -1.094464  & -0.6892183 & -0.8575920 & -1.2709851 & 0.7783978 \\\\\n",
       "\t -0.3616732 & -1.027391  & -0.5079386 & -0.3021177 & -1.2286770 & 1.3733475 \\\\\n",
       "\t -0.4597866 & -0.960319  & -0.8402848 & -1.2563941 & -0.2132826 & 1.1461849 \\\\\n",
       "\t  0.3578256 & -1.228609  & -0.5381519 &  0.6094299 & -3.8094710 & 1.0596467 \\\\\n",
       "\t  2.0584590 &  1.957331  &  1.5465647 & -0.1027167 & -0.7632879 & 0.6377733 \\\\\n",
       "\\end{tabular}\n"
      ],
      "text/markdown": [
       "\n",
       "| diagonal | height_left | height_right | margin_low | margin_up | length |\n",
       "|---|---|---|---|---|---|\n",
       "| -0.4270822 |  2.661591  |  3.0874422 | -0.1312025 | -1.1863689 | 0.2808035  |\n",
       "| -0.8849450 | -1.094464  | -0.6892183 | -0.8575920 | -1.2709851 | 0.7783978  |\n",
       "| -0.3616732 | -1.027391  | -0.5079386 | -0.3021177 | -1.2286770 | 1.3733475  |\n",
       "| -0.4597866 | -0.960319  | -0.8402848 | -1.2563941 | -0.2132826 | 1.1461849  |\n",
       "|  0.3578256 | -1.228609  | -0.5381519 |  0.6094299 | -3.8094710 | 1.0596467  |\n",
       "|  2.0584590 |  1.957331  |  1.5465647 | -0.1027167 | -0.7632879 | 0.6377733  |\n",
       "\n"
      ],
      "text/plain": [
       "     diagonal   height_left height_right margin_low margin_up  length   \n",
       "[1,] -0.4270822  2.661591    3.0874422   -0.1312025 -1.1863689 0.2808035\n",
       "[2,] -0.8849450 -1.094464   -0.6892183   -0.8575920 -1.2709851 0.7783978\n",
       "[3,] -0.3616732 -1.027391   -0.5079386   -0.3021177 -1.2286770 1.3733475\n",
       "[4,] -0.4597866 -0.960319   -0.8402848   -1.2563941 -0.2132826 1.1461849\n",
       "[5,]  0.3578256 -1.228609   -0.5381519    0.6094299 -3.8094710 1.0596467\n",
       "[6,]  2.0584590  1.957331    1.5465647   -0.1027167 -0.7632879 0.6377733"
      ]
     },
     "metadata": {},
     "output_type": "display_data"
    }
   ],
   "source": [
    "normalisation <- notes[, -1] %>% scale\n",
    "normalisation %>% head()"
   ]
  },
  {
   "cell_type": "code",
   "execution_count": 43,
   "metadata": {},
   "outputs": [
    {
     "data": {
      "text/plain": [
       "       \n",
       "         1  2\n",
       "  False 69  1\n",
       "  True   8 92"
      ]
     },
     "metadata": {},
     "output_type": "display_data"
    },
    {
     "name": "stdout",
     "output_type": "stream",
     "text": [
      "Sensibilité: 98.92\n",
      "Spécificité: 89.61\n",
      "Précision: 92\n",
      "F-mesure: 95.33\n"
     ]
    }
   ],
   "source": [
    "set.seed(1234)\n",
    "kmeans <- kmeans(normalisation, centers = 2, nstart = 5, iter.max = 10)\n",
    "\n",
    "confusion <- table(notes$is_genuine, kmeans$cluster)\n",
    "confusion\n",
    "\n",
    "sensibilite <- round(confusion[2, 2]/sum(confusion[, 2])*100, 2)\n",
    "cat(sprintf(\"Sensibilité: %s\\n\", sensibilite))\n",
    "specificite <- round(confusion[1, 1]/sum(confusion[, 1])*100, 2)\n",
    "cat(sprintf(\"Spécificité: %s\\n\", specificite))\n",
    "precision <- round(confusion[2, 2]/sum(confusion[2, ])*100, 2)\n",
    "cat(sprintf(\"Précision: %s\\n\", precision))\n",
    "F_score <- round(2*(precision*sensibilite)/(precision + sensibilite), 2)\n",
    "cat(sprintf(\"F-mesure: %s\\n\", F_score))"
   ]
  },
  {
   "cell_type": "markdown",
   "metadata": {},
   "source": [
    "CCL:<br/>\n",
    "- Neuf billets sont mal représentés.\n",
    "- la spécificité est moins bonne que celle d'avant.\n",
    "\n",
    "Normaliser les variables est moins performant, certainement en raison des variables déterminantes au départ qui perdent en pertinence dans l'identification une fois normalisées."
   ]
  },
  {
   "cell_type": "code",
   "execution_count": 44,
   "metadata": {},
   "outputs": [
    {
     "data": {
      "image/png": "[encoded data removed]",
      "text/plain": [
       "plot without title"
      ]
     },
     "metadata": {},
     "output_type": "display_data"
    }
   ],
   "source": [
    "res <- data.frame(res.pca1$ind$coord, classe = as.factor(kmeans$cluster))\n",
    "ggplot(res, aes (x = Dim.1, y = Dim.2, color = classe)) +  geom_point()"
   ]
  },
  {
   "cell_type": "markdown",
   "metadata": {},
   "source": [
    "## <span style='color:blue'>2. Clustering par classification hiérarchique ascendante.<a name=\"M22\"></a>\n",
    "## <span style='color:brown'>a) Distance Euclidienne:<a name=\"M221\"></a>"
   ]
  },
  {
   "cell_type": "code",
   "execution_count": 45,
   "metadata": {},
   "outputs": [],
   "source": [
    "# Calcul d'une matrice de distance avec les variables non centrées-réduites:\n",
    "d.notes <- dist(notes[, -1], method = 'euclidean')\n",
    "\n",
    "# Calcul d'une matrice de distance avec les variables centrées-réduites:\n",
    "d.norm <- dist(normalisation, method = 'euclidean')"
   ]
  },
  {
   "cell_type": "markdown",
   "metadata": {},
   "source": [
    "### <span style='color:red'>Méthode \"Ward.D2\".<a name=\"M2211\"></a>\n",
    "### <span style='color:purple'>Variables non normalisées."
   ]
  },
  {
   "cell_type": "code",
   "execution_count": 46,
   "metadata": {},
   "outputs": [
    {
     "data": {
      "text/plain": [
       "       groupes.cah\n",
       "         1  2\n",
       "  False  0 70\n",
       "  True  99  1"
      ]
     },
     "metadata": {},
     "output_type": "display_data"
    },
    {
     "name": "stdout",
     "output_type": "stream",
     "text": [
      "Sensibilité: 100\n",
      "Spécificité: 98.59\n",
      "Précision: 99\n",
      "F-mesure: 99.5\n"
     ]
    },
    {
     "data": {
      "image/png": "[encoded data removed]",
      "text/plain": [
       "Plot with title \"Cluster Dendrogram\""
      ]
     },
     "metadata": {},
     "output_type": "display_data"
    },
    {
     "data": {
      "image/png": "[encoded data removed]",
      "text/plain": [
       "plot without title"
      ]
     },
     "metadata": {},
     "output_type": "display_data"
    }
   ],
   "source": [
    "cah.ward2 <- hclust(d.notes, method = 'ward.D2')\n",
    "plot(cah.ward2, cex = 0.4, hang = -1)\n",
    "rect.hclust(cah.ward2, k = 2, border = 2:3)\n",
    "\n",
    "groupes.cah <- cutree(cah.ward2, k = 2)\n",
    "confusion <- table(notes$is_genuine, groupes.cah)\n",
    "confusion\n",
    "\n",
    "sensibilite <- round(confusion[2, 1]/sum(confusion[, 1])*100, 2)\n",
    "cat(sprintf(\"Sensibilité: %s\\n\", sensibilite))\n",
    "specificite <- round(confusion[1, 2]/sum(confusion[, 2])*100, 2)\n",
    "cat(sprintf(\"Spécificité: %s\\n\", specificite))\n",
    "precision <- round(confusion[2, 1]/sum(confusion[2, ])*100, 2)\n",
    "cat(sprintf(\"Précision: %s\\n\", precision))\n",
    "F_score <- round(2*(precision*sensibilite)/(precision + sensibilite), 2)\n",
    "cat(sprintf(\"F-mesure: %s\\n\", F_score))\n",
    "\n",
    "res <- data.frame(res.pca1$ind$coord, classe = as.factor(groupes.cah))\n",
    "ggplot(res, aes (x = Dim.1, y = Dim.2, color = classe)) +  geom_point()"
   ]
  },
  {
   "cell_type": "markdown",
   "metadata": {},
   "source": [
    "### <span style='color:purple'>Variables normalisées."
   ]
  },
  {
   "cell_type": "code",
   "execution_count": 47,
   "metadata": {},
   "outputs": [
    {
     "data": {
      "text/plain": [
       "       groupes.cah\n",
       "         1  2\n",
       "  False 69  1\n",
       "  True   2 98"
      ]
     },
     "metadata": {},
     "output_type": "display_data"
    },
    {
     "name": "stdout",
     "output_type": "stream",
     "text": [
      "Sensibilité: 98.99\n",
      "Spécificité: 97.18\n",
      "Précision: 98\n",
      "F-mesure: 98.49\n"
     ]
    },
    {
     "data": {
      "image/png": "[encoded data removed]",
      "text/plain": [
       "Plot with title \"Cluster Dendrogram\""
      ]
     },
     "metadata": {},
     "output_type": "display_data"
    },
    {
     "data": {
      "image/png": "[encoded data removed]",
      "text/plain": [
       "plot without title"
      ]
     },
     "metadata": {},
     "output_type": "display_data"
    }
   ],
   "source": [
    "cah.ward2 <- hclust(d.norm, method = 'ward.D2')\n",
    "plot(cah.ward2, cex = 0.4, hang = -1)\n",
    "rect.hclust(cah.ward2, k = 2, border = 2:3)\n",
    "\n",
    "groupes.cah <- cutree(cah.ward2, k = 2)\n",
    "confusion <- table(notes$is_genuine, groupes.cah)\n",
    "confusion\n",
    "\n",
    "sensibilite <- round(confusion[2, 2]/sum(confusion[, 2])*100, 2)\n",
    "cat(sprintf(\"Sensibilité: %s\\n\", sensibilite))\n",
    "specificite <- round(confusion[1, 1]/sum(confusion[, 1])*100, 2)\n",
    "cat(sprintf(\"Spécificité: %s\\n\", specificite))\n",
    "precision <- round(confusion[2, 2]/sum(confusion[2, ])*100, 2)\n",
    "cat(sprintf(\"Précision: %s\\n\", precision))\n",
    "F_score <- round(2*(precision*sensibilite)/(precision + sensibilite), 2)\n",
    "cat(sprintf(\"F-mesure: %s\\n\", F_score))\n",
    "\n",
    "res <- data.frame (res.pca1$ind$coord, classe = as.factor (groupes.cah))\n",
    "ggplot (res, aes (x = Dim.1, y = Dim.2, color = classe)) +  geom_point ()"
   ]
  },
  {
   "cell_type": "markdown",
   "metadata": {},
   "source": [
    "### <span style='color:red'>Méthode \"average\" et variables non normalisées.<a name=\"M2212\"></a>"
   ]
  },
  {
   "cell_type": "code",
   "execution_count": 48,
   "metadata": {
    "scrolled": false
   },
   "outputs": [
    {
     "data": {
      "text/plain": [
       "       groupes.cah\n",
       "         1  2\n",
       "  False 70  0\n",
       "  True   2 98"
      ]
     },
     "metadata": {},
     "output_type": "display_data"
    },
    {
     "name": "stdout",
     "output_type": "stream",
     "text": [
      "Sensibilité: 100\n",
      "Spécificité: 97.22\n",
      "Précision: 98\n",
      "F-mesure: 98.99\n"
     ]
    },
    {
     "data": {
      "image/png": "[encoded data removed]",
      "text/plain": [
       "Plot with title \"Cluster Dendrogram\""
      ]
     },
     "metadata": {},
     "output_type": "display_data"
    },
    {
     "data": {
      "image/png": "[encoded data removed]",
      "text/plain": [
       "plot without title"
      ]
     },
     "metadata": {},
     "output_type": "display_data"
    }
   ],
   "source": [
    "cah.ave <- hclust(d.notes, method = 'average')\n",
    "plot(cah.ave, cex = 0.4, hang = -1)\n",
    "rect.hclust(cah.ave, k = 2, border = 2:3)\n",
    "\n",
    "groupes.cah <- cutree(cah.ave, k = 2)\n",
    "confusion <- table(notes$is_genuine, groupes.cah)\n",
    "confusion\n",
    "\n",
    "sensibilite <- round(confusion[2, 2]/sum(confusion[, 2])*100, 2)\n",
    "cat(sprintf(\"Sensibilité: %s\\n\", sensibilite))\n",
    "specificite <- round(confusion[1, 1]/sum(confusion[, 1])*100, 2)\n",
    "cat(sprintf(\"Spécificité: %s\\n\", specificite))\n",
    "precision <- round(confusion[2, 2]/sum(confusion[2, ])*100, 2)\n",
    "cat(sprintf(\"Précision: %s\\n\", precision))\n",
    "F_score <- round(2*(precision*sensibilite)/(precision + sensibilite), 2)\n",
    "cat(sprintf(\"F-mesure: %s\\n\", F_score))\n",
    "\n",
    "res <- data.frame (res.pca1$ind$coord, classe = as.factor (groupes.cah))\n",
    "ggplot (res, aes (x = Dim.1, y = Dim.2, color = classe)) +  geom_point ()"
   ]
  },
  {
   "cell_type": "markdown",
   "metadata": {},
   "source": [
    "### <span style='color:red'>Méthode \"single\" et variables non normalisées.<a name=\"M2213\"></a>"
   ]
  },
  {
   "cell_type": "code",
   "execution_count": 49,
   "metadata": {},
   "outputs": [
    {
     "data": {
      "text/plain": [
       "       groupes.cah\n",
       "          1   2\n",
       "  False  69   1\n",
       "  True  100   0"
      ]
     },
     "metadata": {},
     "output_type": "display_data"
    },
    {
     "name": "stdout",
     "output_type": "stream",
     "text": [
      "Sensibilité: 59.17\n",
      "Spécificité: 100\n",
      "Précision: 100\n",
      "F-mesure: 74.35\n"
     ]
    },
    {
     "data": {
      "image/png": "[encoded data removed]",
      "text/plain": [
       "Plot with title \"Cluster Dendrogram\""
      ]
     },
     "metadata": {},
     "output_type": "display_data"
    },
    {
     "data": {
      "image/png": "[encoded data removed]",
      "text/plain": [
       "plot without title"
      ]
     },
     "metadata": {},
     "output_type": "display_data"
    }
   ],
   "source": [
    "cah.sing <- hclust(d.notes, method = 'single')\n",
    "plot(cah.sing, cex = 0.4, hang = -1)\n",
    "rect.hclust(cah.sing, k = 2, border = 2:3)\n",
    "\n",
    "groupes.cah <- cutree(cah.sing, k = 2)\n",
    "confusion <- table(notes$is_genuine, groupes.cah)\n",
    "confusion\n",
    "\n",
    "sensibilite <- round(confusion[2, 1]/sum(confusion[, 1])*100, 2)\n",
    "cat(sprintf(\"Sensibilité: %s\\n\", sensibilite))\n",
    "specificite <- round(confusion[1, 2]/sum(confusion[, 2])*100, 2)\n",
    "cat(sprintf(\"Spécificité: %s\\n\", specificite))\n",
    "precision <- round(confusion[2, 1]/sum(confusion[2, ])*100, 2)\n",
    "cat(sprintf(\"Précision: %s\\n\", precision))\n",
    "F_score <- round(2*(precision*sensibilite)/(precision + sensibilite), 2)\n",
    "cat(sprintf(\"F-mesure: %s\\n\", F_score))\n",
    "\n",
    "res <- data.frame (res.pca1$ind$coord, classe = as.factor (groupes.cah))\n",
    "ggplot (res, aes (x = Dim.1, y = Dim.2, color = classe)) +  geom_point ()"
   ]
  },
  {
   "cell_type": "markdown",
   "metadata": {},
   "source": [
    "### <span style='color:red'>Méthode \"mcquitty\" et variables non normalisées.<a name=\"M2214\"></a>"
   ]
  },
  {
   "cell_type": "code",
   "execution_count": 50,
   "metadata": {},
   "outputs": [
    {
     "data": {
      "text/plain": [
       "       groupes.cah\n",
       "          1   2\n",
       "  False  40  30\n",
       "  True  100   0"
      ]
     },
     "metadata": {},
     "output_type": "display_data"
    },
    {
     "name": "stdout",
     "output_type": "stream",
     "text": [
      "Sensibilité: 71.43\n",
      "Spécificité: 100\n",
      "Précision: 100\n",
      "F-mesure: 83.33\n"
     ]
    },
    {
     "data": {
      "image/png": "[encoded data removed]",
      "text/plain": [
       "Plot with title \"Cluster Dendrogram\""
      ]
     },
     "metadata": {},
     "output_type": "display_data"
    },
    {
     "data": {
      "image/png": "[encoded data removed]",
      "text/plain": [
       "plot without title"
      ]
     },
     "metadata": {},
     "output_type": "display_data"
    }
   ],
   "source": [
    "cah.mcq <- hclust(d.notes, method = 'mcquitty')\n",
    "plot(cah.mcq, cex = 0.4, hang = -1)\n",
    "rect.hclust(cah.mcq, k = 2, border = 2:3)\n",
    "\n",
    "groupes.cah <- cutree(cah.mcq, k = 2)\n",
    "confusion <- table(notes$is_genuine, groupes.cah)\n",
    "confusion\n",
    "\n",
    "sensibilite <- round(confusion[2, 1]/sum(confusion[, 1])*100, 2)\n",
    "cat(sprintf(\"Sensibilité: %s\\n\", sensibilite))\n",
    "specificite <- round(confusion[1, 2]/sum(confusion[, 2])*100, 2)\n",
    "cat(sprintf(\"Spécificité: %s\\n\", specificite))\n",
    "precision <- round(confusion[2, 1]/sum(confusion[2, ])*100, 2)\n",
    "cat(sprintf(\"Précision: %s\\n\", precision))\n",
    "F_score <- round(2*(precision*sensibilite)/(precision + sensibilite), 2)\n",
    "cat(sprintf(\"F-mesure: %s\\n\", F_score))\n",
    "\n",
    "res <- data.frame (res.pca1$ind$coord, classe = as.factor (groupes.cah))\n",
    "ggplot (res, aes (x = Dim.1, y = Dim.2, color = classe)) +  geom_point ()"
   ]
  },
  {
   "cell_type": "markdown",
   "metadata": {},
   "source": [
    "### <span style='color:red'>Méthode \"median\" et variables normalisées.<a name=\"M2215\"></a>"
   ]
  },
  {
   "cell_type": "code",
   "execution_count": 51,
   "metadata": {},
   "outputs": [
    {
     "data": {
      "text/plain": [
       "       groupes.cah\n",
       "          1   2\n",
       "  False  53  17\n",
       "  True  100   0"
      ]
     },
     "metadata": {},
     "output_type": "display_data"
    },
    {
     "name": "stdout",
     "output_type": "stream",
     "text": [
      "Sensibilité: 65.36\n",
      "Spécificité: 100\n",
      "Précision: 100\n",
      "F-mesure: 79.05\n"
     ]
    },
    {
     "data": {
      "image/png": "[encoded data removed]",
      "text/plain": [
       "Plot with title \"Cluster Dendrogram\""
      ]
     },
     "metadata": {},
     "output_type": "display_data"
    },
    {
     "data": {
      "image/png": "[encoded data removed]",
      "text/plain": [
       "plot without title"
      ]
     },
     "metadata": {},
     "output_type": "display_data"
    }
   ],
   "source": [
    "cah.med <- hclust(d.notes, method = 'median')\n",
    "plot(cah.med, cex = 0.4, hang = -1)\n",
    "rect.hclust(cah.med, k = 2, border = 2:3)\n",
    "\n",
    "groupes.cah <- cutree(cah.med, k = 2)\n",
    "confusion <- table(notes$is_genuine, groupes.cah)\n",
    "confusion\n",
    "\n",
    "sensibilite <- round(confusion[2, 1]/sum(confusion[, 1])*100, 2)\n",
    "cat(sprintf(\"Sensibilité: %s\\n\", sensibilite))\n",
    "specificite <- round(confusion[1, 2]/sum(confusion[, 2])*100, 2)\n",
    "cat(sprintf(\"Spécificité: %s\\n\", specificite))\n",
    "precision <- round(confusion[2, 1]/sum(confusion[2, ])*100, 2)\n",
    "cat(sprintf(\"Précision: %s\\n\", precision))\n",
    "F_score <- round(2*(precision*sensibilite)/(precision + sensibilite), 2)\n",
    "cat(sprintf(\"F-mesure: %s\\n\", F_score))\n",
    "\n",
    "res <- data.frame (res.pca1$ind$coord, classe = as.factor (groupes.cah))\n",
    "ggplot (res, aes (x = Dim.1, y = Dim.2, color = classe)) +  geom_point ()"
   ]
  },
  {
   "cell_type": "markdown",
   "metadata": {},
   "source": [
    "### <span style='color:red'>Méthode \"centroid\" et variables non normalisées.<a name=\"M2216\"></a>"
   ]
  },
  {
   "cell_type": "code",
   "execution_count": 52,
   "metadata": {},
   "outputs": [
    {
     "data": {
      "text/plain": [
       "       groupes.cah\n",
       "          1   2\n",
       "  False  69   1\n",
       "  True  100   0"
      ]
     },
     "metadata": {},
     "output_type": "display_data"
    },
    {
     "name": "stdout",
     "output_type": "stream",
     "text": [
      "Sensibilité: 59.17\n",
      "Spécificité: 100\n",
      "Précision: 100\n",
      "F-mesure: 74.35\n"
     ]
    },
    {
     "data": {
      "image/png": "[encoded data removed]",
      "text/plain": [
       "Plot with title \"Cluster Dendrogram\""
      ]
     },
     "metadata": {},
     "output_type": "display_data"
    },
    {
     "data": {
      "image/png": "[encoded data removed]",
      "text/plain": [
       "plot without title"
      ]
     },
     "metadata": {},
     "output_type": "display_data"
    }
   ],
   "source": [
    "cah.cent <- hclust(d.notes, method = 'centroid')\n",
    "plot(cah.cent, cex = 0.4, hang = -1)\n",
    "rect.hclust(cah.cent, k = 2, border = 2:3)\n",
    "\n",
    "groupes.cah <- cutree(cah.cent, k = 2)\n",
    "confusion <- table(notes$is_genuine, groupes.cah)\n",
    "confusion\n",
    "\n",
    "sensibilite <- round(confusion[2, 1]/sum(confusion[, 1])*100, 2)\n",
    "cat(sprintf(\"Sensibilité: %s\\n\", sensibilite))\n",
    "specificite <- round(confusion[1, 2]/sum(confusion[, 2])*100, 2)\n",
    "cat(sprintf(\"Spécificité: %s\\n\", specificite))\n",
    "precision <- round(confusion[2, 1]/sum(confusion[2, ])*100, 2)\n",
    "cat(sprintf(\"Précision: %s\\n\", precision))\n",
    "F_score <- round(2*(precision*sensibilite)/(precision + sensibilite), 2)\n",
    "cat(sprintf(\"F-mesure: %s\\n\", F_score))\n",
    "\n",
    "res <- data.frame (res.pca1$ind$coord, classe = as.factor (groupes.cah))\n",
    "ggplot (res, aes (x = Dim.1, y = Dim.2, color = classe)) +  geom_point ()"
   ]
  },
  {
   "cell_type": "markdown",
   "metadata": {},
   "source": [
    "## <span style='color:brown'>b) Distance \"Manhattan\", méthode \"average\" et variables non normalisées:<a name=\"M222\"></a>"
   ]
  },
  {
   "cell_type": "code",
   "execution_count": 53,
   "metadata": {},
   "outputs": [
    {
     "data": {
      "text/plain": [
       "       groupes.cah\n",
       "         1  2\n",
       "  False 70  0\n",
       "  True   2 98"
      ]
     },
     "metadata": {},
     "output_type": "display_data"
    },
    {
     "name": "stdout",
     "output_type": "stream",
     "text": [
      "Sensibilité: 100\n",
      "Spécificité: 97.22\n",
      "Précision: 98\n",
      "F-mesure: 98.99\n"
     ]
    },
    {
     "data": {
      "image/png": "[encoded data removed]",
      "text/plain": [
       "Plot with title \"Cluster Dendrogram\""
      ]
     },
     "metadata": {},
     "output_type": "display_data"
    },
    {
     "data": {
      "image/png": "[encoded data removed]",
      "text/plain": [
       "plot without title"
      ]
     },
     "metadata": {},
     "output_type": "display_data"
    }
   ],
   "source": [
    "d.norm <- dist(normalisation, method = 'manhattan')\n",
    "\n",
    "cah.ave <- hclust(d.notes, method = 'average')\n",
    "plot(cah.ave, cex = 0.4, hang = -1)\n",
    "rect.hclust(cah.ave, k = 2, border = 2:3)\n",
    "\n",
    "groupes.cah <- cutree(cah.ave, k = 2)\n",
    "confusion <- table(notes$is_genuine, groupes.cah)\n",
    "confusion\n",
    "\n",
    "sensibilite <- round(confusion[2, 2]/sum(confusion[, 2])*100, 2)\n",
    "cat(sprintf(\"Sensibilité: %s\\n\", sensibilite))\n",
    "specificite <- round(confusion[1, 1]/sum(confusion[, 1])*100, 2)\n",
    "cat(sprintf(\"Spécificité: %s\\n\", specificite))\n",
    "precision <- round(confusion[2, 2]/sum(confusion[2, ])*100, 2)\n",
    "cat(sprintf(\"Précision: %s\\n\", precision))\n",
    "F_score <- round(2*(precision*sensibilite)/(precision + sensibilite), 2)\n",
    "cat(sprintf(\"F-mesure: %s\\n\", F_score))\n",
    "\n",
    "res <- data.frame (res.pca1$ind$coord, classe = as.factor (groupes.cah))\n",
    "ggplot (res, aes (x = Dim.1, y = Dim.2, color = classe)) +  geom_point ()"
   ]
  },
  {
   "cell_type": "markdown",
   "metadata": {},
   "source": [
    "## <span style='color:brown'>c) Distance maximale, méthode \"Ward.D2\" et variables non normalisées.<a name=\"M223\"></a>"
   ]
  },
  {
   "cell_type": "code",
   "execution_count": 54,
   "metadata": {},
   "outputs": [
    {
     "data": {
      "text/plain": [
       "       groupes.cah\n",
       "         1  2\n",
       "  False 70  0\n",
       "  True   2 98"
      ]
     },
     "metadata": {},
     "output_type": "display_data"
    },
    {
     "name": "stdout",
     "output_type": "stream",
     "text": [
      "Sensibilité: 100\n",
      "Spécificité: 97.22\n",
      "Précision: 98\n",
      "F-mesure: 98.99\n"
     ]
    },
    {
     "data": {
      "image/png": "[encoded data removed]",
      "text/plain": [
       "Plot with title \"Cluster Dendrogram\""
      ]
     },
     "metadata": {},
     "output_type": "display_data"
    },
    {
     "data": {
      "image/png": "[encoded data removed]",
      "text/plain": [
       "plot without title"
      ]
     },
     "metadata": {},
     "output_type": "display_data"
    }
   ],
   "source": [
    "d.notes <- dist(notes[, -1], method = 'maximum')\n",
    "\n",
    "cah.ward2 <- hclust(d.notes, method = 'ward.D2')\n",
    "plot(cah.ward2, cex = 0.4, hang = -1)\n",
    "rect.hclust(cah.ward2, k = 2, border = 2:3)\n",
    "\n",
    "groupes.cah <- cutree(cah.ward2, k = 2)\n",
    "confusion <- table(notes$is_genuine, groupes.cah)\n",
    "confusion\n",
    "\n",
    "sensibilite <- round(confusion[2, 2]/sum(confusion[, 2])*100, 2)\n",
    "cat(sprintf(\"Sensibilité: %s\\n\", sensibilite))\n",
    "specificite <- round(confusion[1, 1]/sum(confusion[, 1])*100, 2)\n",
    "cat(sprintf(\"Spécificité: %s\\n\", specificite))\n",
    "precision <- round(confusion[2, 2]/sum(confusion[2, ])*100, 2)\n",
    "cat(sprintf(\"Précision: %s\\n\", precision))\n",
    "F_score <- round(2*(precision*sensibilite)/(precision + sensibilite), 2)\n",
    "cat(sprintf(\"F-mesure: %s\\n\", F_score))\n",
    "\n",
    "res <- data.frame (res.pca1$ind$coord, classe = as.factor (groupes.cah))\n",
    "ggplot (res, aes (x = Dim.1, y = Dim.2, color = classe)) +  geom_point ()"
   ]
  },
  {
   "cell_type": "markdown",
   "metadata": {},
   "source": [
    "## <span style='color:brown'>d) Distance \"Canberra\", méthode \"complete\" et variables non normalisées:<a name=\"M224\"></a>"
   ]
  },
  {
   "cell_type": "code",
   "execution_count": 55,
   "metadata": {},
   "outputs": [
    {
     "data": {
      "text/plain": [
       "       groupes.cah\n",
       "         1  2\n",
       "  False 43 27\n",
       "  True  38 62"
      ]
     },
     "metadata": {},
     "output_type": "display_data"
    },
    {
     "name": "stdout",
     "output_type": "stream",
     "text": [
      "Sensibilité: 69.66\n",
      "Spécificité: 53.09\n",
      "Précision: 62\n",
      "F-mesure: 65.61\n"
     ]
    },
    {
     "data": {
      "image/png": "[encoded data removed]",
      "text/plain": [
       "Plot with title \"Cluster Dendrogram\""
      ]
     },
     "metadata": {},
     "output_type": "display_data"
    },
    {
     "data": {
      "image/png": "[encoded data removed]",
      "text/plain": [
       "plot without title"
      ]
     },
     "metadata": {},
     "output_type": "display_data"
    }
   ],
   "source": [
    "d.notes <- dist(notes[, -1], method = 'canberra')\n",
    "\n",
    "cah.comp <- hclust(d.notes, method = 'complete')\n",
    "plot(cah.comp, cex = 0.4, hang = -1)\n",
    "rect.hclust(cah.comp, k = 2, border = 2:3)\n",
    "\n",
    "groupes.cah <- cutree(cah.comp, k = 2)\n",
    "confusion <- table(notes$is_genuine, groupes.cah)\n",
    "confusion\n",
    "\n",
    "sensibilite <- round(confusion[2, 2]/sum(confusion[, 2])*100, 2)\n",
    "cat(sprintf(\"Sensibilité: %s\\n\", sensibilite))\n",
    "specificite <- round(confusion[1, 1]/sum(confusion[, 1])*100, 2)\n",
    "cat(sprintf(\"Spécificité: %s\\n\", specificite))\n",
    "precision <- round(confusion[2, 2]/sum(confusion[2, ])*100, 2)\n",
    "cat(sprintf(\"Précision: %s\\n\", precision))\n",
    "F_score <- round(2*(precision*sensibilite)/(precision + sensibilite), 2)\n",
    "cat(sprintf(\"F-mesure: %s\\n\", F_score))\n",
    "\n",
    "res <- data.frame (res.pca1$ind$coord, classe = as.factor (groupes.cah))\n",
    "ggplot (res, aes (x = Dim.1, y = Dim.2, color = classe)) +  geom_point ()"
   ]
  },
  {
   "cell_type": "markdown",
   "metadata": {},
   "source": [
    "## <span style='color:brown'>e) Distance \"Minkowski\", méthode \"average\" et variables non normalisées:<a name=\"M225\"></a>"
   ]
  },
  {
   "cell_type": "code",
   "execution_count": 56,
   "metadata": {},
   "outputs": [
    {
     "data": {
      "text/plain": [
       "       groupes.cah\n",
       "         1  2\n",
       "  False 70  0\n",
       "  True   2 98"
      ]
     },
     "metadata": {},
     "output_type": "display_data"
    },
    {
     "name": "stdout",
     "output_type": "stream",
     "text": [
      "Sensibilité: 100\n",
      "Spécificité: 97.22\n",
      "Précision: 98\n",
      "F-mesure: 98.99\n"
     ]
    },
    {
     "data": {
      "image/png": "[encoded data removed]",
      "text/plain": [
       "Plot with title \"Cluster Dendrogram\""
      ]
     },
     "metadata": {},
     "output_type": "display_data"
    },
    {
     "data": {
      "image/png": "[encoded data removed]",
      "text/plain": [
       "plot without title"
      ]
     },
     "metadata": {},
     "output_type": "display_data"
    }
   ],
   "source": [
    "d.notes <- dist(notes[, -1], method = 'minkowski')\n",
    "\n",
    "cah.ave <- hclust(d.notes, method = 'average')\n",
    "plot(cah.ave, cex = 0.4, hang = -1)\n",
    "rect.hclust(cah.ave, k = 2, border = 2:3)\n",
    "\n",
    "groupes.cah <- cutree(cah.ave, k = 2)\n",
    "confusion <- table(notes$is_genuine, groupes.cah)\n",
    "confusion\n",
    "\n",
    "sensibilite <- round(confusion[2, 2]/sum(confusion[, 2])*100, 2)\n",
    "cat(sprintf(\"Sensibilité: %s\\n\", sensibilite))\n",
    "specificite <- round(confusion[1, 1]/sum(confusion[, 1])*100, 2)\n",
    "cat(sprintf(\"Spécificité: %s\\n\", specificite))\n",
    "precision <- round(confusion[2, 2]/sum(confusion[2, ])*100, 2)\n",
    "cat(sprintf(\"Précision: %s\\n\", precision))\n",
    "F_score <- round(2*(precision*sensibilite)/(precision + sensibilite), 2)\n",
    "cat(sprintf(\"F-mesure: %s\\n\", F_score))\n",
    "\n",
    "res <- data.frame (res.pca1$ind$coord, classe = as.factor (groupes.cah))\n",
    "ggplot (res, aes (x = Dim.1, y = Dim.2, color = classe)) +  geom_point ()"
   ]
  },
  {
   "cell_type": "markdown",
   "metadata": {},
   "source": [
    "## <span style='color:blue'>3. Clustering par l'utilisation de HCPC Factominer.<a name=\"M23\"></a>\n",
    "    \n",
    "Par défaut, la commande HCPC de Factominer procède par distance euclidienne et méthode de Ward.  "
   ]
  },
  {
   "cell_type": "code",
   "execution_count": 57,
   "metadata": {},
   "outputs": [],
   "source": [
    "hc <- HCPC(res.pca1, nb.clust = 2, consol = F) # Sans consolidation par la méthode des k-means."
   ]
  },
  {
   "cell_type": "code",
   "execution_count": 58,
   "metadata": {},
   "outputs": [
    {
     "data": {
      "text/plain": [
       "       \n",
       "         1  2\n",
       "  False  5 65\n",
       "  True  97  3"
      ]
     },
     "metadata": {},
     "output_type": "display_data"
    },
    {
     "name": "stdout",
     "output_type": "stream",
     "text": [
      "Sensibilité: 95.1\n",
      "Spécificité: 95.59\n",
      "Précision: 97\n",
      "F-mesure: 96.04\n"
     ]
    },
    {
     "data": {
      "image/png": "[encoded data removed]",
      "text/plain": [
       "plot without title"
      ]
     },
     "metadata": {},
     "output_type": "display_data"
    },
    {
     "data": {
      "image/png": "[encoded data removed]",
      "text/plain": [
       "plot without title"
      ]
     },
     "metadata": {},
     "output_type": "display_data"
    }
   ],
   "source": [
    "confusion <- table(notes$is_genuine, hc$data.clust$clust)\n",
    "confusion\n",
    "\n",
    "sensibilite <- round(confusion[2, 1]/sum(confusion[, 1])*100, 2)\n",
    "cat(sprintf(\"Sensibilité: %s\\n\", sensibilite))\n",
    "specificite <- round(confusion[1, 2]/sum(confusion[, 2])*100, 2)\n",
    "cat(sprintf(\"Spécificité: %s\\n\", specificite))\n",
    "precision <- round(confusion[2, 1]/sum(confusion[2, ])*100, 2)\n",
    "cat(sprintf(\"Précision: %s\\n\", precision))\n",
    "F_score <- round(2*(precision*sensibilite)/(precision + sensibilite), 2)\n",
    "cat(sprintf(\"F-mesure: %s\\n\", F_score))\n",
    "\n",
    "fviz_dend(hc)\n",
    "\n",
    "res <- data.frame (res.pca1$ind$coord, classe = as.factor (hc$data.clust$clust))\n",
    "ggplot (res, aes (x = Dim.1, y = Dim.2, color = classe)) +  geom_point ()"
   ]
  },
  {
   "cell_type": "markdown",
   "metadata": {},
   "source": [
    "## <span style='color:blue'>4. Comparaison entre la meilleure méthode des k-means et la meilleur des CAH.<a name=\"M24\"></a>"
   ]
  },
  {
   "cell_type": "code",
   "execution_count": 59,
   "metadata": {},
   "outputs": [
    {
     "data": {
      "text/plain": [
       "   groupes.cah\n",
       "     1  2\n",
       "  1  0 69\n",
       "  2 99  2"
      ]
     },
     "metadata": {},
     "output_type": "display_data"
    }
   ],
   "source": [
    "# Méthode des k-means avec variables non centrées-réduites:\n",
    "set.seed(1234)\n",
    "kmeans <- kmeans(notes[, -1], centers = 2, nstart = 5, iter.max = 10)\n",
    "\n",
    "# Méthode par CAH avec distance euclidienne, méthode de Ward 2 et variables non centrées-réduites:\n",
    "d.notes <- dist(notes[, -1], method = 'euclidean')\n",
    "cah.ward2 <- hclust(d.notes, method = 'ward.D2')\n",
    "groupes.cah <- cutree(cah.ward2, k = 2)\n",
    "\n",
    "confusion <- table(kmeans$cluster, groupes.cah)\n",
    "confusion"
   ]
  },
  {
   "cell_type": "markdown",
   "metadata": {},
   "source": [
    "CCL: Niveau d'erreur de 2 billets entre les deux méthodes."
   ]
  },
  {
   "cell_type": "markdown",
   "metadata": {},
   "source": [
    "# Mission 3 - Analyse prédictive.<a name=\"M3\"></a>\n",
    "## <span style='color:blue'>1. Modélisation à l'aide d'une régression logistique multiple à variable binaire.<a name=\"M31\"></a>\n",
    "### <span style='color:brown'>a) Modélisation:<a name=\"M311\"></a>"
   ]
  },
  {
   "cell_type": "code",
   "execution_count": 60,
   "metadata": {
    "scrolled": false
   },
   "outputs": [],
   "source": [
    "# Paramétrage du processus d'apprentissage par validation croisée stratifiée:\n",
    "train.control <- trainControl(method = \"cv\", number = 5)"
   ]
  },
  {
   "cell_type": "code",
   "execution_count": 61,
   "metadata": {
    "scrolled": false
   },
   "outputs": [
    {
     "name": "stderr",
     "output_type": "stream",
     "text": [
      "Warning message:\n",
      "\"glm.fit: algorithm did not converge\"Warning message:\n",
      "\"glm.fit: fitted probabilities numerically 0 or 1 occurred\""
     ]
    },
    {
     "name": "stdout",
     "output_type": "stream",
     "text": [
      "Start:  AIC=14\n",
      ".outcome ~ diagonal + height_left + height_right + margin_low + \n",
      "    margin_up + length\n",
      "\n"
     ]
    },
    {
     "name": "stderr",
     "output_type": "stream",
     "text": [
      "Warning message:\n",
      "\"glm.fit: algorithm did not converge\"Warning message:\n",
      "\"glm.fit: fitted probabilities numerically 0 or 1 occurred\"Warning message:\n",
      "\"glm.fit: algorithm did not converge\"Warning message:\n",
      "\"glm.fit: fitted probabilities numerically 0 or 1 occurred\"Warning message:\n",
      "\"glm.fit: algorithm did not converge\"Warning message:\n",
      "\"glm.fit: fitted probabilities numerically 0 or 1 occurred\"Warning message:\n",
      "\"glm.fit: fitted probabilities numerically 0 or 1 occurred\"Warning message:\n",
      "\"glm.fit: fitted probabilities numerically 0 or 1 occurred\""
     ]
    },
    {
     "name": "stdout",
     "output_type": "stream",
     "text": [
      "               Df Deviance    AIC\n",
      "- diagonal      1    0.000 12.000\n",
      "- height_right  1    0.000 12.000\n",
      "- height_left   1    0.000 12.000\n",
      "<none>               0.000 14.000\n",
      "- margin_up     1    8.176 20.176\n",
      "- length        1    9.231 21.231\n",
      "- margin_low    1   36.895 48.895\n"
     ]
    },
    {
     "name": "stderr",
     "output_type": "stream",
     "text": [
      "Warning message:\n",
      "\"glm.fit: algorithm did not converge\"Warning message:\n",
      "\"glm.fit: fitted probabilities numerically 0 or 1 occurred\""
     ]
    },
    {
     "name": "stdout",
     "output_type": "stream",
     "text": [
      "\n",
      "Step:  AIC=12\n",
      ".outcome ~ height_left + height_right + margin_low + margin_up + \n",
      "    length\n",
      "\n"
     ]
    },
    {
     "name": "stderr",
     "output_type": "stream",
     "text": [
      "Warning message:\n",
      "\"glm.fit: algorithm did not converge\"Warning message:\n",
      "\"glm.fit: fitted probabilities numerically 0 or 1 occurred\"Warning message:\n",
      "\"glm.fit: algorithm did not converge\"Warning message:\n",
      "\"glm.fit: fitted probabilities numerically 0 or 1 occurred\"Warning message:\n",
      "\"glm.fit: fitted probabilities numerically 0 or 1 occurred\"Warning message:\n",
      "\"glm.fit: fitted probabilities numerically 0 or 1 occurred\""
     ]
    },
    {
     "name": "stdout",
     "output_type": "stream",
     "text": [
      "               Df Deviance    AIC\n",
      "- height_right  1    0.000 10.000\n",
      "- height_left   1    0.000 10.000\n",
      "<none>               0.000 12.000\n",
      "- margin_up     1    8.434 18.434\n",
      "- length        1    9.261 19.261\n",
      "- margin_low    1   44.994 54.994\n"
     ]
    },
    {
     "name": "stderr",
     "output_type": "stream",
     "text": [
      "Warning message:\n",
      "\"glm.fit: algorithm did not converge\"Warning message:\n",
      "\"glm.fit: fitted probabilities numerically 0 or 1 occurred\""
     ]
    },
    {
     "name": "stdout",
     "output_type": "stream",
     "text": [
      "\n",
      "Step:  AIC=10\n",
      ".outcome ~ height_left + margin_low + margin_up + length\n",
      "\n"
     ]
    },
    {
     "name": "stderr",
     "output_type": "stream",
     "text": [
      "Warning message:\n",
      "\"glm.fit: algorithm did not converge\"Warning message:\n",
      "\"glm.fit: fitted probabilities numerically 0 or 1 occurred\"Warning message:\n",
      "\"glm.fit: fitted probabilities numerically 0 or 1 occurred\"Warning message:\n",
      "\"glm.fit: fitted probabilities numerically 0 or 1 occurred\""
     ]
    },
    {
     "name": "stdout",
     "output_type": "stream",
     "text": [
      "              Df Deviance    AIC\n",
      "- height_left  1    0.000  8.000\n",
      "<none>              0.000 10.000\n",
      "- margin_up    1    8.470 16.470\n",
      "- length       1    9.266 17.266\n",
      "- margin_low   1   49.876 57.876\n"
     ]
    },
    {
     "name": "stderr",
     "output_type": "stream",
     "text": [
      "Warning message:\n",
      "\"glm.fit: algorithm did not converge\"Warning message:\n",
      "\"glm.fit: fitted probabilities numerically 0 or 1 occurred\""
     ]
    },
    {
     "name": "stdout",
     "output_type": "stream",
     "text": [
      "\n",
      "Step:  AIC=8\n",
      ".outcome ~ margin_low + margin_up + length\n",
      "\n"
     ]
    },
    {
     "name": "stderr",
     "output_type": "stream",
     "text": [
      "Warning message:\n",
      "\"glm.fit: fitted probabilities numerically 0 or 1 occurred\""
     ]
    },
    {
     "name": "stdout",
     "output_type": "stream",
     "text": [
      "             Df Deviance    AIC\n",
      "<none>             0.000  8.000\n",
      "- margin_up   1    8.482 14.482\n",
      "- length      1   10.991 16.991\n",
      "- margin_low  1   52.432 58.432\n"
     ]
    },
    {
     "name": "stderr",
     "output_type": "stream",
     "text": [
      "Warning message:\n",
      "\"glm.fit: algorithm did not converge\"Warning message:\n",
      "\"glm.fit: fitted probabilities numerically 0 or 1 occurred\""
     ]
    },
    {
     "name": "stdout",
     "output_type": "stream",
     "text": [
      "Start:  AIC=14\n",
      ".outcome ~ diagonal + height_left + height_right + margin_low + \n",
      "    margin_up + length\n",
      "\n"
     ]
    },
    {
     "name": "stderr",
     "output_type": "stream",
     "text": [
      "Warning message:\n",
      "\"glm.fit: algorithm did not converge\"Warning message:\n",
      "\"glm.fit: fitted probabilities numerically 0 or 1 occurred\"Warning message:\n",
      "\"glm.fit: algorithm did not converge\"Warning message:\n",
      "\"glm.fit: fitted probabilities numerically 0 or 1 occurred\"Warning message:\n",
      "\"glm.fit: algorithm did not converge\"Warning message:\n",
      "\"glm.fit: fitted probabilities numerically 0 or 1 occurred\"Warning message:\n",
      "\"glm.fit: fitted probabilities numerically 0 or 1 occurred\"Warning message:\n",
      "\"glm.fit: algorithm did not converge\"Warning message:\n",
      "\"glm.fit: fitted probabilities numerically 0 or 1 occurred\""
     ]
    },
    {
     "name": "stdout",
     "output_type": "stream",
     "text": [
      "               Df Deviance    AIC\n",
      "- height_left   1   0.0000 12.000\n",
      "- diagonal      1   0.0000 12.000\n",
      "- height_right  1   0.0000 12.000\n",
      "- length        1   0.0000 12.000\n",
      "<none>              0.0000 14.000\n",
      "- margin_up     1   5.2029 17.203\n",
      "- margin_low    1  31.2005 43.201\n"
     ]
    },
    {
     "name": "stderr",
     "output_type": "stream",
     "text": [
      "Warning message:\n",
      "\"glm.fit: algorithm did not converge\"Warning message:\n",
      "\"glm.fit: fitted probabilities numerically 0 or 1 occurred\""
     ]
    },
    {
     "name": "stdout",
     "output_type": "stream",
     "text": [
      "\n",
      "Step:  AIC=12\n",
      ".outcome ~ diagonal + height_right + margin_low + margin_up + \n",
      "    length\n",
      "\n"
     ]
    },
    {
     "name": "stderr",
     "output_type": "stream",
     "text": [
      "Warning message:\n",
      "\"glm.fit: algorithm did not converge\"Warning message:\n",
      "\"glm.fit: fitted probabilities numerically 0 or 1 occurred\"Warning message:\n",
      "\"glm.fit: algorithm did not converge\"Warning message:\n",
      "\"glm.fit: fitted probabilities numerically 0 or 1 occurred\"Warning message:\n",
      "\"glm.fit: fitted probabilities numerically 0 or 1 occurred\"Warning message:\n",
      "\"glm.fit: fitted probabilities numerically 0 or 1 occurred\""
     ]
    },
    {
     "name": "stdout",
     "output_type": "stream",
     "text": [
      "               Df Deviance    AIC\n",
      "- height_right  1    0.000 10.000\n",
      "- diagonal      1    0.000 10.000\n",
      "<none>               0.000 12.000\n",
      "- margin_up     1    5.501 15.501\n",
      "- length        1    6.327 16.327\n",
      "- margin_low    1   33.208 43.208\n"
     ]
    },
    {
     "name": "stderr",
     "output_type": "stream",
     "text": [
      "Warning message:\n",
      "\"glm.fit: algorithm did not converge\"Warning message:\n",
      "\"glm.fit: fitted probabilities numerically 0 or 1 occurred\""
     ]
    },
    {
     "name": "stdout",
     "output_type": "stream",
     "text": [
      "\n",
      "Step:  AIC=10\n",
      ".outcome ~ diagonal + margin_low + margin_up + length\n",
      "\n"
     ]
    },
    {
     "name": "stderr",
     "output_type": "stream",
     "text": [
      "Warning message:\n",
      "\"glm.fit: algorithm did not converge\"Warning message:\n",
      "\"glm.fit: fitted probabilities numerically 0 or 1 occurred\"Warning message:\n",
      "\"glm.fit: fitted probabilities numerically 0 or 1 occurred\"Warning message:\n",
      "\"glm.fit: fitted probabilities numerically 0 or 1 occurred\""
     ]
    },
    {
     "name": "stdout",
     "output_type": "stream",
     "text": [
      "             Df Deviance    AIC\n",
      "- diagonal    1    0.000  8.000\n",
      "<none>             0.000 10.000\n",
      "- margin_up   1    5.502 13.502\n",
      "- length      1    6.582 14.582\n",
      "- margin_low  1   44.595 52.595\n"
     ]
    },
    {
     "name": "stderr",
     "output_type": "stream",
     "text": [
      "Warning message:\n",
      "\"glm.fit: algorithm did not converge\"Warning message:\n",
      "\"glm.fit: fitted probabilities numerically 0 or 1 occurred\""
     ]
    },
    {
     "name": "stdout",
     "output_type": "stream",
     "text": [
      "\n",
      "Step:  AIC=8\n",
      ".outcome ~ margin_low + margin_up + length\n",
      "\n"
     ]
    },
    {
     "name": "stderr",
     "output_type": "stream",
     "text": [
      "Warning message:\n",
      "\"glm.fit: fitted probabilities numerically 0 or 1 occurred\"Warning message:\n",
      "\"glm.fit: fitted probabilities numerically 0 or 1 occurred\""
     ]
    },
    {
     "name": "stdout",
     "output_type": "stream",
     "text": [
      "             Df Deviance    AIC\n",
      "<none>             0.000  8.000\n",
      "- margin_up   1    5.534 11.534\n",
      "- length      1    7.277 13.277\n",
      "- margin_low  1   44.885 50.885\n"
     ]
    },
    {
     "name": "stderr",
     "output_type": "stream",
     "text": [
      "Warning message:\n",
      "\"glm.fit: algorithm did not converge\"Warning message:\n",
      "\"glm.fit: fitted probabilities numerically 0 or 1 occurred\""
     ]
    },
    {
     "name": "stdout",
     "output_type": "stream",
     "text": [
      "Start:  AIC=14\n",
      ".outcome ~ diagonal + height_left + height_right + margin_low + \n",
      "    margin_up + length\n",
      "\n"
     ]
    },
    {
     "name": "stderr",
     "output_type": "stream",
     "text": [
      "Warning message:\n",
      "\"glm.fit: algorithm did not converge\"Warning message:\n",
      "\"glm.fit: fitted probabilities numerically 0 or 1 occurred\"Warning message:\n",
      "\"glm.fit: algorithm did not converge\"Warning message:\n",
      "\"glm.fit: fitted probabilities numerically 0 or 1 occurred\"Warning message:\n",
      "\"glm.fit: algorithm did not converge\"Warning message:\n",
      "\"glm.fit: fitted probabilities numerically 0 or 1 occurred\"Warning message:\n",
      "\"glm.fit: fitted probabilities numerically 0 or 1 occurred\"Warning message:\n",
      "\"glm.fit: fitted probabilities numerically 0 or 1 occurred\""
     ]
    },
    {
     "name": "stdout",
     "output_type": "stream",
     "text": [
      "               Df Deviance    AIC\n",
      "- diagonal      1    0.000 12.000\n",
      "- height_right  1    0.000 12.000\n",
      "- height_left   1    0.000 12.000\n",
      "<none>               0.000 14.000\n",
      "- length        1    7.474 19.474\n",
      "- margin_up     1    7.844 19.844\n",
      "- margin_low    1   38.364 50.364\n"
     ]
    },
    {
     "name": "stderr",
     "output_type": "stream",
     "text": [
      "Warning message:\n",
      "\"glm.fit: algorithm did not converge\"Warning message:\n",
      "\"glm.fit: fitted probabilities numerically 0 or 1 occurred\""
     ]
    },
    {
     "name": "stdout",
     "output_type": "stream",
     "text": [
      "\n",
      "Step:  AIC=12\n",
      ".outcome ~ height_left + height_right + margin_low + margin_up + \n",
      "    length\n",
      "\n"
     ]
    },
    {
     "name": "stderr",
     "output_type": "stream",
     "text": [
      "Warning message:\n",
      "\"glm.fit: algorithm did not converge\"Warning message:\n",
      "\"glm.fit: fitted probabilities numerically 0 or 1 occurred\"Warning message:\n",
      "\"glm.fit: algorithm did not converge\"Warning message:\n",
      "\"glm.fit: fitted probabilities numerically 0 or 1 occurred\"Warning message:\n",
      "\"glm.fit: fitted probabilities numerically 0 or 1 occurred\"Warning message:\n",
      "\"glm.fit: fitted probabilities numerically 0 or 1 occurred\""
     ]
    },
    {
     "name": "stdout",
     "output_type": "stream",
     "text": [
      "               Df Deviance    AIC\n",
      "- height_right  1    0.000 10.000\n",
      "- height_left   1    0.000 10.000\n",
      "<none>               0.000 12.000\n",
      "- length        1    7.891 17.891\n",
      "- margin_up     1    8.222 18.222\n",
      "- margin_low    1   43.589 53.589\n"
     ]
    },
    {
     "name": "stderr",
     "output_type": "stream",
     "text": [
      "Warning message:\n",
      "\"glm.fit: algorithm did not converge\"Warning message:\n",
      "\"glm.fit: fitted probabilities numerically 0 or 1 occurred\""
     ]
    },
    {
     "name": "stdout",
     "output_type": "stream",
     "text": [
      "\n",
      "Step:  AIC=10\n",
      ".outcome ~ height_left + margin_low + margin_up + length\n",
      "\n"
     ]
    },
    {
     "name": "stderr",
     "output_type": "stream",
     "text": [
      "Warning message:\n",
      "\"glm.fit: algorithm did not converge\"Warning message:\n",
      "\"glm.fit: fitted probabilities numerically 0 or 1 occurred\"Warning message:\n",
      "\"glm.fit: fitted probabilities numerically 0 or 1 occurred\"Warning message:\n",
      "\"glm.fit: fitted probabilities numerically 0 or 1 occurred\""
     ]
    },
    {
     "name": "stdout",
     "output_type": "stream",
     "text": [
      "              Df Deviance    AIC\n",
      "- height_left  1    0.000  8.000\n",
      "<none>              0.000 10.000\n",
      "- margin_up    1    8.225 16.225\n",
      "- length       1    9.903 17.903\n",
      "- margin_low   1   46.865 54.865\n"
     ]
    },
    {
     "name": "stderr",
     "output_type": "stream",
     "text": [
      "Warning message:\n",
      "\"glm.fit: algorithm did not converge\"Warning message:\n",
      "\"glm.fit: fitted probabilities numerically 0 or 1 occurred\""
     ]
    },
    {
     "name": "stdout",
     "output_type": "stream",
     "text": [
      "\n",
      "Step:  AIC=8\n",
      ".outcome ~ margin_low + margin_up + length\n",
      "\n"
     ]
    },
    {
     "name": "stderr",
     "output_type": "stream",
     "text": [
      "Warning message:\n",
      "\"glm.fit: fitted probabilities numerically 0 or 1 occurred\"Warning message:\n",
      "\"glm.fit: fitted probabilities numerically 0 or 1 occurred\""
     ]
    },
    {
     "name": "stdout",
     "output_type": "stream",
     "text": [
      "             Df Deviance    AIC\n",
      "<none>             0.000  8.000\n",
      "- margin_up   1    8.226 14.226\n",
      "- length      1    9.969 15.969\n",
      "- margin_low  1   51.404 57.404\n"
     ]
    },
    {
     "name": "stderr",
     "output_type": "stream",
     "text": [
      "Warning message:\n",
      "\"glm.fit: algorithm did not converge\"Warning message:\n",
      "\"glm.fit: fitted probabilities numerically 0 or 1 occurred\""
     ]
    },
    {
     "name": "stdout",
     "output_type": "stream",
     "text": [
      "Start:  AIC=14\n",
      ".outcome ~ diagonal + height_left + height_right + margin_low + \n",
      "    margin_up + length\n",
      "\n"
     ]
    },
    {
     "name": "stderr",
     "output_type": "stream",
     "text": [
      "Warning message:\n",
      "\"glm.fit: algorithm did not converge\"Warning message:\n",
      "\"glm.fit: fitted probabilities numerically 0 or 1 occurred\"Warning message:\n",
      "\"glm.fit: algorithm did not converge\"Warning message:\n",
      "\"glm.fit: fitted probabilities numerically 0 or 1 occurred\"Warning message:\n",
      "\"glm.fit: algorithm did not converge\"Warning message:\n",
      "\"glm.fit: fitted probabilities numerically 0 or 1 occurred\"Warning message:\n",
      "\"glm.fit: fitted probabilities numerically 0 or 1 occurred\"Warning message:\n",
      "\"glm.fit: fitted probabilities numerically 0 or 1 occurred\""
     ]
    },
    {
     "name": "stdout",
     "output_type": "stream",
     "text": [
      "               Df Deviance    AIC\n",
      "- diagonal      1   0.0000 12.000\n",
      "- height_right  1   0.0000 12.000\n",
      "- height_left   1   0.0000 12.000\n",
      "<none>              0.0000 14.000\n",
      "- margin_up     1   7.8394 19.839\n",
      "- length        1  11.0268 23.027\n",
      "- margin_low    1  28.7012 40.701\n"
     ]
    },
    {
     "name": "stderr",
     "output_type": "stream",
     "text": [
      "Warning message:\n",
      "\"glm.fit: algorithm did not converge\"Warning message:\n",
      "\"glm.fit: fitted probabilities numerically 0 or 1 occurred\""
     ]
    },
    {
     "name": "stdout",
     "output_type": "stream",
     "text": [
      "\n",
      "Step:  AIC=12\n",
      ".outcome ~ height_left + height_right + margin_low + margin_up + \n",
      "    length\n",
      "\n"
     ]
    },
    {
     "name": "stderr",
     "output_type": "stream",
     "text": [
      "Warning message:\n",
      "\"glm.fit: algorithm did not converge\"Warning message:\n",
      "\"glm.fit: fitted probabilities numerically 0 or 1 occurred\"Warning message:\n",
      "\"glm.fit: algorithm did not converge\"Warning message:\n",
      "\"glm.fit: fitted probabilities numerically 0 or 1 occurred\"Warning message:\n",
      "\"glm.fit: fitted probabilities numerically 0 or 1 occurred\"Warning message:\n",
      "\"glm.fit: fitted probabilities numerically 0 or 1 occurred\""
     ]
    },
    {
     "name": "stdout",
     "output_type": "stream",
     "text": [
      "               Df Deviance    AIC\n",
      "- height_right  1    0.000 10.000\n",
      "- height_left   1    0.000 10.000\n",
      "<none>               0.000 12.000\n",
      "- margin_up     1    7.888 17.888\n",
      "- length        1   12.379 22.379\n",
      "- margin_low    1   34.809 44.809\n"
     ]
    },
    {
     "name": "stderr",
     "output_type": "stream",
     "text": [
      "Warning message:\n",
      "\"glm.fit: algorithm did not converge\"Warning message:\n",
      "\"glm.fit: fitted probabilities numerically 0 or 1 occurred\""
     ]
    },
    {
     "name": "stdout",
     "output_type": "stream",
     "text": [
      "\n",
      "Step:  AIC=10\n",
      ".outcome ~ height_left + margin_low + margin_up + length\n",
      "\n"
     ]
    },
    {
     "name": "stderr",
     "output_type": "stream",
     "text": [
      "Warning message:\n",
      "\"glm.fit: algorithm did not converge\"Warning message:\n",
      "\"glm.fit: fitted probabilities numerically 0 or 1 occurred\"Warning message:\n",
      "\"glm.fit: fitted probabilities numerically 0 or 1 occurred\""
     ]
    },
    {
     "name": "stdout",
     "output_type": "stream",
     "text": [
      "              Df Deviance    AIC\n",
      "- height_left  1    0.000  8.000\n",
      "<none>              0.000 10.000\n",
      "- margin_up    1    7.893 15.893\n",
      "- length       1   12.644 20.644\n",
      "- margin_low   1   43.933 51.933\n"
     ]
    },
    {
     "name": "stderr",
     "output_type": "stream",
     "text": [
      "Warning message:\n",
      "\"glm.fit: algorithm did not converge\"Warning message:\n",
      "\"glm.fit: fitted probabilities numerically 0 or 1 occurred\""
     ]
    },
    {
     "name": "stdout",
     "output_type": "stream",
     "text": [
      "\n",
      "Step:  AIC=8\n",
      ".outcome ~ margin_low + margin_up + length\n",
      "\n"
     ]
    },
    {
     "name": "stderr",
     "output_type": "stream",
     "text": [
      "Warning message:\n",
      "\"glm.fit: fitted probabilities numerically 0 or 1 occurred\""
     ]
    },
    {
     "name": "stdout",
     "output_type": "stream",
     "text": [
      "             Df Deviance    AIC\n",
      "<none>             0.000  8.000\n",
      "- margin_up   1    7.986 13.986\n",
      "- length      1   12.649 18.649\n",
      "- margin_low  1   46.455 52.455\n"
     ]
    },
    {
     "name": "stderr",
     "output_type": "stream",
     "text": [
      "Warning message:\n",
      "\"glm.fit: algorithm did not converge\"Warning message:\n",
      "\"glm.fit: fitted probabilities numerically 0 or 1 occurred\""
     ]
    },
    {
     "name": "stdout",
     "output_type": "stream",
     "text": [
      "Start:  AIC=14\n",
      ".outcome ~ diagonal + height_left + height_right + margin_low + \n",
      "    margin_up + length\n",
      "\n"
     ]
    },
    {
     "name": "stderr",
     "output_type": "stream",
     "text": [
      "Warning message:\n",
      "\"glm.fit: algorithm did not converge\"Warning message:\n",
      "\"glm.fit: fitted probabilities numerically 0 or 1 occurred\"Warning message:\n",
      "\"glm.fit: algorithm did not converge\"Warning message:\n",
      "\"glm.fit: fitted probabilities numerically 0 or 1 occurred\"Warning message:\n",
      "\"glm.fit: algorithm did not converge\"Warning message:\n",
      "\"glm.fit: fitted probabilities numerically 0 or 1 occurred\"Warning message:\n",
      "\"glm.fit: algorithm did not converge\"Warning message:\n",
      "\"glm.fit: fitted probabilities numerically 0 or 1 occurred\"Warning message:\n",
      "\"glm.fit: fitted probabilities numerically 0 or 1 occurred\""
     ]
    },
    {
     "name": "stdout",
     "output_type": "stream",
     "text": [
      "               Df Deviance    AIC\n",
      "- height_right  1   0.0000 12.000\n",
      "- height_left   1   0.0000 12.000\n",
      "- diagonal      1   0.0000 12.000\n",
      "- margin_up     1   0.0000 12.000\n",
      "<none>              0.0000 14.000\n",
      "- length        1   7.1921 19.192\n",
      "- margin_low    1  23.9521 35.952\n"
     ]
    },
    {
     "name": "stderr",
     "output_type": "stream",
     "text": [
      "Warning message:\n",
      "\"glm.fit: algorithm did not converge\"Warning message:\n",
      "\"glm.fit: fitted probabilities numerically 0 or 1 occurred\""
     ]
    },
    {
     "name": "stdout",
     "output_type": "stream",
     "text": [
      "\n",
      "Step:  AIC=12\n",
      ".outcome ~ diagonal + height_left + margin_low + margin_up + \n",
      "    length\n",
      "\n"
     ]
    },
    {
     "name": "stderr",
     "output_type": "stream",
     "text": [
      "Warning message:\n",
      "\"glm.fit: algorithm did not converge\"Warning message:\n",
      "\"glm.fit: fitted probabilities numerically 0 or 1 occurred\"Warning message:\n",
      "\"glm.fit: algorithm did not converge\"Warning message:\n",
      "\"glm.fit: fitted probabilities numerically 0 or 1 occurred\"Warning message:\n",
      "\"glm.fit: algorithm did not converge\"Warning message:\n",
      "\"glm.fit: fitted probabilities numerically 0 or 1 occurred\"Warning message:\n",
      "\"glm.fit: fitted probabilities numerically 0 or 1 occurred\""
     ]
    },
    {
     "name": "stdout",
     "output_type": "stream",
     "text": [
      "              Df Deviance    AIC\n",
      "- diagonal     1   0.0000 10.000\n",
      "- height_left  1   0.0000 10.000\n",
      "- margin_up    1   0.0000 10.000\n",
      "<none>             0.0000 12.000\n",
      "- length       1   7.1992 17.199\n",
      "- margin_low   1  29.2158 39.216\n"
     ]
    },
    {
     "name": "stderr",
     "output_type": "stream",
     "text": [
      "Warning message:\n",
      "\"glm.fit: algorithm did not converge\"Warning message:\n",
      "\"glm.fit: fitted probabilities numerically 0 or 1 occurred\""
     ]
    },
    {
     "name": "stdout",
     "output_type": "stream",
     "text": [
      "\n",
      "Step:  AIC=10\n",
      ".outcome ~ height_left + margin_low + margin_up + length\n",
      "\n"
     ]
    },
    {
     "name": "stderr",
     "output_type": "stream",
     "text": [
      "Warning message:\n",
      "\"glm.fit: algorithm did not converge\"Warning message:\n",
      "\"glm.fit: fitted probabilities numerically 0 or 1 occurred\"Warning message:\n",
      "\"glm.fit: algorithm did not converge\"Warning message:\n",
      "\"glm.fit: fitted probabilities numerically 0 or 1 occurred\"Warning message:\n",
      "\"glm.fit: fitted probabilities numerically 0 or 1 occurred\""
     ]
    },
    {
     "name": "stdout",
     "output_type": "stream",
     "text": [
      "              Df Deviance    AIC\n",
      "- height_left  1    0.000  8.000\n",
      "- margin_up    1    0.000  8.000\n",
      "<none>              0.000 10.000\n",
      "- length       1    7.690 15.690\n",
      "- margin_low   1   31.844 39.844\n"
     ]
    },
    {
     "name": "stderr",
     "output_type": "stream",
     "text": [
      "Warning message:\n",
      "\"glm.fit: algorithm did not converge\"Warning message:\n",
      "\"glm.fit: fitted probabilities numerically 0 or 1 occurred\""
     ]
    },
    {
     "name": "stdout",
     "output_type": "stream",
     "text": [
      "\n",
      "Step:  AIC=8\n",
      ".outcome ~ margin_low + margin_up + length\n",
      "\n"
     ]
    },
    {
     "name": "stderr",
     "output_type": "stream",
     "text": [
      "Warning message:\n",
      "\"glm.fit: algorithm did not converge\"Warning message:\n",
      "\"glm.fit: fitted probabilities numerically 0 or 1 occurred\"Warning message:\n",
      "\"glm.fit: fitted probabilities numerically 0 or 1 occurred\""
     ]
    },
    {
     "name": "stdout",
     "output_type": "stream",
     "text": [
      "             Df Deviance    AIC\n",
      "- margin_up   1    0.000  6.000\n",
      "<none>             0.000  8.000\n",
      "- length      1    8.769 14.769\n",
      "- margin_low  1   32.511 38.511\n"
     ]
    },
    {
     "name": "stderr",
     "output_type": "stream",
     "text": [
      "Warning message:\n",
      "\"glm.fit: algorithm did not converge\"Warning message:\n",
      "\"glm.fit: fitted probabilities numerically 0 or 1 occurred\""
     ]
    },
    {
     "name": "stdout",
     "output_type": "stream",
     "text": [
      "\n",
      "Step:  AIC=6\n",
      ".outcome ~ margin_low + length\n",
      "\n",
      "             Df Deviance    AIC\n",
      "<none>             0.000  6.000\n",
      "- margin_low  1   39.515 43.515\n",
      "- length      1   63.264 67.264\n"
     ]
    },
    {
     "name": "stderr",
     "output_type": "stream",
     "text": [
      "Warning message:\n",
      "\"glm.fit: algorithm did not converge\"Warning message:\n",
      "\"glm.fit: fitted probabilities numerically 0 or 1 occurred\""
     ]
    },
    {
     "name": "stdout",
     "output_type": "stream",
     "text": [
      "Start:  AIC=14\n",
      ".outcome ~ diagonal + height_left + height_right + margin_low + \n",
      "    margin_up + length\n",
      "\n"
     ]
    },
    {
     "name": "stderr",
     "output_type": "stream",
     "text": [
      "Warning message:\n",
      "\"glm.fit: algorithm did not converge\"Warning message:\n",
      "\"glm.fit: fitted probabilities numerically 0 or 1 occurred\"Warning message:\n",
      "\"glm.fit: algorithm did not converge\"Warning message:\n",
      "\"glm.fit: fitted probabilities numerically 0 or 1 occurred\"Warning message:\n",
      "\"glm.fit: algorithm did not converge\"Warning message:\n",
      "\"glm.fit: fitted probabilities numerically 0 or 1 occurred\"Warning message:\n",
      "\"glm.fit: fitted probabilities numerically 0 or 1 occurred\"Warning message:\n",
      "\"glm.fit: fitted probabilities numerically 0 or 1 occurred\""
     ]
    },
    {
     "name": "stdout",
     "output_type": "stream",
     "text": [
      "               Df Deviance    AIC\n",
      "- diagonal      1    0.000 12.000\n",
      "- height_right  1    0.000 12.000\n",
      "- height_left   1    0.000 12.000\n",
      "<none>               0.000 14.000\n",
      "- margin_up     1    8.265 20.265\n",
      "- length        1   11.198 23.198\n",
      "- margin_low    1   42.342 54.342\n"
     ]
    },
    {
     "name": "stderr",
     "output_type": "stream",
     "text": [
      "Warning message:\n",
      "\"glm.fit: algorithm did not converge\"Warning message:\n",
      "\"glm.fit: fitted probabilities numerically 0 or 1 occurred\""
     ]
    },
    {
     "name": "stdout",
     "output_type": "stream",
     "text": [
      "\n",
      "Step:  AIC=12\n",
      ".outcome ~ height_left + height_right + margin_low + margin_up + \n",
      "    length\n",
      "\n"
     ]
    },
    {
     "name": "stderr",
     "output_type": "stream",
     "text": [
      "Warning message:\n",
      "\"glm.fit: algorithm did not converge\"Warning message:\n",
      "\"glm.fit: fitted probabilities numerically 0 or 1 occurred\"Warning message:\n",
      "\"glm.fit: algorithm did not converge\"Warning message:\n",
      "\"glm.fit: fitted probabilities numerically 0 or 1 occurred\"Warning message:\n",
      "\"glm.fit: fitted probabilities numerically 0 or 1 occurred\"Warning message:\n",
      "\"glm.fit: fitted probabilities numerically 0 or 1 occurred\""
     ]
    },
    {
     "name": "stdout",
     "output_type": "stream",
     "text": [
      "               Df Deviance    AIC\n",
      "- height_right  1    0.000 10.000\n",
      "- height_left   1    0.000 10.000\n",
      "<none>               0.000 12.000\n",
      "- margin_up     1    8.568 18.568\n",
      "- length        1   12.462 22.462\n",
      "- margin_low    1   47.782 57.782\n"
     ]
    },
    {
     "name": "stderr",
     "output_type": "stream",
     "text": [
      "Warning message:\n",
      "\"glm.fit: algorithm did not converge\"Warning message:\n",
      "\"glm.fit: fitted probabilities numerically 0 or 1 occurred\""
     ]
    },
    {
     "name": "stdout",
     "output_type": "stream",
     "text": [
      "\n",
      "Step:  AIC=10\n",
      ".outcome ~ height_left + margin_low + margin_up + length\n",
      "\n"
     ]
    },
    {
     "name": "stderr",
     "output_type": "stream",
     "text": [
      "Warning message:\n",
      "\"glm.fit: algorithm did not converge\"Warning message:\n",
      "\"glm.fit: fitted probabilities numerically 0 or 1 occurred\"Warning message:\n",
      "\"glm.fit: fitted probabilities numerically 0 or 1 occurred\"Warning message:\n",
      "\"glm.fit: fitted probabilities numerically 0 or 1 occurred\""
     ]
    },
    {
     "name": "stdout",
     "output_type": "stream",
     "text": [
      "              Df Deviance    AIC\n",
      "- height_left  1    0.000  8.000\n",
      "<none>              0.000 10.000\n",
      "- margin_up    1    8.585 16.585\n",
      "- length       1   12.716 20.716\n",
      "- margin_low   1   53.624 61.624\n"
     ]
    },
    {
     "name": "stderr",
     "output_type": "stream",
     "text": [
      "Warning message:\n",
      "\"glm.fit: algorithm did not converge\"Warning message:\n",
      "\"glm.fit: fitted probabilities numerically 0 or 1 occurred\""
     ]
    },
    {
     "name": "stdout",
     "output_type": "stream",
     "text": [
      "\n",
      "Step:  AIC=8\n",
      ".outcome ~ margin_low + margin_up + length\n",
      "\n"
     ]
    },
    {
     "name": "stderr",
     "output_type": "stream",
     "text": [
      "Warning message:\n",
      "\"glm.fit: fitted probabilities numerically 0 or 1 occurred\"Warning message:\n",
      "\"glm.fit: fitted probabilities numerically 0 or 1 occurred\""
     ]
    },
    {
     "name": "stdout",
     "output_type": "stream",
     "text": [
      "             Df Deviance    AIC\n",
      "<none>             0.000  8.000\n",
      "- margin_up   1    8.586 14.586\n",
      "- length      1   12.721 18.721\n",
      "- margin_low  1   57.812 63.812\n"
     ]
    },
    {
     "data": {
      "text/plain": [
       "Generalized Linear Model with Stepwise Feature Selection \n",
       "\n",
       "170 samples\n",
       "  6 predictor\n",
       "  2 classes: 'False', 'True' \n",
       "\n",
       "No pre-processing\n",
       "Resampling: Cross-Validated (5 fold) \n",
       "Summary of sample sizes: 136, 136, 136, 136, 136 \n",
       "Resampling results:\n",
       "\n",
       "  Accuracy   Kappa    \n",
       "  0.9941176  0.9877256\n"
      ]
     },
     "metadata": {},
     "output_type": "display_data"
    }
   ],
   "source": [
    "# Méthode de sélection pas à pas \"Both\", basée sur le critère d'Akaike:\n",
    "model <- train(is_genuine ~ ., data = notes, method = \"glmStepAIC\", family = 'binomial', trControl = train.control)\n",
    "model"
   ]
  },
  {
   "cell_type": "markdown",
   "metadata": {},
   "source": [
    "CCL:<br/>\n",
    "Le modèle est entraîné sur toutes les données en validation croisée stratifiée.<br/>\n",
    "Son taux de succès est de 99,4%."
   ]
  },
  {
   "cell_type": "code",
   "execution_count": 62,
   "metadata": {},
   "outputs": [
    {
     "data": {
      "text/plain": [
       "\n",
       "Call:\n",
       "NULL\n",
       "\n",
       "Deviance Residuals: \n",
       "       Min          1Q      Median          3Q         Max  \n",
       "-1.260e-04  -2.100e-08   2.100e-08   2.100e-08   1.291e-04  \n",
       "\n",
       "Coefficients:\n",
       "              Estimate Std. Error z value Pr(>|z|)\n",
       "(Intercept)   -5537.30 2968595.16  -0.002    0.999\n",
       "margin_low     -176.96   51301.98  -0.003    0.997\n",
       "margin_up      -288.77  108266.26  -0.003    0.998\n",
       "length           64.83   26529.00   0.002    0.998\n",
       "\n",
       "(Dispersion parameter for binomial family taken to be 1)\n",
       "\n",
       "    Null deviance: 2.3035e+02  on 169  degrees of freedom\n",
       "Residual deviance: 3.4724e-08  on 166  degrees of freedom\n",
       "AIC: 8\n",
       "\n",
       "Number of Fisher Scoring iterations: 25\n"
      ]
     },
     "metadata": {},
     "output_type": "display_data"
    }
   ],
   "source": [
    "summary(model)"
   ]
  },
  {
   "cell_type": "markdown",
   "metadata": {},
   "source": [
    "### <span style='color:brown'>b) Calcul des odd-ratios:<a name=\"M312\"></a>"
   ]
  },
  {
   "cell_type": "code",
   "execution_count": 63,
   "metadata": {},
   "outputs": [
    {
     "name": "stderr",
     "output_type": "stream",
     "text": [
      "Waiting for profiling to be done...\n",
      "Warning message:\n",
      "\"glm.fit: fitted probabilities numerically 0 or 1 occurred\"Warning message:\n",
      "\"glm.fit: fitted probabilities numerically 0 or 1 occurred\"Warning message:\n",
      "\"glm.fit: fitted probabilities numerically 0 or 1 occurred\"Warning message:\n",
      "\"glm.fit: fitted probabilities numerically 0 or 1 occurred\"Warning message:\n",
      "\"glm.fit: fitted probabilities numerically 0 or 1 occurred\"Warning message:\n",
      "\"glm.fit: fitted probabilities numerically 0 or 1 occurred\"Warning message:\n",
      "\"glm.fit: fitted probabilities numerically 0 or 1 occurred\"Warning message:\n",
      "\"glm.fit: fitted probabilities numerically 0 or 1 occurred\""
     ]
    },
    {
     "data": {
      "text/html": [
       "<table>\n",
       "<thead><tr><th></th><th scope=col>OR</th><th scope=col>2.5 %</th><th scope=col>97.5 %</th></tr></thead>\n",
       "<tbody>\n",
       "\t<tr><th scope=row>(Intercept)</th><td> 0.000000e+00</td><td>0            </td><td>Inf          </td></tr>\n",
       "\t<tr><th scope=row>margin_low</th><td> 1.398310e-77</td><td>0            </td><td>Inf          </td></tr>\n",
       "\t<tr><th scope=row>margin_up</th><td>3.895846e-126</td><td>0            </td><td>Inf          </td></tr>\n",
       "\t<tr><th scope=row>length</th><td> 1.428359e+28</td><td>0            </td><td>Inf          </td></tr>\n",
       "</tbody>\n",
       "</table>\n"
      ],
      "text/latex": [
       "\\begin{tabular}{r|lll}\n",
       "  & OR & 2.5 \\% & 97.5 \\%\\\\\n",
       "\\hline\n",
       "\t(Intercept) &  0.000000e+00 & 0             & Inf          \\\\\n",
       "\tmargin\\_low &  1.398310e-77 & 0             & Inf          \\\\\n",
       "\tmargin\\_up & 3.895846e-126 & 0             & Inf          \\\\\n",
       "\tlength &  1.428359e+28 & 0             & Inf          \\\\\n",
       "\\end{tabular}\n"
      ],
      "text/markdown": [
       "\n",
       "| <!--/--> | OR | 2.5 % | 97.5 % |\n",
       "|---|---|---|---|\n",
       "| (Intercept) |  0.000000e+00 | 0             | Inf           |\n",
       "| margin_low |  1.398310e-77 | 0             | Inf           |\n",
       "| margin_up | 3.895846e-126 | 0             | Inf           |\n",
       "| length |  1.428359e+28 | 0             | Inf           |\n",
       "\n"
      ],
      "text/plain": [
       "            OR            2.5 % 97.5 %\n",
       "(Intercept)  0.000000e+00 0     Inf   \n",
       "margin_low   1.398310e-77 0     Inf   \n",
       "margin_up   3.895846e-126 0     Inf   \n",
       "length       1.428359e+28 0     Inf   "
      ]
     },
     "metadata": {},
     "output_type": "display_data"
    }
   ],
   "source": [
    "exp(cbind(OR = coef(model$finalModel), confint(model$finalModel)))"
   ]
  },
  {
   "cell_type": "markdown",
   "metadata": {},
   "source": [
    "CCL:<br/>\n",
    "- On conforte ici ce que nous avions déjà observé avec l'ACP à savoir que les variables lenght et margin_low sont fortement liées avec l'authenticité du billet.\n",
    "- margin_up semble aussi dans ce modèle très corrélé à l'authenticité des billets.\n",
    "- length très supérieur à 1, contrairement à margin_low et margin_up très proches de 0, confortent l'idée que ces variables contribueront à identifier des billets de nature opposée."
   ]
  },
  {
   "cell_type": "markdown",
   "metadata": {},
   "source": [
    "### <span style='color:brown'>c) Évaluation statistique de la régression:<a name=\"M313\"></a>"
   ]
  },
  {
   "cell_type": "code",
   "execution_count": 64,
   "metadata": {},
   "outputs": [
    {
     "data": {
      "text/plain": [
       "\n",
       "Call:  NULL\n",
       "\n",
       "Coefficients:\n",
       "(Intercept)   margin_low    margin_up       length  \n",
       "   -5537.30      -176.96      -288.77        64.83  \n",
       "\n",
       "Degrees of Freedom: 169 Total (i.e. Null);  166 Residual\n",
       "Null Deviance:\t    230.3 \n",
       "Residual Deviance: 3.472e-08 \tAIC: 8"
      ]
     },
     "metadata": {},
     "output_type": "display_data"
    }
   ],
   "source": [
    "# Modèle sous-jacent issu de l'échantillon train ( + coefficients de la régression logistique):\n",
    "model$finalModel"
   ]
  },
  {
   "cell_type": "code",
   "execution_count": 65,
   "metadata": {},
   "outputs": [
    {
     "data": {
      "text/html": [
       "3.47244542897841e-08"
      ],
      "text/latex": [
       "3.47244542897841e-08"
      ],
      "text/markdown": [
       "3.47244542897841e-08"
      ],
      "text/plain": [
       "[1] 3.472445e-08"
      ]
     },
     "metadata": {},
     "output_type": "display_data"
    }
   ],
   "source": [
    "deviance(model$finalModel) # Une déviance résiduelle faible est révélatrice d'une bonne adéquation du modèle."
   ]
  },
  {
   "cell_type": "markdown",
   "metadata": {},
   "source": [
    "Déviance du modèle : le test de rapport des vraisemblances qui compare la vraisemblance entre le modèle courant et le modèle saturé (le modèle dans lequel nous avons tous les paramètres) et le calcul de la p_value donnent la significativité globale du modèle."
   ]
  },
  {
   "cell_type": "code",
   "execution_count": 66,
   "metadata": {},
   "outputs": [
    {
     "data": {
      "text/html": [
       "230.348097477836"
      ],
      "text/latex": [
       "230.348097477836"
      ],
      "text/markdown": [
       "230.348097477836"
      ],
      "text/plain": [
       "[1] 230.3481"
      ]
     },
     "metadata": {},
     "output_type": "display_data"
    },
    {
     "data": {
      "text/html": [
       "3"
      ],
      "text/latex": [
       "3"
      ],
      "text/markdown": [
       "3"
      ],
      "text/plain": [
       "[1] 3"
      ]
     },
     "metadata": {},
     "output_type": "display_data"
    }
   ],
   "source": [
    "(chi2 <- with(model$finalModel, null.deviance - deviance))\n",
    "(ddl <- with(model$finalModel, df.null - df.residual))"
   ]
  },
  {
   "cell_type": "markdown",
   "metadata": {},
   "source": [
    "La statistique du rapport de vraisemblance suit une loi du chi2 à 3 degrés de libertés.\n",
    "\n",
    "Hypothèse nulle H0: tous les coefficients de la relation linéaire sont nuls.<br/>\n",
    "Hypothèse alternative H1: un des coefficients au moins est non nul.<br/>\n",
    "Test bilatéral.<br/>\n",
    "Seuil alpha fixé à 5%."
   ]
  },
  {
   "cell_type": "code",
   "execution_count": 67,
   "metadata": {},
   "outputs": [
    {
     "data": {
      "text/html": [
       "1.16292526959545e-49"
      ],
      "text/latex": [
       "1.16292526959545e-49"
      ],
      "text/markdown": [
       "1.16292526959545e-49"
      ],
      "text/plain": [
       "[1] 1.162925e-49"
      ]
     },
     "metadata": {},
     "output_type": "display_data"
    }
   ],
   "source": [
    "(p_value <- pchisq(chi2, ddl, lower.tail = F))"
   ]
  },
  {
   "cell_type": "markdown",
   "metadata": {},
   "source": [
    "CCL:<br/>\n",
    "La p-value étant significative, on rejette alors l'hypothèse nulle: au moins un des coefficients est non nul.<br/>\n",
    "Le modèle est donc globalement significatif: il existe bien une relation entre les variables explicatives et la variable expliquée."
   ]
  },
  {
   "cell_type": "code",
   "execution_count": 68,
   "metadata": {},
   "outputs": [
    {
     "name": "stderr",
     "output_type": "stream",
     "text": [
      "Warning message:\n",
      "\"glm.fit: algorithm did not converge\"Warning message:\n",
      "\"glm.fit: fitted probabilities numerically 0 or 1 occurred\""
     ]
    }
   ],
   "source": [
    "# Nous pouvons donc utiliser à présent cette modélisation:\n",
    "new_model <- train(is_genuine ~ margin_up + margin_low + length,\n",
    "                   data = notes, method = 'glm',\n",
    "                   family = 'binomial',\n",
    "                   trControl = trainControl('none'))"
   ]
  },
  {
   "cell_type": "markdown",
   "metadata": {},
   "source": [
    "### <span style='color:brown'>d) Courbe ROC:<a name=\"M314\"></a>"
   ]
  },
  {
   "cell_type": "code",
   "execution_count": 69,
   "metadata": {},
   "outputs": [
    {
     "data": {
      "text/html": [
       "<dl class=dl-horizontal>\n",
       "\t<dt>0%</dt>\n",
       "\t\t<dd>2.22044604925031e-16</dd>\n",
       "\t<dt>25%</dt>\n",
       "\t\t<dd>2.22044604925031e-16</dd>\n",
       "\t<dt>50%</dt>\n",
       "\t\t<dd>1</dd>\n",
       "\t<dt>75%</dt>\n",
       "\t\t<dd>1</dd>\n",
       "\t<dt>100%</dt>\n",
       "\t\t<dd>1</dd>\n",
       "</dl>\n"
      ],
      "text/latex": [
       "\\begin{description*}\n",
       "\\item[0\\textbackslash{}\\%] 2.22044604925031e-16\n",
       "\\item[25\\textbackslash{}\\%] 2.22044604925031e-16\n",
       "\\item[50\\textbackslash{}\\%] 1\n",
       "\\item[75\\textbackslash{}\\%] 1\n",
       "\\item[100\\textbackslash{}\\%] 1\n",
       "\\end{description*}\n"
      ],
      "text/markdown": [
       "0%\n",
       ":   2.22044604925031e-1625%\n",
       ":   2.22044604925031e-1650%\n",
       ":   175%\n",
       ":   1100%\n",
       ":   1\n",
       "\n"
      ],
      "text/plain": [
       "          0%          25%          50%          75%         100% \n",
       "2.220446e-16 2.220446e-16 1.000000e+00 1.000000e+00 1.000000e+00 "
      ]
     },
     "metadata": {},
     "output_type": "display_data"
    }
   ],
   "source": [
    "# Calcul du score, probabilité pour chaque billet d'appartenir à la classe \"Vrai\":\n",
    "score <- predict(new_model, notes, type = 'prob')[, \"True\"]\n",
    "quantile(score)"
   ]
  },
  {
   "cell_type": "code",
   "execution_count": 70,
   "metadata": {},
   "outputs": [
    {
     "name": "stderr",
     "output_type": "stream",
     "text": [
      "Setting levels: control = False, case = True\n",
      "Setting direction: controls < cases\n"
     ]
    },
    {
     "data": {
      "text/plain": [
       "\n",
       "Call:\n",
       "roc.default(response = notes$is_genuine, predictor = score, percent = T,     plot = TRUE, col = \"red\", legacy.axes = T, xlab = \"Pourcentage de Faux Positifs\",     ylab = \"Pourcentage de Vrai Positifs\")\n",
       "\n",
       "Data: score in 70 controls (notes$is_genuine False) < 100 cases (notes$is_genuine True).\n",
       "Area under the curve: 100%"
      ]
     },
     "metadata": {},
     "output_type": "display_data"
    },
    {
     "data": {
      "image/png": "[encoded data removed]",
      "text/plain": [
       "plot without title"
      ]
     },
     "metadata": {},
     "output_type": "display_data"
    }
   ],
   "source": [
    "par(pty = 's')\n",
    "roc(notes$is_genuine, score, plot = TRUE, col = 'red', legacy.axes = T, percent = T, xlab = 'Pourcentage de Faux Positifs',\n",
    "    ylab = 'Pourcentage de Vrai Positifs')"
   ]
  },
  {
   "cell_type": "markdown",
   "metadata": {},
   "source": [
    "CCL: La courbe ROC confirme que le modèle est idéal."
   ]
  },
  {
   "cell_type": "markdown",
   "metadata": {},
   "source": [
    "## <span style='color:blue'>2. Identification d'un billet.<a name=\"M32\"></a>\n",
    "### <span style='color:brown'>a) Programme.<a name=\"M321\"></a>"
   ]
  },
  {
   "cell_type": "code",
   "execution_count": 71,
   "metadata": {},
   "outputs": [],
   "source": [
    "identification <- function(file) \n",
    "{\n",
    "    fichier <- read.csv(file, encoding = 'UTF-8')\n",
    "    for (i in 1:nrow(fichier)) {\n",
    "        score <- predict(model, fichier[i, -7], type = 'prob')[, 'True']\n",
    "        if (score >= 0.5) {\n",
    "            fichier[i, c('score', 'is_genuine')] <- c(score, 'True')}\n",
    "        else {\n",
    "            fichier[i, c('score', 'is_genuine')] <- c(score, 'False')}\n",
    "    }\n",
    "    fichier[, c('id', 'score', 'is_genuine')]\n",
    "}"
   ]
  },
  {
   "cell_type": "code",
   "execution_count": 72,
   "metadata": {},
   "outputs": [
    {
     "data": {
      "text/html": [
       "<table>\n",
       "<thead><tr><th scope=col>id</th><th scope=col>score</th><th scope=col>is_genuine</th></tr></thead>\n",
       "<tbody>\n",
       "\t<tr><td>A_1                 </td><td>2.22044604925031e-16</td><td>False               </td></tr>\n",
       "\t<tr><td>A_2                 </td><td>2.22044604925031e-16</td><td>False               </td></tr>\n",
       "\t<tr><td>A_3                 </td><td>2.22044604925031e-16</td><td>False               </td></tr>\n",
       "\t<tr><td>A_4                 </td><td>1                   </td><td>True                </td></tr>\n",
       "\t<tr><td>A_5                 </td><td>1                   </td><td>True                </td></tr>\n",
       "\t<tr><td>B                   </td><td>1                   </td><td>True                </td></tr>\n",
       "</tbody>\n",
       "</table>\n"
      ],
      "text/latex": [
       "\\begin{tabular}{r|lll}\n",
       " id & score & is\\_genuine\\\\\n",
       "\\hline\n",
       "\t A\\_1                & 2.22044604925031e-16 & False               \\\\\n",
       "\t A\\_2                & 2.22044604925031e-16 & False               \\\\\n",
       "\t A\\_3                & 2.22044604925031e-16 & False               \\\\\n",
       "\t A\\_4                & 1                    & True                \\\\\n",
       "\t A\\_5                & 1                    & True                \\\\\n",
       "\t B                    & 1                    & True                \\\\\n",
       "\\end{tabular}\n"
      ],
      "text/markdown": [
       "\n",
       "| id | score | is_genuine |\n",
       "|---|---|---|\n",
       "| A_1                  | 2.22044604925031e-16 | False                |\n",
       "| A_2                  | 2.22044604925031e-16 | False                |\n",
       "| A_3                  | 2.22044604925031e-16 | False                |\n",
       "| A_4                  | 1                    | True                 |\n",
       "| A_5                  | 1                    | True                 |\n",
       "| B                    | 1                    | True                 |\n",
       "\n"
      ],
      "text/plain": [
       "  id  score                is_genuine\n",
       "1 A_1 2.22044604925031e-16 False     \n",
       "2 A_2 2.22044604925031e-16 False     \n",
       "3 A_3 2.22044604925031e-16 False     \n",
       "4 A_4 1                    True      \n",
       "5 A_5 1                    True      \n",
       "6 B   1                    True      "
      ]
     },
     "metadata": {},
     "output_type": "display_data"
    }
   ],
   "source": [
    "identification('example.csv')"
   ]
  },
  {
   "cell_type": "markdown",
   "metadata": {},
   "source": [
    "### <span style='color:brown'>b) Vérification par le graphique des individus.<a name=\"M322\"></a>"
   ]
  },
  {
   "cell_type": "code",
   "execution_count": 73,
   "metadata": {},
   "outputs": [
    {
     "data": {
      "text/html": [
       "<table>\n",
       "<thead><tr><th></th><th scope=col>is_genuine</th><th scope=col>diagonal</th><th scope=col>height_left</th><th scope=col>height_right</th><th scope=col>margin_low</th><th scope=col>margin_up</th><th scope=col>length</th></tr></thead>\n",
       "<tbody>\n",
       "\t<tr><th scope=row>A_1</th><td>1     </td><td>171.76</td><td>104.01</td><td>103.54</td><td>5.21  </td><td>3.30  </td><td>111.42</td></tr>\n",
       "\t<tr><th scope=row>A_2</th><td>1     </td><td>171.87</td><td>104.17</td><td>104.13</td><td>6.00  </td><td>3.31  </td><td>112.09</td></tr>\n",
       "\t<tr><th scope=row>A_3</th><td>1     </td><td>172.00</td><td>104.58</td><td>104.29</td><td>4.99  </td><td>3.39  </td><td>111.57</td></tr>\n",
       "\t<tr><th scope=row>A_4</th><td>2     </td><td>172.49</td><td>104.55</td><td>104.34</td><td>4.44  </td><td>3.03  </td><td>113.20</td></tr>\n",
       "\t<tr><th scope=row>A_5</th><td>2     </td><td>171.65</td><td>103.63</td><td>103.56</td><td>3.77  </td><td>3.16  </td><td>113.33</td></tr>\n",
       "\t<tr><th scope=row>B</th><td>2     </td><td>171.81</td><td>104.86</td><td>104.95</td><td>4.52  </td><td>2.89  </td><td>112.83</td></tr>\n",
       "</tbody>\n",
       "</table>\n"
      ],
      "text/latex": [
       "\\begin{tabular}{r|lllllll}\n",
       "  & is\\_genuine & diagonal & height\\_left & height\\_right & margin\\_low & margin\\_up & length\\\\\n",
       "\\hline\n",
       "\tA\\_1 & 1      & 171.76 & 104.01 & 103.54 & 5.21   & 3.30   & 111.42\\\\\n",
       "\tA\\_2 & 1      & 171.87 & 104.17 & 104.13 & 6.00   & 3.31   & 112.09\\\\\n",
       "\tA\\_3 & 1      & 172.00 & 104.58 & 104.29 & 4.99   & 3.39   & 111.57\\\\\n",
       "\tA\\_4 & 2      & 172.49 & 104.55 & 104.34 & 4.44   & 3.03   & 113.20\\\\\n",
       "\tA\\_5 & 2      & 171.65 & 103.63 & 103.56 & 3.77   & 3.16   & 113.33\\\\\n",
       "\tB & 2      & 171.81 & 104.86 & 104.95 & 4.52   & 2.89   & 112.83\\\\\n",
       "\\end{tabular}\n"
      ],
      "text/markdown": [
       "\n",
       "| <!--/--> | is_genuine | diagonal | height_left | height_right | margin_low | margin_up | length |\n",
       "|---|---|---|---|---|---|---|---|\n",
       "| A_1 | 1      | 171.76 | 104.01 | 103.54 | 5.21   | 3.30   | 111.42 |\n",
       "| A_2 | 1      | 171.87 | 104.17 | 104.13 | 6.00   | 3.31   | 112.09 |\n",
       "| A_3 | 1      | 172.00 | 104.58 | 104.29 | 4.99   | 3.39   | 111.57 |\n",
       "| A_4 | 2      | 172.49 | 104.55 | 104.34 | 4.44   | 3.03   | 113.20 |\n",
       "| A_5 | 2      | 171.65 | 103.63 | 103.56 | 3.77   | 3.16   | 113.33 |\n",
       "| B | 2      | 171.81 | 104.86 | 104.95 | 4.52   | 2.89   | 112.83 |\n",
       "\n"
      ],
      "text/plain": [
       "    is_genuine diagonal height_left height_right margin_low margin_up length\n",
       "A_1 1          171.76   104.01      103.54       5.21       3.30      111.42\n",
       "A_2 1          171.87   104.17      104.13       6.00       3.31      112.09\n",
       "A_3 1          172.00   104.58      104.29       4.99       3.39      111.57\n",
       "A_4 2          172.49   104.55      104.34       4.44       3.03      113.20\n",
       "A_5 2          171.65   103.63      103.56       3.77       3.16      113.33\n",
       "B   2          171.81   104.86      104.95       4.52       2.89      112.83"
      ]
     },
     "metadata": {},
     "output_type": "display_data"
    }
   ],
   "source": [
    "ex <- read.csv('example.csv', encoding = 'UTF-8')\n",
    "ex$is_genuine <- as.numeric(as.factor(identification('example.csv')$is_genuine))\n",
    "rownames(ex) <- ex$id\n",
    "ex <- ex[, c(8, 1:6)]\n",
    "ex"
   ]
  },
  {
   "cell_type": "code",
   "execution_count": 74,
   "metadata": {},
   "outputs": [
    {
     "data": {
      "text/html": [
       "<table>\n",
       "<thead><tr><th></th><th scope=col>is_genuine</th><th scope=col>diagonal</th><th scope=col>height_left</th><th scope=col>height_right</th><th scope=col>margin_low</th><th scope=col>margin_up</th><th scope=col>length</th></tr></thead>\n",
       "<tbody>\n",
       "\t<tr><th scope=row>A_1</th><td>1     </td><td>171.76</td><td>104.01</td><td>103.54</td><td>5.21  </td><td>3.30  </td><td>111.42</td></tr>\n",
       "\t<tr><th scope=row>A_2</th><td>1     </td><td>171.87</td><td>104.17</td><td>104.13</td><td>6.00  </td><td>3.31  </td><td>112.09</td></tr>\n",
       "\t<tr><th scope=row>A_3</th><td>1     </td><td>172.00</td><td>104.58</td><td>104.29</td><td>4.99  </td><td>3.39  </td><td>111.57</td></tr>\n",
       "\t<tr><th scope=row>A_4</th><td>2     </td><td>172.49</td><td>104.55</td><td>104.34</td><td>4.44  </td><td>3.03  </td><td>113.20</td></tr>\n",
       "\t<tr><th scope=row>A_5</th><td>2     </td><td>171.65</td><td>103.63</td><td>103.56</td><td>3.77  </td><td>3.16  </td><td>113.33</td></tr>\n",
       "\t<tr><th scope=row>B</th><td>2     </td><td>171.81</td><td>104.86</td><td>104.95</td><td>4.52  </td><td>2.89  </td><td>112.83</td></tr>\n",
       "</tbody>\n",
       "</table>\n"
      ],
      "text/latex": [
       "\\begin{tabular}{r|lllllll}\n",
       "  & is\\_genuine & diagonal & height\\_left & height\\_right & margin\\_low & margin\\_up & length\\\\\n",
       "\\hline\n",
       "\tA\\_1 & 1      & 171.76 & 104.01 & 103.54 & 5.21   & 3.30   & 111.42\\\\\n",
       "\tA\\_2 & 1      & 171.87 & 104.17 & 104.13 & 6.00   & 3.31   & 112.09\\\\\n",
       "\tA\\_3 & 1      & 172.00 & 104.58 & 104.29 & 4.99   & 3.39   & 111.57\\\\\n",
       "\tA\\_4 & 2      & 172.49 & 104.55 & 104.34 & 4.44   & 3.03   & 113.20\\\\\n",
       "\tA\\_5 & 2      & 171.65 & 103.63 & 103.56 & 3.77   & 3.16   & 113.33\\\\\n",
       "\tB & 2      & 171.81 & 104.86 & 104.95 & 4.52   & 2.89   & 112.83\\\\\n",
       "\\end{tabular}\n"
      ],
      "text/markdown": [
       "\n",
       "| <!--/--> | is_genuine | diagonal | height_left | height_right | margin_low | margin_up | length |\n",
       "|---|---|---|---|---|---|---|---|\n",
       "| A_1 | 1      | 171.76 | 104.01 | 103.54 | 5.21   | 3.30   | 111.42 |\n",
       "| A_2 | 1      | 171.87 | 104.17 | 104.13 | 6.00   | 3.31   | 112.09 |\n",
       "| A_3 | 1      | 172.00 | 104.58 | 104.29 | 4.99   | 3.39   | 111.57 |\n",
       "| A_4 | 2      | 172.49 | 104.55 | 104.34 | 4.44   | 3.03   | 113.20 |\n",
       "| A_5 | 2      | 171.65 | 103.63 | 103.56 | 3.77   | 3.16   | 113.33 |\n",
       "| B | 2      | 171.81 | 104.86 | 104.95 | 4.52   | 2.89   | 112.83 |\n",
       "\n"
      ],
      "text/plain": [
       "    is_genuine diagonal height_left height_right margin_low margin_up length\n",
       "A_1 1          171.76   104.01      103.54       5.21       3.30      111.42\n",
       "A_2 1          171.87   104.17      104.13       6.00       3.31      112.09\n",
       "A_3 1          172.00   104.58      104.29       4.99       3.39      111.57\n",
       "A_4 2          172.49   104.55      104.34       4.44       3.03      113.20\n",
       "A_5 2          171.65   103.63      103.56       3.77       3.16      113.33\n",
       "B   2          171.81   104.86      104.95       4.52       2.89      112.83"
      ]
     },
     "metadata": {},
     "output_type": "display_data"
    }
   ],
   "source": [
    "verif <- rbind(ex, auth)\n",
    "head(verif)"
   ]
  },
  {
   "cell_type": "code",
   "execution_count": 75,
   "metadata": {},
   "outputs": [],
   "source": [
    "res.verif <- PCA(verif, ncp = 3, scale.unit = TRUE, ind.sup = 1:5, quanti.sup = 1, graph = F)"
   ]
  },
  {
   "cell_type": "code",
   "execution_count": 76,
   "metadata": {},
   "outputs": [
    {
     "data": {
      "image/png": "[encoded data removed]",
      "text/plain": [
       "plot without title"
      ]
     },
     "metadata": {},
     "output_type": "display_data"
    }
   ],
   "source": [
    "options(repr.plot.width = 8, repr.plot.height = 5)\n",
    "fviz_pca_ind (res.verif,\n",
    "              geom = c('point', 'text'),\n",
    "              habillage = 1,\n",
    "              pointsize = 2,\n",
    "              labelsize = 3,\n",
    "              palette = c(\"#FC4E07\", \"#00AFBB\"),\n",
    "              addEllipses = TRUE\n",
    "             )"
   ]
  },
  {
   "cell_type": "markdown",
   "metadata": {},
   "source": [
    "CCL: Confirmation de la nature des billets."
   ]
  },
  {
   "cell_type": "code",
   "execution_count": 77,
   "metadata": {},
   "outputs": [
    {
     "data": {
      "image/png": "[encoded data removed]",
      "text/plain": [
       "plot without title"
      ]
     },
     "metadata": {},
     "output_type": "display_data"
    }
   ],
   "source": [
    "options(repr.plot.width = 8, repr.plot.height = 5)\n",
    "fviz_pca_ind (res.verif,\n",
    "              axes = c(1, 3),\n",
    "              geom = c('point', 'text'),\n",
    "              habillage = 1,\n",
    "              pointsize = 2,\n",
    "              labelsize = 3,\n",
    "              palette = c(\"#FC4E07\", \"#00AFBB\"),\n",
    "              addEllipses = TRUE\n",
    "             )"
   ]
  },
  {
   "cell_type": "markdown",
   "metadata": {},
   "source": [
    "CCL: Avec ce plan factoriel, il aurait été compliqué voire impossible de vérifier l'identité des billets."
   ]
  },
  {
   "cell_type": "code",
   "execution_count": 78,
   "metadata": {},
   "outputs": [
    {
     "data": {
      "text/html": [
       "<table>\n",
       "<thead><tr><th scope=col>id</th><th scope=col>score</th><th scope=col>is_genuine</th></tr></thead>\n",
       "<tbody>\n",
       "\t<tr><td>A_1                 </td><td>2.22044604925031e-16</td><td>False               </td></tr>\n",
       "\t<tr><td>A_2                 </td><td>2.22044604925031e-16</td><td>False               </td></tr>\n",
       "\t<tr><td>A_3                 </td><td>2.22044604925031e-16</td><td>False               </td></tr>\n",
       "\t<tr><td>A_4                 </td><td>1                   </td><td>True                </td></tr>\n",
       "\t<tr><td>A_5                 </td><td>1                   </td><td>True                </td></tr>\n",
       "</tbody>\n",
       "</table>\n"
      ],
      "text/latex": [
       "\\begin{tabular}{r|lll}\n",
       " id & score & is\\_genuine\\\\\n",
       "\\hline\n",
       "\t A\\_1                & 2.22044604925031e-16 & False               \\\\\n",
       "\t A\\_2                & 2.22044604925031e-16 & False               \\\\\n",
       "\t A\\_3                & 2.22044604925031e-16 & False               \\\\\n",
       "\t A\\_4                & 1                    & True                \\\\\n",
       "\t A\\_5                & 1                    & True                \\\\\n",
       "\\end{tabular}\n"
      ],
      "text/markdown": [
       "\n",
       "| id | score | is_genuine |\n",
       "|---|---|---|\n",
       "| A_1                  | 2.22044604925031e-16 | False                |\n",
       "| A_2                  | 2.22044604925031e-16 | False                |\n",
       "| A_3                  | 2.22044604925031e-16 | False                |\n",
       "| A_4                  | 1                    | True                 |\n",
       "| A_5                  | 1                    | True                 |\n",
       "\n"
      ],
      "text/plain": [
       "  id  score                is_genuine\n",
       "1 A_1 2.22044604925031e-16 False     \n",
       "2 A_2 2.22044604925031e-16 False     \n",
       "3 A_3 2.22044604925031e-16 False     \n",
       "4 A_4 1                    True      \n",
       "5 A_5 1                    True      "
      ]
     },
     "metadata": {},
     "output_type": "display_data"
    }
   ],
   "source": [
    "identification('example_test.csv')"
   ]
  },
  {
   "cell_type": "code",
   "execution_count": 79,
   "metadata": {},
   "outputs": [
    {
     "data": {
      "text/html": [
       "<table>\n",
       "<thead><tr><th></th><th scope=col>is_genuine</th><th scope=col>diagonal</th><th scope=col>height_left</th><th scope=col>height_right</th><th scope=col>margin_low</th><th scope=col>margin_up</th><th scope=col>length</th></tr></thead>\n",
       "<tbody>\n",
       "\t<tr><th scope=row>A_1</th><td>1     </td><td>171.60</td><td>104.01</td><td>103.24</td><td>5.21  </td><td>3.30  </td><td>111.42</td></tr>\n",
       "\t<tr><th scope=row>A_2</th><td>1     </td><td>171.87</td><td>104.17</td><td>104.13</td><td>6.00  </td><td>3.31  </td><td>112.09</td></tr>\n",
       "\t<tr><th scope=row>A_3</th><td>1     </td><td>172.00</td><td>104.78</td><td>104.29</td><td>4.99  </td><td>3.39  </td><td>111.57</td></tr>\n",
       "\t<tr><th scope=row>A_4</th><td>2     </td><td>170.49</td><td>104.55</td><td>104.34</td><td>4.43  </td><td>3.03  </td><td>113.20</td></tr>\n",
       "\t<tr><th scope=row>A_5</th><td>2     </td><td>171.65</td><td>103.63</td><td>103.56</td><td>3.77  </td><td>3.16  </td><td>113.33</td></tr>\n",
       "\t<tr><th scope=row>1</th><td>2     </td><td>171.81</td><td>104.86</td><td>104.95</td><td>4.52  </td><td>2.89  </td><td>112.83</td></tr>\n",
       "</tbody>\n",
       "</table>\n"
      ],
      "text/latex": [
       "\\begin{tabular}{r|lllllll}\n",
       "  & is\\_genuine & diagonal & height\\_left & height\\_right & margin\\_low & margin\\_up & length\\\\\n",
       "\\hline\n",
       "\tA\\_1 & 1      & 171.60 & 104.01 & 103.24 & 5.21   & 3.30   & 111.42\\\\\n",
       "\tA\\_2 & 1      & 171.87 & 104.17 & 104.13 & 6.00   & 3.31   & 112.09\\\\\n",
       "\tA\\_3 & 1      & 172.00 & 104.78 & 104.29 & 4.99   & 3.39   & 111.57\\\\\n",
       "\tA\\_4 & 2      & 170.49 & 104.55 & 104.34 & 4.43   & 3.03   & 113.20\\\\\n",
       "\tA\\_5 & 2      & 171.65 & 103.63 & 103.56 & 3.77   & 3.16   & 113.33\\\\\n",
       "\t1 & 2      & 171.81 & 104.86 & 104.95 & 4.52   & 2.89   & 112.83\\\\\n",
       "\\end{tabular}\n"
      ],
      "text/markdown": [
       "\n",
       "| <!--/--> | is_genuine | diagonal | height_left | height_right | margin_low | margin_up | length |\n",
       "|---|---|---|---|---|---|---|---|\n",
       "| A_1 | 1      | 171.60 | 104.01 | 103.24 | 5.21   | 3.30   | 111.42 |\n",
       "| A_2 | 1      | 171.87 | 104.17 | 104.13 | 6.00   | 3.31   | 112.09 |\n",
       "| A_3 | 1      | 172.00 | 104.78 | 104.29 | 4.99   | 3.39   | 111.57 |\n",
       "| A_4 | 2      | 170.49 | 104.55 | 104.34 | 4.43   | 3.03   | 113.20 |\n",
       "| A_5 | 2      | 171.65 | 103.63 | 103.56 | 3.77   | 3.16   | 113.33 |\n",
       "| 1 | 2      | 171.81 | 104.86 | 104.95 | 4.52   | 2.89   | 112.83 |\n",
       "\n"
      ],
      "text/plain": [
       "    is_genuine diagonal height_left height_right margin_low margin_up length\n",
       "A_1 1          171.60   104.01      103.24       5.21       3.30      111.42\n",
       "A_2 1          171.87   104.17      104.13       6.00       3.31      112.09\n",
       "A_3 1          172.00   104.78      104.29       4.99       3.39      111.57\n",
       "A_4 2          170.49   104.55      104.34       4.43       3.03      113.20\n",
       "A_5 2          171.65   103.63      103.56       3.77       3.16      113.33\n",
       "1   2          171.81   104.86      104.95       4.52       2.89      112.83"
      ]
     },
     "metadata": {},
     "output_type": "display_data"
    }
   ],
   "source": [
    "ex <- read.csv('example_test.csv', encoding = 'UTF-8')\n",
    "ex$is_genuine <- as.numeric(as.factor(identification('example_test.csv')$is_genuine))\n",
    "rownames(ex) <- ex$id\n",
    "ex <- ex[, c(8, 1:6)]\n",
    "verif <- rbind(ex, auth)\n",
    "head(verif)"
   ]
  },
  {
   "cell_type": "code",
   "execution_count": 80,
   "metadata": {},
   "outputs": [],
   "source": [
    "res.verif <- PCA(verif, ncp = 3, scale.unit = TRUE, ind.sup = 1:5, quanti.sup = 1, graph = F)"
   ]
  },
  {
   "cell_type": "code",
   "execution_count": 81,
   "metadata": {},
   "outputs": [
    {
     "data": {
      "image/png": "[encoded data removed]",
      "text/plain": [
       "plot without title"
      ]
     },
     "metadata": {},
     "output_type": "display_data"
    }
   ],
   "source": [
    "options(repr.plot.width = 8, repr.plot.height = 5)\n",
    "fviz_pca_ind (res.verif,\n",
    "              geom = c('point', 'text'),\n",
    "              habillage = 1,\n",
    "              pointsize = 2,\n",
    "              labelsize = 3,\n",
    "              palette = c(\"#FC4E07\", \"#00AFBB\"),\n",
    "              addEllipses = TRUE\n",
    "             )"
   ]
  }
 ],
 "metadata": {
  "kernelspec": {
   "display_name": "R",
   "language": "R",
   "name": "ir"
  },
  "language_info": {
   "codemirror_mode": "r",
   "file_extension": ".r",
   "mimetype": "text/x-r-source",
   "name": "R",
   "pygments_lexer": "r",
   "version": "3.6.1"
  }
 },
 "nbformat": 4,
 "nbformat_minor": 2
}
